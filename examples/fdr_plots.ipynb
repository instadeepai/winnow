{
 "cells": [
  {
   "cell_type": "code",
   "execution_count": null,
   "metadata": {},
   "outputs": [],
   "source": [
    "# -- Import\n",
    "from winnow.calibration.calibration_features import (\n",
    "    PrositFeatures,\n",
    "    MassErrorFeature,\n",
    "    RetentionTimeFeature,\n",
    "    ChimericFeatures,\n",
    "    BeamFeatures,\n",
    ")\n",
    "from winnow.calibration.calibrator import ProbabilityCalibrator\n",
    "from winnow.datasets.calibration_dataset import RESIDUE_MASSES, CalibrationDataset\n",
    "\n",
    "from winnow.fdr.database_grounded import DatabaseGroundedFDRControl\n",
    "from winnow.fdr.bayes import EmpiricalBayesFDRControl\n",
    "\n",
    "import logging\n",
    "from pathlib import Path\n",
    "\n",
    "import numpy as np\n",
    "import pandas as pd\n",
    "\n",
    "from sklearn.model_selection import train_test_split\n",
    "\n",
    "import seaborn.objects as so\n",
    "from seaborn import axes_style\n",
    "\n",
    "theme_dict = {**axes_style(\"whitegrid\"), \"grid.linestyle\": \":\"}"
   ]
  },
  {
   "cell_type": "code",
   "execution_count": null,
   "metadata": {},
   "outputs": [],
   "source": [
    "# -- Set up logging\n",
    "logger = logging.getLogger(__name__)\n",
    "logger.setLevel(logging.INFO)\n",
    "logger.addHandler(logging.StreamHandler())"
   ]
  },
  {
   "cell_type": "code",
   "execution_count": null,
   "metadata": {},
   "outputs": [],
   "source": [
    "# -- Load data\n",
    "SPECIES = \"hela_qc\"\n",
    "PREDICTIONS_PATH = Path(f\"../winnow_data/validation/{SPECIES}_labelled_kpreds.csv\")\n",
    "BEAM_PREDICTIONS_PATH = Path(f\"../winnow_data/validation/beam/{SPECIES}\")\n",
    "SPECTRUM_PATH = Path(f\"../winnow_data/validation_datasets/{SPECIES}_remapped.ipc\")\n",
    "\n",
    "logger.info(\"Loading dataset.\")\n",
    "dataset = CalibrationDataset.from_predictions_csv(\n",
    "    beam_predictions_path=BEAM_PREDICTIONS_PATH,\n",
    "    spectrum_path=SPECTRUM_PATH,\n",
    "    predictions_path=PREDICTIONS_PATH,\n",
    ")\n",
    "\n",
    "# PREDICTIONS_PATH = '/home/amandlamabona/Resources/Predictions/casanovo/s_brodae.mztab'\n",
    "# MGF_PATH = Path('/home/amandlamabona/Resources/Data/validation_datasets/mgf/20230608_EV_EVO_KK_FAIMS_2CV_Endurance_30SPD_1475_Sbrodae.mgf')\n",
    "# LABELLED_PATH = Path('/home/amandlamabona/Resources/Data/validation_datasets/s_brodae_remapped.ipc')\n",
    "\n",
    "# logger.info('Loading dataset.')\n",
    "# dataset = CalibrationDataset.from_predictions_mztab(\n",
    "#     mgf_path=MGF_PATH,\n",
    "#     labelled_path=LABELLED_PATH,\n",
    "#     predictions_path=PREDICTIONS_PATH\n",
    "# )\n",
    "\n",
    "\n",
    "# PREDICTIONS_PATH = Path('/home/amandlamabona/Resources/Predictions/pointnovo_predictions/yeast_predictions.tsv')\n",
    "# MGF_PATH = Path('/home/amandlamabona/Resources/Predictions/pointnovo_predictions/yeast.mgf')\n",
    "\n",
    "# logger.info('Loading dataset.')\n",
    "# dataset = CalibrationDataset.from_pointnovo_predictions(\n",
    "#     mgf_path=MGF_PATH,\n",
    "#     predictions_path=PREDICTIONS_PATH\n",
    "# )\n",
    "\n",
    "\n",
    "# TODO: use separate dataset\n",
    "# evaluation_dataset = CalibrationDataset.from_predictions_csv(\n",
    "#     beam_predictions_path=BEAM_PREDICTIONS_PATH,\n",
    "#     spectrum_path=SPECTRUM_PATH,\n",
    "#     predictions_path=PREDICTIONS_PATH\n",
    "# )\n",
    "\n",
    "logger.info(\"Filtering dataset.\")\n",
    "# TODO: confirm only low confidence identifications\n",
    "filtered_dataset = (\n",
    "    dataset.filter_entries(\n",
    "        metadata_predicate=lambda row: not isinstance(row[\"prediction\"], list),\n",
    "    )\n",
    "    .filter_entries(\n",
    "        metadata_predicate=lambda row: \"N(+.98)\" in row[\"prediction\"],\n",
    "    )\n",
    "    .filter_entries(\n",
    "        metadata_predicate=lambda row: \"Q(+.98)\" in row[\"prediction\"],\n",
    "    )\n",
    "    .filter_entries(metadata_predicate=lambda row: not row[\"prediction\"])\n",
    ")\n",
    "\n",
    "TEST_FRACTION = 0.2\n",
    "RANDOM_STATE = 42\n",
    "train, test = train_test_split(\n",
    "    filtered_dataset, test_size=TEST_FRACTION, random_state=RANDOM_STATE\n",
    ")\n",
    "\n",
    "train_metadata, train_predictions = zip(*train)\n",
    "train_dataset = CalibrationDataset(\n",
    "    metadata=pd.DataFrame(train_metadata).reset_index(drop=True),\n",
    "    predictions=list(train_predictions),\n",
    ")\n",
    "\n",
    "test_metadata, test_predictions = zip(*test)\n",
    "test_dataset = CalibrationDataset(\n",
    "    metadata=pd.DataFrame(test_metadata).reset_index(drop=True),\n",
    "    predictions=list(test_predictions),\n",
    ")"
   ]
  },
  {
   "cell_type": "code",
   "execution_count": null,
   "metadata": {},
   "outputs": [],
   "source": [
    "# -- Set up calibrator\n",
    "logger.info(\"Initializing calibrator.\")\n",
    "SEED = 42\n",
    "calibrator = ProbabilityCalibrator(SEED)\n",
    "\n",
    "logger.info(\"Adding features to calibrator.\")\n",
    "MZ_TOLERANCE = 0.02\n",
    "HIDDEN_DIM = 10\n",
    "TRAIN_FRACTION = 0.1\n",
    "calibrator.add_feature(MassErrorFeature(residue_masses=RESIDUE_MASSES))\n",
    "calibrator.add_feature(PrositFeatures(mz_tolerance=MZ_TOLERANCE))\n",
    "calibrator.add_feature(\n",
    "    RetentionTimeFeature(hidden_dim=HIDDEN_DIM, train_fraction=TRAIN_FRACTION)\n",
    ")\n",
    "calibrator.add_feature(ChimericFeatures(mz_tolerance=MZ_TOLERANCE))\n",
    "calibrator.add_feature(BeamFeatures())"
   ]
  },
  {
   "cell_type": "code",
   "execution_count": null,
   "metadata": {},
   "outputs": [],
   "source": [
    "len(test_dataset)"
   ]
  },
  {
   "cell_type": "code",
   "execution_count": null,
   "metadata": {},
   "outputs": [],
   "source": [
    "train_dataset.metadata"
   ]
  },
  {
   "cell_type": "code",
   "execution_count": null,
   "metadata": {},
   "outputs": [],
   "source": [
    "# -- Calibrate\n",
    "logger.info(\"Calibrating scores.\")\n",
    "calibrator.fit(train_dataset)\n",
    "calibrator.predict(test_dataset)"
   ]
  },
  {
   "cell_type": "code",
   "execution_count": null,
   "metadata": {},
   "outputs": [],
   "source": [
    "test_dataset.metadata"
   ]
  },
  {
   "cell_type": "code",
   "execution_count": null,
   "metadata": {},
   "outputs": [],
   "source": [
    "# -- Evaluate and plot\n",
    "def compute_roc_curve(\n",
    "    input_dataset: CalibrationDataset,\n",
    "    confidence_column: str,\n",
    "    label_column: str,\n",
    "    name: str,\n",
    ") -> pd.DataFrame:\n",
    "    original = input_dataset.metadata[[confidence_column, label_column]].copy(deep=True)\n",
    "    original = original.sort_values(by=confidence_column, ascending=False)\n",
    "    cum_correct = np.cumsum(original[label_column])\n",
    "    precision = cum_correct / np.arange(1, len(original) + 1)\n",
    "    recall = cum_correct / len(original)\n",
    "    metrics = pd.DataFrame({\"precision\": precision, \"recall\": recall}).reset_index(\n",
    "        drop=True\n",
    "    )\n",
    "    metrics[\"name\"] = name\n",
    "    return metrics"
   ]
  },
  {
   "cell_type": "code",
   "execution_count": null,
   "metadata": {},
   "outputs": [],
   "source": [
    "original = compute_roc_curve(\n",
    "    input_dataset=test_dataset,\n",
    "    confidence_column=\"confidence\",\n",
    "    label_column=\"correct\",\n",
    "    name=\"Original\",\n",
    ")\n",
    "calibrated = compute_roc_curve(\n",
    "    input_dataset=test_dataset,\n",
    "    confidence_column=\"calibrated_confidence\",\n",
    "    label_column=\"correct\",\n",
    "    name=\"Calibrated\",\n",
    ")\n",
    "metrics = pd.concat([original, calibrated], axis=0).reset_index(drop=True)\n",
    "metrics[\"fdr\"] = 1 - metrics[\"precision\"]\n",
    "\n",
    "plot = so.Plot(metrics, x=\"recall\", y=\"precision\", color=\"name\")\n",
    "plot = plot.add(so.Line(), group=\"name\")\n",
    "plot = plot.theme(theme_dict)\n",
    "plot = plot.label(\n",
    "    y=\"Precision\", x=\"Recall\", title=\"ROC curve for original and calibrated confidence\"\n",
    ")\n",
    "plot"
   ]
  },
  {
   "cell_type": "code",
   "execution_count": null,
   "metadata": {},
   "outputs": [],
   "source": [
    "# TODO: quantify confidence shift\n",
    "data = test_dataset.metadata[[\"confidence\", \"calibrated_confidence\", \"correct\"]].copy(\n",
    "    deep=True\n",
    ")\n",
    "data[\"correct\"] = pd.Categorical(data[\"correct\"])\n",
    "\n",
    "so.Plot(data, x=\"confidence\", y=\"calibrated_confidence\", color=\"correct\").add(\n",
    "    so.Dot(alpha=0.2)\n",
    ").add(\n",
    "    so.Line(color=\"black\", linestyle=\"-\"),\n",
    "    data=pd.DataFrame(\n",
    "        {\n",
    "            \"confidence\": [0.0, 1.0],\n",
    "            \"calibrated_confidence\": [0.0, 1.0],\n",
    "            \"correct\": [\"Null\", \"Null\"],\n",
    "        }\n",
    "    ),\n",
    ")"
   ]
  },
  {
   "cell_type": "code",
   "execution_count": null,
   "metadata": {},
   "outputs": [],
   "source": [
    "plot_df = test_dataset.metadata[[\"confidence\", \"correct\"]].copy(deep=True)\n",
    "plot_df[\"correct\"] = plot_df[\"correct\"].apply(lambda x: \"T\" if x else \"F\")\n",
    "so.Plot(plot_df, \"confidence\").add(so.Bars(), so.Hist(bins=100), color=\"correct\")"
   ]
  },
  {
   "cell_type": "code",
   "execution_count": null,
   "metadata": {},
   "outputs": [],
   "source": [
    "plot_df[plot_df[\"confidence\"] < 1e-1]"
   ]
  },
  {
   "cell_type": "code",
   "execution_count": null,
   "metadata": {},
   "outputs": [],
   "source": [
    "plot_df = test_dataset.metadata[[\"calibrated_confidence\", \"correct\"]].copy(deep=True)\n",
    "plot_df[\"correct\"] = plot_df[\"correct\"].apply(lambda x: \"T\" if x else \"F\")\n",
    "so.Plot(plot_df, \"calibrated_confidence\").add(\n",
    "    so.Bars(), so.Hist(bins=100), color=\"correct\"\n",
    ")"
   ]
  },
  {
   "cell_type": "code",
   "execution_count": null,
   "metadata": {},
   "outputs": [],
   "source": [
    "plot_df[plot_df[\"calibrated_confidence\"] < 1e-1]"
   ]
  },
  {
   "cell_type": "code",
   "execution_count": null,
   "metadata": {},
   "outputs": [],
   "source": [
    "database_grounded_fdr_control = DatabaseGroundedFDRControl()\n",
    "database_grounded_fdr_control.fit(\n",
    "    dataset=test_dataset.metadata, residue_masses=RESIDUE_MASSES\n",
    ")\n",
    "\n",
    "mixture_fdr_control = EmpiricalBayesFDRControl()\n",
    "mixture_fdr_control.fit(dataset=test_dataset.metadata[\"confidence\"])"
   ]
  },
  {
   "cell_type": "code",
   "execution_count": null,
   "metadata": {},
   "outputs": [],
   "source": [
    "mixture_fdr_control.get_confidence_cutoff(threshold=0.05)"
   ]
  },
  {
   "cell_type": "code",
   "execution_count": null,
   "metadata": {},
   "outputs": [],
   "source": [
    "mixture_fdr_control = EmpiricalBayesFDRControl()\n",
    "mixture_fdr_control.fit(dataset=test_dataset.metadata[\"calibrated_confidence\"])\n",
    "mixture_fdr_control.get_confidence_cutoff(threshold=0.05)"
   ]
  }
 ],
 "metadata": {
  "kernelspec": {
   "display_name": ".venv",
   "language": "python",
   "name": "python3"
  },
  "language_info": {
   "codemirror_mode": {
    "name": "ipython",
    "version": 3
   },
   "file_extension": ".py",
   "mimetype": "text/x-python",
   "name": "python",
   "nbconvert_exporter": "python",
   "pygments_lexer": "ipython3",
   "version": "3.9.0"
  }
 },
 "nbformat": 4,
 "nbformat_minor": 2
}
