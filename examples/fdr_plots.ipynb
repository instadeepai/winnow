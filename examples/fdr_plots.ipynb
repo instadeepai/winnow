{
 "cells": [
  {
   "cell_type": "code",
   "execution_count": null,
   "metadata": {},
   "outputs": [],
   "source": [
    "# -- Import\n",
    "from winnow.calibration.calibration_features import (\n",
    "    PrositFeatures,\n",
    "    MassErrorFeature,\n",
    "    RetentionTimeFeature,\n",
    "    ChimericFeatures,\n",
    "    BeamFeatures,\n",
    ")\n",
    "from winnow.calibration.calibrator import ProbabilityCalibrator\n",
    "from winnow.datasets.calibration_dataset import RESIDUE_MASSES, CalibrationDataset\n",
    "\n",
    "from winnow.fdr.database_grounded import DatabaseGroundedFDRControl\n",
    "from winnow.fdr.bayes import EmpiricalBayesFDRControl\n",
    "\n",
    "import logging\n",
    "\n",
    "import numpy as np\n",
    "import pandas as pd\n",
    "import ast\n",
    "\n",
    "from sklearn.model_selection import train_test_split\n",
    "\n",
    "import seaborn.objects as so\n",
    "from seaborn import axes_style\n",
    "\n",
    "theme_dict = {**axes_style(\"whitegrid\"), \"grid.linestyle\": \":\"}"
   ]
  },
  {
   "cell_type": "code",
   "execution_count": null,
   "metadata": {},
   "outputs": [],
   "source": [
    "# -- Set up logging\n",
    "logger = logging.getLogger(__name__)\n",
    "logger.setLevel(logging.INFO)\n",
    "logger.addHandler(logging.StreamHandler())"
   ]
  },
  {
   "cell_type": "code",
   "execution_count": null,
   "metadata": {},
   "outputs": [],
   "source": [
    "SPECIES = \"helaqc\"  # [gluc, helaqc, herceptin, immuno, sbrodae, snakevenoms, tplantibodies, woundfluids]"
   ]
  },
  {
   "cell_type": "code",
   "execution_count": null,
   "metadata": {},
   "outputs": [],
   "source": [
    "# -- Create annotated data\n",
    "annotated_data = pd.read_parquet(\n",
    "    f\"/home/j-daniel/Downloads/validation_annotated_dataset-{SPECIES}-annotated-0000-0001.parquet\"\n",
    ")\n",
    "raw_beam_preds = pd.read_csv(f\"/home/j-daniel/Downloads/{SPECIES}_beam_preds.csv\")\n",
    "\n",
    "\n",
    "# Function to safely convert string representations of lists\n",
    "def try_convert(value):\n",
    "    try:\n",
    "        return ast.literal_eval(value)\n",
    "    except (ValueError, SyntaxError):\n",
    "        return value  # Return original value if conversion fails\n",
    "\n",
    "\n",
    "# Apply conversion to all object (string) columns\n",
    "for col in raw_beam_preds.select_dtypes(include=[\"object\"]).columns:\n",
    "    raw_beam_preds[col] = raw_beam_preds[col].apply(try_convert)\n",
    "\n",
    "# Check if scan_number values are unique.\n",
    "unique_scans_beam_preds = raw_beam_preds[\"scan_number\"].nunique() == len(raw_beam_preds)\n",
    "unique_scans_annotated = annotated_data[\"scan_number\"].nunique() == len(annotated_data)\n",
    "\n",
    "if unique_scans_beam_preds and unique_scans_annotated:\n",
    "    print(\"All scan_number values are unique row IDs and can be used to merge.\")\n",
    "else:\n",
    "    raise ValueError(\"Some of the scan_number values are not unique.\")\n",
    "\n",
    "# Check if all scan_number values in annotated_data are in beam_preds\n",
    "missing_values = annotated_data[\n",
    "    ~annotated_data[\"scan_number\"].isin(raw_beam_preds[\"scan_number\"])\n",
    "]\n",
    "\n",
    "if missing_values.empty:\n",
    "    print(\"All scan_number values in annotated_data are present in beam_preds.\")\n",
    "else:\n",
    "    raise ValueError(\n",
    "        f\"Some scan_number values in annotated_data are missing in beam_preds: {missing_values}\"\n",
    "    )\n",
    "\n",
    "annotated_beam_preds = pd.merge(\n",
    "    annotated_data, raw_beam_preds, on=[\"scan_number\"], suffixes=(\"\", \"_from_raw\")\n",
    ")\n",
    "annotated_beam_preds = annotated_beam_preds.drop(\n",
    "    columns=[\n",
    "        col + \"_from_raw\"\n",
    "        for col in raw_beam_preds.columns\n",
    "        if col in annotated_data.columns and col != \"scan_number\"\n",
    "    ],\n",
    "    axis=1,\n",
    ")\n",
    "\n",
    "if len(annotated_beam_preds) != len(annotated_data):\n",
    "    raise ValueError(\n",
    "        f\"Merge conflict: Expected {len(annotated_data)} rows, but got {len(annotated_beam_preds)}.\"\n",
    "    )\n",
    "\n",
    "annotated_beam_preds.to_csv(\n",
    "    f\"/home/j-daniel/Downloads/{SPECIES}-annotated_beam_preds.csv\"\n",
    ")\n",
    "print(\"Annotated beam predictions saved.\")"
   ]
  },
  {
   "cell_type": "code",
   "execution_count": null,
   "metadata": {},
   "outputs": [],
   "source": [
    "# -- Load data\n",
    "logger.info(\"Loading dataset.\")\n",
    "dataset = CalibrationDataset.from_predictions_csv(\n",
    "    spectrum_path=f\"/home/j-daniel/Downloads/validation_annotated_dataset-{SPECIES}-annotated-0000-0001.parquet\",\n",
    "    beam_predictions_path=f\"/home/j-daniel/Downloads/{SPECIES}-annotated_beam_preds.csv\",\n",
    ")\n",
    "\n",
    "logger.info(\"Filtering dataset.\")\n",
    "filtered_dataset = (\n",
    "    dataset.filter_entries(\n",
    "        metadata_predicate=lambda row: not isinstance(row[\"prediction\"], list),\n",
    "    )\n",
    "    .filter_entries(metadata_predicate=lambda row: not row[\"prediction\"])\n",
    "    .filter_entries(\n",
    "        metadata_predicate=lambda row: row[\"precursor_charge\"] > 10\n",
    "    )  # InstaNovo-specific filtering\n",
    ")\n",
    "\n",
    "TEST_FRACTION = 0.2\n",
    "RANDOM_STATE = 42\n",
    "train, test = train_test_split(\n",
    "    filtered_dataset, test_size=TEST_FRACTION, random_state=RANDOM_STATE\n",
    ")\n",
    "\n",
    "train_metadata, train_predictions = zip(*train)\n",
    "train_dataset = CalibrationDataset(\n",
    "    metadata=pd.DataFrame(train_metadata).reset_index(drop=True),\n",
    "    predictions=list(train_predictions),\n",
    ")\n",
    "\n",
    "test_metadata, test_predictions = zip(*test)\n",
    "test_dataset = CalibrationDataset(\n",
    "    metadata=pd.DataFrame(test_metadata).reset_index(drop=True),\n",
    "    predictions=list(test_predictions),\n",
    ")"
   ]
  },
  {
   "cell_type": "code",
   "execution_count": null,
   "metadata": {},
   "outputs": [],
   "source": [
    "print(len(train_dataset))\n",
    "print(len(test_dataset))"
   ]
  },
  {
   "cell_type": "code",
   "execution_count": null,
   "metadata": {},
   "outputs": [],
   "source": [
    "# -- Set up calibrator\n",
    "logger.info(\"Initialising calibrator.\")\n",
    "SEED = 42\n",
    "calibrator = ProbabilityCalibrator(SEED)\n",
    "\n",
    "logger.info(\"Adding features to calibrator.\")\n",
    "MZ_TOLERANCE = 0.02\n",
    "HIDDEN_DIM = 10\n",
    "TRAIN_FRACTION = 0.1\n",
    "calibrator.add_feature(MassErrorFeature(residue_masses=RESIDUE_MASSES))\n",
    "calibrator.add_feature(PrositFeatures(mz_tolerance=MZ_TOLERANCE))\n",
    "calibrator.add_feature(\n",
    "    RetentionTimeFeature(hidden_dim=HIDDEN_DIM, train_fraction=TRAIN_FRACTION)\n",
    ")\n",
    "calibrator.add_feature(ChimericFeatures(mz_tolerance=MZ_TOLERANCE))\n",
    "calibrator.add_feature(BeamFeatures())"
   ]
  },
  {
   "cell_type": "code",
   "execution_count": null,
   "metadata": {},
   "outputs": [],
   "source": [
    "# -- Calibrate\n",
    "logger.info(\"Calibrating scores.\")\n",
    "calibrator.fit(train_dataset)\n",
    "calibrator.predict(test_dataset)"
   ]
  },
  {
   "cell_type": "code",
   "execution_count": null,
   "metadata": {},
   "outputs": [],
   "source": [
    "train_dataset.to_csv(f\"../calibrated_datasets/{SPECIES}_train_labelled.csv\")\n",
    "test_dataset.to_csv(f\"../calibrated_datasets/{SPECIES}_test_labelled.csv\")\n",
    "test_dataset.metadata"
   ]
  },
  {
   "cell_type": "code",
   "execution_count": null,
   "metadata": {},
   "outputs": [],
   "source": [
    "# -- Evaluate and plot\n",
    "def compute_roc_curve(\n",
    "    metadata_path: str,\n",
    "    confidence_column: str,\n",
    "    label_column: str,\n",
    "    name: str,\n",
    ") -> pd.DataFrame:\n",
    "    input_dataset = pd.read_csv(metadata_path)\n",
    "    original = input_dataset[[confidence_column, label_column]]\n",
    "    original = original.sort_values(by=confidence_column, ascending=False)\n",
    "    cum_correct = np.cumsum(original[label_column])\n",
    "    precision = cum_correct / np.arange(1, len(original) + 1)\n",
    "    recall = cum_correct / len(original)\n",
    "    metrics = pd.DataFrame({\"precision\": precision, \"recall\": recall}).reset_index(\n",
    "        drop=True\n",
    "    )\n",
    "    metrics[\"name\"] = name\n",
    "    return metrics"
   ]
  },
  {
   "cell_type": "code",
   "execution_count": null,
   "metadata": {},
   "outputs": [],
   "source": [
    "original = compute_roc_curve(\n",
    "    metadata_path=f\"../calibrated_datasets/{SPECIES}_test_labelled.csv\",\n",
    "    confidence_column=\"confidence\",\n",
    "    label_column=\"correct\",\n",
    "    name=\"Original\",\n",
    ")\n",
    "calibrated = compute_roc_curve(\n",
    "    metadata_path=f\"../calibrated_datasets/{SPECIES}_test_labelled.csv\",\n",
    "    confidence_column=\"calibrated_confidence\",\n",
    "    label_column=\"correct\",\n",
    "    name=\"Calibrated\",\n",
    ")\n",
    "metrics = pd.concat([original, calibrated], axis=0).reset_index(drop=True)\n",
    "metrics[\"fdr\"] = 1 - metrics[\"precision\"]\n",
    "\n",
    "plot = so.Plot(metrics, x=\"recall\", y=\"precision\", color=\"name\")\n",
    "plot = plot.add(so.Line(), group=\"name\")\n",
    "plot = plot.theme(theme_dict)\n",
    "plot = plot.label(\n",
    "    y=\"Precision\", x=\"Recall\", title=\"ROC curve for original and calibrated confidence\"\n",
    ")\n",
    "plot"
   ]
  },
  {
   "cell_type": "code",
   "execution_count": null,
   "metadata": {},
   "outputs": [],
   "source": [
    "# Read CSV\n",
    "test_dataset_metadata = pd.read_csv(\n",
    "    f\"../calibrated_datasets/{SPECIES}_test_labelled.csv\"\n",
    ")\n",
    "\n",
    "\n",
    "def try_convert(value):\n",
    "    try:\n",
    "        return ast.literal_eval(value)\n",
    "    except (ValueError, SyntaxError):\n",
    "        return value  # Return original value if conversion fails\n",
    "\n",
    "\n",
    "# Apply conversion to all object (string) columns\n",
    "for col in test_dataset_metadata.select_dtypes(include=[\"object\"]).columns:\n",
    "    test_dataset_metadata[col] = test_dataset_metadata[col].apply(try_convert)"
   ]
  },
  {
   "cell_type": "code",
   "execution_count": null,
   "metadata": {},
   "outputs": [],
   "source": [
    "data = test_dataset_metadata[[\"confidence\", \"calibrated_confidence\", \"correct\"]].copy(\n",
    "    deep=True\n",
    ")\n",
    "data[\"correct\"] = pd.Categorical(data[\"correct\"])\n",
    "\n",
    "so.Plot(data, x=\"confidence\", y=\"calibrated_confidence\", color=\"correct\").add(\n",
    "    so.Dot(alpha=0.2)\n",
    ").add(\n",
    "    so.Line(color=\"black\", linestyle=\"-\"),\n",
    "    data=pd.DataFrame(\n",
    "        {\n",
    "            \"confidence\": [0.0, 1.0],\n",
    "            \"calibrated_confidence\": [0.0, 1.0],\n",
    "            \"correct\": [\"Null\", \"Null\"],\n",
    "        }\n",
    "    ),\n",
    ")"
   ]
  },
  {
   "cell_type": "code",
   "execution_count": null,
   "metadata": {},
   "outputs": [],
   "source": [
    "plot_df = test_dataset_metadata[[\"confidence\", \"correct\"]].copy(deep=True)\n",
    "plot_df[\"correct\"] = plot_df[\"correct\"].apply(lambda x: \"T\" if x else \"F\")\n",
    "so.Plot(plot_df, \"confidence\").add(so.Bars(), so.Hist(bins=100), color=\"correct\")"
   ]
  },
  {
   "cell_type": "code",
   "execution_count": null,
   "metadata": {},
   "outputs": [],
   "source": [
    "plot_df = test_dataset_metadata[[\"calibrated_confidence\", \"correct\"]].copy(deep=True)\n",
    "plot_df[\"correct\"] = plot_df[\"correct\"].apply(lambda x: \"T\" if x else \"F\")\n",
    "so.Plot(plot_df, \"calibrated_confidence\").add(\n",
    "    so.Bars(), so.Hist(bins=100), color=\"correct\"\n",
    ")"
   ]
  },
  {
   "cell_type": "code",
   "execution_count": null,
   "metadata": {},
   "outputs": [],
   "source": [
    "database_grounded_fdr_control = DatabaseGroundedFDRControl(\n",
    "    confidence_feature=\"confidence\"\n",
    ")\n",
    "database_grounded_fdr_control.fit(\n",
    "    dataset=test_dataset_metadata, residue_masses=RESIDUE_MASSES\n",
    ")\n",
    "database_grounded_fdr_control.get_confidence_cutoff(threshold=0.05)"
   ]
  },
  {
   "cell_type": "code",
   "execution_count": null,
   "metadata": {},
   "outputs": [],
   "source": [
    "mixture_fdr_control = EmpiricalBayesFDRControl()\n",
    "mixture_fdr_control.fit(dataset=test_dataset_metadata[\"confidence\"], lr=0.0001)\n",
    "mixture_fdr_control.get_confidence_cutoff(threshold=0.05)"
   ]
  },
  {
   "cell_type": "code",
   "execution_count": null,
   "metadata": {},
   "outputs": [],
   "source": [
    "mixture_fdr_control = EmpiricalBayesFDRControl()\n",
    "mixture_fdr_control.fit(dataset=test_dataset_metadata[\"calibrated_confidence\"])\n",
    "mixture_fdr_control.get_confidence_cutoff(threshold=0.05)"
   ]
  },
  {
   "cell_type": "code",
   "execution_count": null,
   "metadata": {},
   "outputs": [],
   "source": [
    "# -- Load the raw, unlabelled data\n",
    "logger.info(\"Loading raw dataset.\")\n",
    "dataset = CalibrationDataset.from_predictions_csv(\n",
    "    spectrum_path=f\"/home/j-daniel/Downloads/validation_raw_dataset-{SPECIES}-raw-0000-0001.parquet\",\n",
    "    beam_predictions_path=f\"/home/j-daniel/Downloads/{SPECIES}_beam_preds.csv\",\n",
    ")\n",
    "\n",
    "logger.info(\"Filtering dataset.\")\n",
    "raw_filtered_dataset = (\n",
    "    dataset.filter_entries(\n",
    "        metadata_predicate=lambda row: not isinstance(row[\"prediction\"], list),\n",
    "    )\n",
    "    .filter_entries(metadata_predicate=lambda row: not row[\"prediction\"])\n",
    "    .filter_entries(\n",
    "        metadata_predicate=lambda row: row[\"precursor_charge\"] > 10\n",
    "    )  # InstaNovo-specific filtering\n",
    ")\n",
    "\n",
    "# -- Predict on the raw, unlabelled data\n",
    "calibrator.predict(raw_filtered_dataset)\n",
    "\n",
    "raw_filtered_dataset.to_csv(f\"../calibrated_datasets/{SPECIES}_raw_preds.csv\")"
   ]
  }
 ],
 "metadata": {
  "kernelspec": {
   "display_name": ".venv",
   "language": "python",
   "name": "python3"
  },
  "language_info": {
   "codemirror_mode": {
    "name": "ipython",
    "version": 3
   },
   "file_extension": ".py",
   "mimetype": "text/x-python",
   "name": "python",
   "nbconvert_exporter": "python",
   "pygments_lexer": "ipython3",
   "version": "3.12.7"
  }
 },
 "nbformat": 4,
 "nbformat_minor": 2
}
