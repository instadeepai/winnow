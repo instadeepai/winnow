{
 "cells": [
  {
   "cell_type": "code",
   "execution_count": null,
   "metadata": {},
   "outputs": [],
   "source": [
    "# -- Import\n",
    "from winnow.calibration.calibrator import ProbabilityCalibrator\n",
    "from winnow.datasets.calibration_dataset import RESIDUE_MASSES, CalibrationDataset\n",
    "\n",
    "from winnow.fdr.database_grounded import DatabaseGroundedFDRControl\n",
    "from winnow.fdr.nonparametric import NonParametricFDRControl\n",
    "\n",
    "import logging\n",
    "\n",
    "import numpy as np\n",
    "import pandas as pd\n",
    "from pathlib import Path\n",
    "\n",
    "from sklearn.model_selection import train_test_split\n",
    "\n",
    "import seaborn.objects as so\n",
    "from seaborn import axes_style\n",
    "\n",
    "theme_dict = {**axes_style(\"whitegrid\"), \"grid.linestyle\": \":\"}"
   ]
  },
  {
   "cell_type": "code",
   "execution_count": null,
   "metadata": {},
   "outputs": [],
   "source": [
    "# -- Set up logging\n",
    "logger = logging.getLogger(__name__)\n",
    "logger.setLevel(logging.INFO)\n",
    "logger.addHandler(logging.StreamHandler())"
   ]
  },
  {
   "cell_type": "code",
   "execution_count": null,
   "metadata": {},
   "outputs": [],
   "source": [
    "SPECIES = \"immuno\"  # [gluc, helaqc, herceptin, immuno, sbrodae, snakevenoms, tplantibodies, woundfluids]"
   ]
  },
  {
   "cell_type": "code",
   "execution_count": null,
   "metadata": {},
   "outputs": [],
   "source": [
    "# -- Load data\n",
    "logger.info(\"Loading dataset.\")\n",
    "dataset = CalibrationDataset.from_predictions_csv(\n",
    "    spectrum_path=f\"../input_data/spectrum_data/labelled/dataset-{SPECIES}-annotated-0000-0001.parquet\",\n",
    "    beam_predictions_path=f\"../input_data/beam_preds/labelled/{SPECIES}-annotated_beam_preds.csv\",\n",
    ")\n",
    "\n",
    "logger.info(\"Filtering dataset.\")\n",
    "filtered_dataset = (\n",
    "    dataset.filter_entries(\n",
    "        metadata_predicate=lambda row: not isinstance(row[\"prediction\"], list),\n",
    "    )\n",
    "    .filter_entries(metadata_predicate=lambda row: not row[\"prediction\"])\n",
    "    .filter_entries(\n",
    "        metadata_predicate=lambda row: row[\"precursor_charge\"] > 6\n",
    "    )  # Prosit-specific filtering, see https://github.com/Nesvilab/FragPipe/issues/1775\n",
    "    .filter_entries(\n",
    "        metadata_predicate=lambda row: len(row[\"prediction\"]) > 30\n",
    "    )  # Prosit-specific filtering\n",
    "    .filter_entries(\n",
    "        predictions_predicate=lambda row: len(row[1].sequence) > 30\n",
    "    )  # Prosit-specific filtering\n",
    ")\n",
    "\n",
    "TEST_FRACTION = 0.2\n",
    "RANDOM_STATE = 42\n",
    "train, test = train_test_split(\n",
    "    filtered_dataset, test_size=TEST_FRACTION, random_state=RANDOM_STATE\n",
    ")\n",
    "\n",
    "train_metadata, train_predictions = zip(*train)\n",
    "train_dataset = CalibrationDataset(\n",
    "    metadata=pd.DataFrame(train_metadata).reset_index(drop=True),\n",
    "    predictions=list(train_predictions),\n",
    ")\n",
    "\n",
    "test_metadata, test_predictions = zip(*test)\n",
    "test_dataset = CalibrationDataset(\n",
    "    metadata=pd.DataFrame(test_metadata).reset_index(drop=True),\n",
    "    predictions=list(test_predictions),\n",
    ")"
   ]
  },
  {
   "cell_type": "code",
   "execution_count": null,
   "metadata": {},
   "outputs": [],
   "source": [
    "print(len(train_dataset))\n",
    "print(len(test_dataset))"
   ]
  },
  {
   "cell_type": "code",
   "execution_count": null,
   "metadata": {},
   "outputs": [],
   "source": [
    "logger.info(\"Loading calibrator.\")\n",
    "calibrator = ProbabilityCalibrator.load(Path(f\"../checkpoints/{SPECIES}\"))"
   ]
  },
  {
   "cell_type": "code",
   "execution_count": null,
   "metadata": {},
   "outputs": [],
   "source": [
    "logger.info(\"Calibrating scores.\")\n",
    "calibrator.predict(test_dataset)"
   ]
  },
  {
   "cell_type": "code",
   "execution_count": null,
   "metadata": {},
   "outputs": [],
   "source": [
    "# -- Evaluate and plot\n",
    "def compute_roc_curve(\n",
    "    input_dataset: pd.DataFrame,\n",
    "    confidence_column: str,\n",
    "    label_column: str,\n",
    "    name: str,\n",
    ") -> pd.DataFrame:\n",
    "    original = input_dataset[[confidence_column, label_column]]\n",
    "    original = original.sort_values(by=confidence_column, ascending=False)\n",
    "    cum_correct = np.cumsum(original[label_column])\n",
    "    precision = cum_correct / np.arange(1, len(original) + 1)\n",
    "    recall = cum_correct / len(original)\n",
    "    metrics = pd.DataFrame({\"precision\": precision, \"recall\": recall}).reset_index(\n",
    "        drop=True\n",
    "    )\n",
    "    metrics[\"name\"] = name\n",
    "    return metrics"
   ]
  },
  {
   "cell_type": "code",
   "execution_count": null,
   "metadata": {},
   "outputs": [],
   "source": [
    "original = compute_roc_curve(\n",
    "    input_dataset=test_dataset.metadata,\n",
    "    confidence_column=\"confidence\",\n",
    "    label_column=\"correct\",\n",
    "    name=\"Original\",\n",
    ")\n",
    "calibrated = compute_roc_curve(\n",
    "    input_dataset=test_dataset.metadata,\n",
    "    confidence_column=\"calibrated_confidence\",\n",
    "    label_column=\"correct\",\n",
    "    name=\"Calibrated\",\n",
    ")\n",
    "metrics = pd.concat([original, calibrated], axis=0).reset_index(drop=True)\n",
    "metrics[\"fdr\"] = 1 - metrics[\"precision\"]\n",
    "\n",
    "plot = so.Plot(metrics, x=\"recall\", y=\"precision\", color=\"name\")\n",
    "plot = plot.add(so.Line(), group=\"name\")\n",
    "plot = plot.theme(theme_dict)\n",
    "plot = plot.label(\n",
    "    y=\"Precision\", x=\"Recall\", title=\"ROC curve for original and calibrated confidence\"\n",
    ")\n",
    "plot"
   ]
  },
  {
   "cell_type": "code",
   "execution_count": null,
   "metadata": {},
   "outputs": [],
   "source": [
    "plot_df = test_dataset.metadata[[\"confidence\", \"correct\"]].copy(deep=True)\n",
    "plot_df[\"correct\"] = plot_df[\"correct\"].apply(lambda x: \"T\" if x else \"F\")\n",
    "so.Plot(plot_df, \"confidence\").add(so.Bars(), so.Hist(bins=100), color=\"correct\")"
   ]
  },
  {
   "cell_type": "code",
   "execution_count": null,
   "metadata": {},
   "outputs": [],
   "source": [
    "plot_df = test_dataset.metadata[[\"calibrated_confidence\", \"correct\"]].copy(deep=True)\n",
    "plot_df[\"correct\"] = plot_df[\"correct\"].apply(lambda x: \"T\" if x else \"F\")\n",
    "so.Plot(plot_df, \"calibrated_confidence\").add(\n",
    "    so.Bars(), so.Hist(bins=100), color=\"correct\"\n",
    ")"
   ]
  },
  {
   "cell_type": "code",
   "execution_count": null,
   "metadata": {},
   "outputs": [],
   "source": [
    "database_grounded_fdr_control = DatabaseGroundedFDRControl(\n",
    "    confidence_feature=\"confidence\"\n",
    ")\n",
    "database_grounded_fdr_control.fit(\n",
    "    dataset=test_dataset.metadata, residue_masses=RESIDUE_MASSES\n",
    ")\n",
    "database_grounded_fdr_control.get_confidence_cutoff(threshold=0.05)"
   ]
  },
  {
   "cell_type": "code",
   "execution_count": null,
   "metadata": {},
   "outputs": [],
   "source": [
    "non_parametric_fdr_control = NonParametricFDRControl()\n",
    "non_parametric_fdr_control.fit(dataset=test_dataset.metadata[\"confidence\"])\n",
    "non_parametric_fdr_control.get_confidence_cutoff(threshold=0.05)"
   ]
  },
  {
   "cell_type": "code",
   "execution_count": null,
   "metadata": {},
   "outputs": [],
   "source": [
    "database_grounded_fdr_control = DatabaseGroundedFDRControl(\n",
    "    confidence_feature=\"calibrated_confidence\"\n",
    ")\n",
    "database_grounded_fdr_control.fit(\n",
    "    dataset=test_dataset.metadata, residue_masses=RESIDUE_MASSES\n",
    ")\n",
    "database_grounded_fdr_control.get_confidence_cutoff(threshold=0.05)"
   ]
  },
  {
   "cell_type": "code",
   "execution_count": null,
   "metadata": {},
   "outputs": [],
   "source": [
    "non_parametric_fdr_control = NonParametricFDRControl()\n",
    "non_parametric_fdr_control.fit(dataset=test_dataset.metadata[\"calibrated_confidence\"])\n",
    "non_parametric_fdr_control.get_confidence_cutoff(threshold=0.05)"
   ]
  },
  {
   "cell_type": "code",
   "execution_count": null,
   "metadata": {},
   "outputs": [],
   "source": [
    "test_dataset_metadata = non_parametric_fdr_control.add_psm_fdr(\n",
    "    test_dataset.metadata, \"calibrated_confidence\"\n",
    ")\n",
    "test_dataset_metadata = non_parametric_fdr_control.add_psm_pep(\n",
    "    test_dataset.metadata, \"calibrated_confidence\"\n",
    ")\n",
    "\n",
    "test_dataset_metadata"
   ]
  }
 ],
 "metadata": {
  "kernelspec": {
   "display_name": ".venv",
   "language": "python",
   "name": "python3"
  },
  "language_info": {
   "codemirror_mode": {
    "name": "ipython",
    "version": 3
   },
   "file_extension": ".py",
   "mimetype": "text/x-python",
   "name": "python",
   "nbconvert_exporter": "python",
   "pygments_lexer": "ipython3",
   "version": "3.12.7"
  }
 },
 "nbformat": 4,
 "nbformat_minor": 2
}
