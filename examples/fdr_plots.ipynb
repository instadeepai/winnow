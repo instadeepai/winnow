{
 "cells": [
  {
   "cell_type": "code",
   "execution_count": null,
   "metadata": {},
   "outputs": [],
   "source": [
    "# -- Import\n",
    "from winnow.calibration.calibration_features import (\n",
    "    PrositFeatures,\n",
    "    MassErrorFeature,\n",
    "    RetentionTimeFeature,\n",
    "    ChimericFeatures,\n",
    "    BeamFeatures,\n",
    ")\n",
    "from winnow.calibration.calibrator import ProbabilityCalibrator\n",
    "from winnow.datasets.calibration_dataset import RESIDUE_MASSES, CalibrationDataset\n",
    "\n",
    "from winnow.fdr.database_grounded import DatabaseGroundedFDRControl\n",
    "from winnow.fdr.nonparametric import NonParametricFDRControl\n",
    "\n",
    "import logging\n",
    "\n",
    "import numpy as np\n",
    "import pandas as pd\n",
    "import ast\n",
    "\n",
    "from sklearn.model_selection import train_test_split\n",
    "\n",
    "import seaborn.objects as so\n",
    "from seaborn import axes_style\n",
    "\n",
    "theme_dict = {**axes_style(\"whitegrid\"), \"grid.linestyle\": \":\"}"
   ]
  },
  {
   "cell_type": "code",
   "execution_count": null,
   "metadata": {},
   "outputs": [],
   "source": [
    "# -- Set up logging\n",
    "logger = logging.getLogger(__name__)\n",
    "logger.setLevel(logging.INFO)\n",
    "logger.addHandler(logging.StreamHandler())"
   ]
  },
  {
   "cell_type": "code",
   "execution_count": null,
   "metadata": {},
   "outputs": [],
   "source": [
    "SPECIES = \"helaqc\"  # [gluc, helaqc, herceptin, immuno, sbrodae, snakevenoms, tplantibodies, woundfluids]"
   ]
  },
  {
   "cell_type": "code",
   "execution_count": null,
   "metadata": {},
   "outputs": [],
   "source": [
    "# Load data\n",
    "annotated_data = pd.read_parquet(\n",
    "    f\"../input_data/spectrum_data/labelled/dataset-{SPECIES}-annotated-0000-0001.parquet\"\n",
    ")\n",
    "raw_beam_preds = pd.read_csv(f\"../input_data/beam_preds/raw/{SPECIES}_beam_preds.csv\")"
   ]
  },
  {
   "cell_type": "code",
   "execution_count": null,
   "metadata": {},
   "outputs": [],
   "source": [
    "# Function to safely convert string representations of lists\n",
    "def try_convert(value):\n",
    "    try:\n",
    "        return ast.literal_eval(value)\n",
    "    except (ValueError, SyntaxError):\n",
    "        return value  # Return original if conversion fails\n",
    "\n",
    "\n",
    "# Apply conversion to object (string) columns\n",
    "for col in raw_beam_preds.select_dtypes(include=[\"object\"]).columns:\n",
    "    raw_beam_preds[col] = raw_beam_preds[col].apply(try_convert)"
   ]
  },
  {
   "cell_type": "code",
   "execution_count": null,
   "metadata": {},
   "outputs": [],
   "source": [
    "# Check uniqueness of spectrum_id\n",
    "def check_uniqueness(df, name):\n",
    "    unique_by_spectrum = df[\"spectrum_id\"].nunique() == len(df)\n",
    "    if not unique_by_spectrum:\n",
    "        raise ValueError(f\"Dataset {name} does not have unique spectrum_id.\")\n",
    "    print(f\"{name}: spectrum_id can uniquely identify rows.\")\n",
    "\n",
    "\n",
    "check_uniqueness(raw_beam_preds, \"raw_beam_preds\")\n",
    "check_uniqueness(annotated_data, \"annotated_data\")\n",
    "\n",
    "# Check if all spectrum_id values in annotated_data are present in raw_beam_preds\n",
    "missing_scans = set(annotated_data[\"spectrum_id\"]) - set(raw_beam_preds[\"spectrum_id\"])\n",
    "if missing_scans:\n",
    "    raise ValueError(\n",
    "        f\"{len(missing_scans)} spectrum_id values in annotated_data are missing from beam_preds.\"\n",
    "    )\n",
    "print(\"All spectrum_id values in annotated_data are present in beam_preds.\")\n",
    "\n",
    "# Merge datasets\n",
    "annotated_beam_preds = annotated_data.merge(\n",
    "    raw_beam_preds,\n",
    "    on=[\"spectrum_id\"],\n",
    "    how=\"inner\",\n",
    "    suffixes=(\"\", \"_from_raw\"),\n",
    ")\n",
    "\n",
    "# Drop duplicate columns after merge\n",
    "for col in raw_beam_preds.columns:\n",
    "    if col in annotated_data.columns and col not in [\"spectrum_id\"]:\n",
    "        annotated_beam_preds.drop(columns=[col + \"_from_raw\"], inplace=True)\n",
    "\n",
    "# Validate merge result\n",
    "if len(annotated_beam_preds) != len(annotated_data):\n",
    "    raise ValueError(\n",
    "        f\"Merge conflict: Expected {len(annotated_data)} rows, but got {len(annotated_beam_preds)}.\"\n",
    "    )\n",
    "\n",
    "# Save output\n",
    "output_path = f\"../input_data/beam_preds/labelled/{SPECIES}-annotated_beam_preds.csv\"\n",
    "annotated_beam_preds.to_csv(output_path, index=False)\n",
    "print(f\"Annotated beam predictions saved: {output_path}\")"
   ]
  },
  {
   "cell_type": "code",
   "execution_count": null,
   "metadata": {},
   "outputs": [],
   "source": [
    "# -- Load data\n",
    "logger.info(\"Loading dataset.\")\n",
    "dataset = CalibrationDataset.from_predictions_csv(\n",
    "    spectrum_path=f\"../input_data/spectrum_data/labelled/dataset-{SPECIES}-annotated-0000-0001.parquet\",\n",
    "    beam_predictions_path=f\"../input_data/beam_preds/labelled/{SPECIES}-annotated_beam_preds.csv\",\n",
    ")\n",
    "\n",
    "logger.info(\"Filtering dataset.\")\n",
    "filtered_dataset = (\n",
    "    dataset.filter_entries(\n",
    "        metadata_predicate=lambda row: not isinstance(row[\"prediction\"], list),\n",
    "    )\n",
    "    .filter_entries(metadata_predicate=lambda row: not row[\"prediction\"])\n",
    "    .filter_entries(\n",
    "        metadata_predicate=lambda row: row[\"precursor_charge\"] > 6\n",
    "    )  # Prosit-specific filtering, see https://github.com/Nesvilab/FragPipe/issues/1775\n",
    "    .filter_entries(\n",
    "        metadata_predicate=lambda row: len(row[\"prediction\"]) > 30\n",
    "    )  # Prosit-specific filtering\n",
    "    .filter_entries(\n",
    "        predictions_predicate=lambda row: len(row[1].sequence) > 30\n",
    "    )  # Prosit-specific filtering\n",
    ")\n",
    "\n",
    "TEST_FRACTION = 0.2\n",
    "RANDOM_STATE = 42\n",
    "train, test = train_test_split(\n",
    "    filtered_dataset, test_size=TEST_FRACTION, random_state=RANDOM_STATE\n",
    ")\n",
    "\n",
    "train_metadata, train_predictions = zip(*train)\n",
    "train_dataset = CalibrationDataset(\n",
    "    metadata=pd.DataFrame(train_metadata).reset_index(drop=True),\n",
    "    predictions=list(train_predictions),\n",
    ")\n",
    "\n",
    "test_metadata, test_predictions = zip(*test)\n",
    "test_dataset = CalibrationDataset(\n",
    "    metadata=pd.DataFrame(test_metadata).reset_index(drop=True),\n",
    "    predictions=list(test_predictions),\n",
    ")"
   ]
  },
  {
   "cell_type": "code",
   "execution_count": null,
   "metadata": {},
   "outputs": [],
   "source": [
    "print(len(train_dataset))\n",
    "print(len(test_dataset))"
   ]
  },
  {
   "cell_type": "code",
   "execution_count": null,
   "metadata": {},
   "outputs": [],
   "source": [
    "# -- Set up calibrator\n",
    "logger.info(\"Initialising calibrator.\")\n",
    "SEED = 42\n",
    "calibrator = ProbabilityCalibrator(SEED)\n",
    "\n",
    "logger.info(\"Adding features to calibrator.\")\n",
    "MZ_TOLERANCE = 0.02\n",
    "HIDDEN_DIM = 10\n",
    "TRAIN_FRACTION = 0.1\n",
    "calibrator.add_feature(MassErrorFeature(residue_masses=RESIDUE_MASSES))\n",
    "calibrator.add_feature(PrositFeatures(mz_tolerance=MZ_TOLERANCE))\n",
    "calibrator.add_feature(\n",
    "    RetentionTimeFeature(hidden_dim=HIDDEN_DIM, train_fraction=TRAIN_FRACTION)\n",
    ")\n",
    "calibrator.add_feature(ChimericFeatures(mz_tolerance=MZ_TOLERANCE))\n",
    "calibrator.add_feature(BeamFeatures())"
   ]
  },
  {
   "cell_type": "code",
   "execution_count": null,
   "metadata": {},
   "outputs": [],
   "source": [
    "# -- Calibrate\n",
    "logger.info(\"Calibrating scores.\")\n",
    "calibrator.fit(train_dataset)\n",
    "calibrator.predict(test_dataset)"
   ]
  },
  {
   "cell_type": "code",
   "execution_count": null,
   "metadata": {},
   "outputs": [],
   "source": [
    "train_dataset.to_csv(f\"../calibrated_datasets/labelled/{SPECIES}_train_labelled.csv\")\n",
    "test_dataset.to_csv(f\"../calibrated_datasets/labelled/{SPECIES}_test_labelled.csv\")\n",
    "test_dataset.metadata"
   ]
  },
  {
   "cell_type": "code",
   "execution_count": null,
   "metadata": {},
   "outputs": [],
   "source": [
    "# -- Evaluate and plot\n",
    "def compute_roc_curve(\n",
    "    metadata_path: str,\n",
    "    confidence_column: str,\n",
    "    label_column: str,\n",
    "    name: str,\n",
    ") -> pd.DataFrame:\n",
    "    input_dataset = pd.read_csv(metadata_path)\n",
    "    original = input_dataset[[confidence_column, label_column]]\n",
    "    original = original.sort_values(by=confidence_column, ascending=False)\n",
    "    cum_correct = np.cumsum(original[label_column])\n",
    "    precision = cum_correct / np.arange(1, len(original) + 1)\n",
    "    recall = cum_correct / len(original)\n",
    "    metrics = pd.DataFrame({\"precision\": precision, \"recall\": recall}).reset_index(\n",
    "        drop=True\n",
    "    )\n",
    "    metrics[\"name\"] = name\n",
    "    return metrics"
   ]
  },
  {
   "cell_type": "code",
   "execution_count": null,
   "metadata": {},
   "outputs": [],
   "source": [
    "original = compute_roc_curve(\n",
    "    metadata_path=f\"../calibrated_datasets/labelled/{SPECIES}_test_labelled.csv\",\n",
    "    confidence_column=\"confidence\",\n",
    "    label_column=\"correct\",\n",
    "    name=\"Original\",\n",
    ")\n",
    "calibrated = compute_roc_curve(\n",
    "    metadata_path=f\"../calibrated_datasets/labelled/{SPECIES}_test_labelled.csv\",\n",
    "    confidence_column=\"calibrated_confidence\",\n",
    "    label_column=\"correct\",\n",
    "    name=\"Calibrated\",\n",
    ")\n",
    "metrics = pd.concat([original, calibrated], axis=0).reset_index(drop=True)\n",
    "metrics[\"fdr\"] = 1 - metrics[\"precision\"]\n",
    "\n",
    "plot = so.Plot(metrics, x=\"recall\", y=\"precision\", color=\"name\")\n",
    "plot = plot.add(so.Line(), group=\"name\")\n",
    "plot = plot.theme(theme_dict)\n",
    "plot = plot.label(\n",
    "    y=\"Precision\", x=\"Recall\", title=\"ROC curve for original and calibrated confidence\"\n",
    ")\n",
    "plot"
   ]
  },
  {
   "cell_type": "code",
   "execution_count": null,
   "metadata": {},
   "outputs": [],
   "source": [
    "# Read CSV\n",
    "test_dataset_metadata = pd.read_csv(\n",
    "    f\"../calibrated_datasets/labelled/{SPECIES}_test_labelled.csv\"\n",
    ")\n",
    "\n",
    "\n",
    "def try_convert(value):\n",
    "    try:\n",
    "        return ast.literal_eval(value)\n",
    "    except (ValueError, SyntaxError):\n",
    "        return value  # Return original value if conversion fails\n",
    "\n",
    "\n",
    "# Apply conversion to all object (string) columns\n",
    "for col in test_dataset_metadata.select_dtypes(include=[\"object\"]).columns:\n",
    "    test_dataset_metadata[col] = test_dataset_metadata[col].apply(try_convert)"
   ]
  },
  {
   "cell_type": "code",
   "execution_count": null,
   "metadata": {},
   "outputs": [],
   "source": [
    "data = test_dataset_metadata[[\"confidence\", \"calibrated_confidence\", \"correct\"]].copy(\n",
    "    deep=True\n",
    ")\n",
    "data[\"correct\"] = pd.Categorical(data[\"correct\"])\n",
    "\n",
    "so.Plot(data, x=\"confidence\", y=\"calibrated_confidence\", color=\"correct\").add(\n",
    "    so.Dot(alpha=0.2)\n",
    ").add(\n",
    "    so.Line(color=\"black\", linestyle=\"-\"),\n",
    "    data=pd.DataFrame(\n",
    "        {\n",
    "            \"confidence\": [0.0, 1.0],\n",
    "            \"calibrated_confidence\": [0.0, 1.0],\n",
    "            \"correct\": [\"Null\", \"Null\"],\n",
    "        }\n",
    "    ),\n",
    ")"
   ]
  },
  {
   "cell_type": "code",
   "execution_count": null,
   "metadata": {},
   "outputs": [],
   "source": [
    "plot_df = test_dataset_metadata[[\"confidence\", \"correct\"]].copy(deep=True)\n",
    "plot_df[\"correct\"] = plot_df[\"correct\"].apply(lambda x: \"T\" if x else \"F\")\n",
    "so.Plot(plot_df, \"confidence\").add(so.Bars(), so.Hist(bins=100), color=\"correct\")"
   ]
  },
  {
   "cell_type": "code",
   "execution_count": null,
   "metadata": {},
   "outputs": [],
   "source": [
    "plot_df = test_dataset_metadata[[\"calibrated_confidence\", \"correct\"]].copy(deep=True)\n",
    "plot_df[\"correct\"] = plot_df[\"correct\"].apply(lambda x: \"T\" if x else \"F\")\n",
    "so.Plot(plot_df, \"calibrated_confidence\").add(\n",
    "    so.Bars(), so.Hist(bins=100), color=\"correct\"\n",
    ")"
   ]
  },
  {
   "cell_type": "code",
   "execution_count": null,
   "metadata": {},
   "outputs": [],
   "source": [
    "database_grounded_fdr_control = DatabaseGroundedFDRControl(\n",
    "    confidence_feature=\"confidence\"\n",
    ")\n",
    "database_grounded_fdr_control.fit(\n",
    "    dataset=test_dataset_metadata, residue_masses=RESIDUE_MASSES\n",
    ")\n",
    "database_grounded_fdr_control.get_confidence_cutoff(threshold=0.05)"
   ]
  },
  {
   "cell_type": "code",
   "execution_count": null,
   "metadata": {},
   "outputs": [],
   "source": [
    "nonparametric_fdr_control = NonParametricFDRControl()\n",
    "nonparametric_fdr_control.fit(dataset=test_dataset_metadata[\"confidence\"])\n",
    "nonparametric_fdr_control.get_confidence_cutoff(threshold=0.05)"
   ]
  },
  {
   "cell_type": "code",
   "execution_count": null,
   "metadata": {},
   "outputs": [],
   "source": [
    "nonparametric_fdr_control = NonParametricFDRControl()\n",
    "nonparametric_fdr_control.fit(dataset=test_dataset_metadata[\"calibrated_confidence\"])\n",
    "nonparametric_fdr_control.get_confidence_cutoff(threshold=0.05)"
   ]
  },
  {
   "cell_type": "code",
   "execution_count": null,
   "metadata": {},
   "outputs": [],
   "source": [
    "labelled_ids = annotated_data[\"spectrum_id\"]\n",
    "\n",
    "raw_data = pd.read_parquet(\n",
    "    f\"../input_data/spectrum_data/raw/dataset-{SPECIES}-raw-0000-0001.parquet\"\n",
    ")\n",
    "\n",
    "# Exclude rows with spectrum_id in labelled_ids\n",
    "raw_data = raw_data[~raw_data[\"spectrum_id\"].isin(labelled_ids)]\n",
    "raw_beam_preds = raw_beam_preds[~raw_beam_preds[\"spectrum_id\"].isin(labelled_ids)]\n",
    "\n",
    "raw_data.to_parquet(\n",
    "    f\"../input_data/spectrum_data/de_novo/{SPECIES}_raw_filtered.parquet\"\n",
    ")\n",
    "raw_beam_preds.to_csv(\n",
    "    f\"../input_data/beam_preds/de_novo/{SPECIES}_raw_beam_preds_filtered.csv\"\n",
    ")"
   ]
  },
  {
   "cell_type": "code",
   "execution_count": null,
   "metadata": {},
   "outputs": [],
   "source": [
    "# -- Load the raw, unlabelled data\n",
    "logger.info(\"Loading raw dataset.\")\n",
    "dataset = CalibrationDataset.from_predictions_csv(\n",
    "    spectrum_path=f\"../input_data/spectrum_data/de_novo/{SPECIES}_raw_filtered.parquet\",\n",
    "    beam_predictions_path=f\"../input_data/beam_preds/de_novo/{SPECIES}_raw_beam_preds_filtered.csv\",\n",
    ")\n",
    "\n",
    "logger.info(\"Filtering dataset.\")\n",
    "raw_filtered_dataset = (\n",
    "    dataset.filter_entries(\n",
    "        metadata_predicate=lambda row: not isinstance(row[\"prediction\"], list),\n",
    "    )\n",
    "    .filter_entries(metadata_predicate=lambda row: not row[\"prediction\"])\n",
    "    .filter_entries(\n",
    "        metadata_predicate=lambda row: row[\"precursor_charge\"] > 6\n",
    "    )  # Prosit-specific filtering\n",
    "    .filter_entries(\n",
    "        metadata_predicate=lambda row: len(row[\"prediction\"]) > 30\n",
    "    )  # Prosit-specific filtering\n",
    "    .filter_entries(\n",
    "        predictions_predicate=lambda row: len(row[1].sequence) > 30\n",
    "    )  # Prosit-specific filtering\n",
    ")"
   ]
  },
  {
   "cell_type": "code",
   "execution_count": null,
   "metadata": {},
   "outputs": [],
   "source": [
    "# -- Predict on the raw, unlabelled data\n",
    "calibrator.predict(raw_filtered_dataset)"
   ]
  },
  {
   "cell_type": "code",
   "execution_count": null,
   "metadata": {},
   "outputs": [],
   "source": [
    "raw_filtered_dataset.to_csv(\n",
    "    f\"../calibrated_datasets/de_novo/{SPECIES}_de_novo_preds.csv\"\n",
    ")"
   ]
  },
  {
   "cell_type": "code",
   "execution_count": null,
   "metadata": {},
   "outputs": [],
   "source": [
    "confidence_type = \"calibrated_confidence\""
   ]
  },
  {
   "cell_type": "code",
   "execution_count": null,
   "metadata": {},
   "outputs": [],
   "source": [
    "nonparametric_fdr_control = NonParametricFDRControl()\n",
    "nonparametric_fdr_control.fit(dataset=raw_filtered_dataset.metadata[confidence_type])\n",
    "confidence_cutoff = nonparametric_fdr_control.get_confidence_cutoff(threshold=0.05)\n",
    "confidence_cutoff"
   ]
  },
  {
   "cell_type": "code",
   "execution_count": null,
   "metadata": {},
   "outputs": [],
   "source": [
    "raw_filtered_dataset_metadata = nonparametric_fdr_control.add_psm_fdr(\n",
    "    raw_filtered_dataset.metadata, confidence_type\n",
    ")\n",
    "raw_filtered_dataset_metadata = nonparametric_fdr_control.add_psm_pep(\n",
    "    raw_filtered_dataset_metadata, confidence_type\n",
    ")\n",
    "raw_filtered_dataset_metadata = nonparametric_fdr_control.add_psm_p_value(\n",
    "    raw_filtered_dataset_metadata, confidence_type\n",
    ")"
   ]
  },
  {
   "cell_type": "code",
   "execution_count": null,
   "metadata": {},
   "outputs": [],
   "source": [
    "raw_filtered_dataset_metadata[\n",
    "    raw_filtered_dataset_metadata[confidence_type] >= confidence_cutoff\n",
    "]"
   ]
  }
 ],
 "metadata": {
  "kernelspec": {
   "display_name": ".venv",
   "language": "python",
   "name": "python3"
  },
  "language_info": {
   "codemirror_mode": {
    "name": "ipython",
    "version": 3
   },
   "file_extension": ".py",
   "mimetype": "text/x-python",
   "name": "python",
   "nbconvert_exporter": "python",
   "pygments_lexer": "ipython3",
   "version": "3.12.7"
  }
 },
 "nbformat": 4,
 "nbformat_minor": 2
}
