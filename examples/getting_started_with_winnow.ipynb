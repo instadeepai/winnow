{
 "cells": [
  {
   "cell_type": "markdown",
   "metadata": {},
   "source": [
    "# Winnow: *de novo* sequencing confidence calibration and FDR control tutorial\n",
    "\n",
    "<a target=\"_blank\" href=\"https://colab.research.google.com/github/instadeepai/winnow/blob/main/notebooks/getting_started_with_instanovo.ipynb\">\n",
    "  <img src=\"https://colab.research.google.com/assets/colab-badge.svg\" alt=\"Open In Colab\"/>\n",
    "</a>\n",
    "\n",
    "This notebook demonstrates how to use the `winnow` package for confidence calibration and false discovery rate (FDR) control in *de novo* sequencing (DNS) workflows.\n",
    "\n",
    "In the rest of the notebook, you'll:\n",
    "- Set up the environment and download example datasets.\n",
    "- Load and filter spectra and beam predictions; inspect key metadata.\n",
    "- Configure Winnow features (Mass Error, Prosit spectral/iRT, Chimeric, Beam) and train a calibrator on the HeLa Single Shot dataset.\n",
    "- Evaluate calibration with precision–recall curves, score transformation, confidence distributions, and calibration curves.\n",
    "- Control FDR via two approaches: database-grounded and label-free empirical Bayes; add per-PSM FDR/PEP/p-values and plot PSM FDR vs. confidence.\n",
    "- Apply the trained calibrator and label-free FDR to raw, unlabelled HeLa Single Shot data and filter results by a 5% FDR cutoff.\n",
    "- Extend Winnow: implement a custom feature, save/reload a calibrator, and run the workflow via the CLI.\n",
    "- Use a minimal (Prosit-free) feature set when Prosit isn't available.\n",
    "- Load a pretrained general calibrator and reproduce results on another dataset (Immunopeptidomics-2).\n",
    "- Review tips, troubleshooting notes, and additional resources."
   ]
  },
  {
   "cell_type": "markdown",
   "metadata": {},
   "source": [
    "<img src=\"../assets/winnow-pipeline.png\" alt=\"winnow pipeline\" width=\"600\">"
   ]
  },
  {
   "cell_type": "markdown",
   "metadata": {},
   "source": [
    "## Overview\n",
    "\n",
    "`winnow` implements a calibrate‑estimate framework for FDR control in *de novo* peptide sequencing. The flow:\n",
    "\n",
    "1. **Confidence calibration**: Learn a mapping from raw model confidence and auxiliary features to an improved, better‑calibrated probability of correctness.\n",
    "2. **FDR estimation**: Estimate/control FDR either with labels (database‑grounded) or without labels via a mixture model (empirical Bayes).\n",
    "\n",
    "## Links\n",
    "\n",
    "- **Paper**: TODO\n",
    "- **Code**: [GitHub](https://github.com/instadeepai/winnow)"
   ]
  },
  {
   "cell_type": "code",
   "execution_count": 1,
   "metadata": {},
   "outputs": [
    {
     "name": "stdout",
     "output_type": "stream",
     "text": [
      "\u001b[2mUsing Python 3.12.11 environment at: /home/j-vangoey/code/worktree_winnow/.venv\u001b[0m\n",
      "\u001b[2mAudited \u001b[1m1 package\u001b[0m \u001b[2min 14ms\u001b[0m\u001b[0m\n"
     ]
    }
   ],
   "source": [
    "!uv pip install instanovo"
   ]
  },
  {
   "cell_type": "markdown",
   "metadata": {},
   "source": [
    "## 1. Setup and imports\n",
    "\n",
    "First, let's import all the necessary packages and set up logging."
   ]
  },
  {
   "cell_type": "code",
   "execution_count": 2,
   "metadata": {},
   "outputs": [],
   "source": [
    "from winnow.calibration.calibration_features import (\n",
    "    CalibrationFeatures,\n",
    "    PrositFeatures,\n",
    "    MassErrorFeature,\n",
    "    RetentionTimeFeature,\n",
    "    ChimericFeatures,\n",
    "    BeamFeatures,\n",
    ")\n",
    "from winnow.calibration.calibrator import ProbabilityCalibrator\n",
    "from winnow.datasets.calibration_dataset import  CalibrationDataset\n",
    "from winnow.constants import RESIDUE_MASSES\n",
    "from winnow.fdr.database_grounded import DatabaseGroundedFDRControl\n",
    "from winnow.fdr.bayes import EmpiricalBayesFDRControl\n",
    "\n",
    "import logging\n",
    "from pathlib import Path\n",
    "from huggingface_hub import snapshot_download, list_repo_files\n",
    "import numpy as np\n",
    "import pandas as pd\n",
    "import seaborn as sns\n",
    "import matplotlib.pyplot as plt\n",
    "\n",
    "sns.set_theme(style=\"whitegrid\", context=\"notebook\")"
   ]
  },
  {
   "cell_type": "code",
   "execution_count": 3,
   "metadata": {},
   "outputs": [],
   "source": [
    "# -- Set up logging\n",
    "logger = logging.getLogger(__name__)\n",
    "logger.setLevel(logging.INFO)\n",
    "logger.addHandler(logging.StreamHandler())"
   ]
  },
  {
   "cell_type": "markdown",
   "metadata": {},
   "source": [
    "## 2. Data download\n",
    "\n",
    "Let's download a HeLa single cell dataset and its corresponding InstaNovo predictions from [Hugging Face](https://huggingface.co/datasets/JemmaDaniel/winnow-ms-datasets)."
   ]
  },
  {
   "cell_type": "code",
   "execution_count": 4,
   "metadata": {},
   "outputs": [],
   "source": [
    "# repo_id = \"InstaDeepAI/winnow-ms-datasets\"\n",
    "# save_dir = \"winnow-ms-datasets\"\n",
    "\n",
    "# files = list_repo_files(repo_id=repo_id, repo_type=\"dataset\")\n",
    "# print([f for f in files])"
   ]
  },
  {
   "cell_type": "code",
   "execution_count": 5,
   "metadata": {},
   "outputs": [],
   "source": [
    "# -- Download the helaqc dataset\n",
    "# snapshot_download(\n",
    "#    repo_id=repo_id,\n",
    "#    repo_type=\"dataset\",\n",
    "#    allow_patterns=[\"helaqc*.parquet\", \"helaqc*.csv\"],\n",
    "#    local_dir=save_dir,\n",
    "# )"
   ]
  },
  {
   "cell_type": "markdown",
   "metadata": {},
   "source": [
    "## 3. Data loading and preparation\n",
    "\n",
    "In a typical workflow, you'll have:\n",
    "- **Spectrum data**: MS/MS spectra with metadata (charge, m/z, retention time)\n",
    "- **Beam predictions**: Peptide sequence predictions from your *de novo* model\n",
    "- **Annotations (Optional)**: Ground truth labels (for training/evaluation)\n",
    "\n",
    "If you do not have beam predictions (i.e., traditional search enginers or DNS models without beam search), you can submit a predictions list with just a single prediction per spectrum and its associated log-probabilities."
   ]
  },
  {
   "cell_type": "code",
   "execution_count": 30,
   "metadata": {},
   "outputs": [],
   "source": [
    "# JVG: Convert mgf file to parquet\n",
    "from instanovo.utils import SpectrumDataFrame\n",
    "\n",
    "sdf = SpectrumDataFrame.load(\"/home/j-vangoey/Downloads/nine-species-balanced/nine-species-balanced/Mus-musculus.mgf\", lazy=False, is_annotated=False)\n",
    "sdf.save(\"/home/j-vangoey/code/casanovo/output/\", partition=\"train\")"
   ]
  },
  {
   "cell_type": "code",
   "execution_count": 7,
   "metadata": {},
   "outputs": [
    {
     "data": {
      "text/html": [
       "<div><style>\n",
       ".dataframe > thead > tr,\n",
       ".dataframe > tbody > tr {\n",
       "  text-align: right;\n",
       "  white-space: pre-wrap;\n",
       "}\n",
       "</style>\n",
       "<small>shape: (5, 10)</small><table border=\"1\" class=\"dataframe\"><thead><tr><th>scan_number</th><th>sequence</th><th>precursor_mass</th><th>precursor_mz</th><th>precursor_charge</th><th>retention_time</th><th>mz_array</th><th>intensity_array</th><th>experiment_name</th><th>spectrum_id</th></tr><tr><td>i64</td><td>str</td><td>f64</td><td>f64</td><td>i64</td><td>f64</td><td>list[f64]</td><td>list[f64]</td><td>str</td><td>str</td></tr></thead><tbody><tr><td>0</td><td>&quot;C+57.021GHTNNLRPK&quot;</td><td>1195.585912</td><td>598.800232</td><td>2</td><td>825.62256</td><td>[83.777885, 84.044724, … 979.541748]</td><td>[613.509949, 1373.269043, … 1175.740234]</td><td>&quot;Mus-musculus&quot;</td><td>&quot;Mus-musculus:0&quot;</td></tr><tr><td>1</td><td>&quot;VVQEQGTHPK&quot;</td><td>1121.583104</td><td>561.798828</td><td>2</td><td>826.27068</td><td>[84.04499, 84.081467, … 925.453674]</td><td>[5980.734863, 6190.214355, … 5385.465332]</td><td>&quot;Mus-musculus&quot;</td><td>&quot;Mus-musculus:1&quot;</td></tr><tr><td>2</td><td>&quot;SLSHSPGK&quot;</td><td>811.418859</td><td>406.716705</td><td>2</td><td>827.11986</td><td>[60.045296, 63.988693, … 846.034912]</td><td>[5493.098633, 2281.824951, … 668.246582]</td><td>&quot;Mus-musculus&quot;</td><td>&quot;Mus-musculus:2&quot;</td></tr><tr><td>3</td><td>&quot;HNSYTC+57.021EATHK&quot;</td><td>1346.566503</td><td>674.290527</td><td>2</td><td>827.92434</td><td>[93.045326, 101.108047, … 1222.487061]</td><td>[41435.902344, 9822.321289, … 11189.466797]</td><td>&quot;Mus-musculus&quot;</td><td>&quot;Mus-musculus:3&quot;</td></tr><tr><td>4</td><td>&quot;RPDGDAASQPR&quot;</td><td>1168.556249</td><td>585.2854</td><td>2</td><td>829.37946</td><td>[83.06073, 84.04509, … 1014.461487]</td><td>[1603.393677, 3934.435059, … 5571.429688]</td><td>&quot;Mus-musculus&quot;</td><td>&quot;Mus-musculus:4&quot;</td></tr></tbody></table></div>"
      ],
      "text/plain": [
       "shape: (5, 10)\n",
       "┌───────────┬───────────┬───────────┬───────────┬───┬───────────┬───────────┬───────────┬──────────┐\n",
       "│ scan_numb ┆ sequence  ┆ precursor ┆ precursor ┆ … ┆ mz_array  ┆ intensity ┆ experimen ┆ spectrum │\n",
       "│ er        ┆ ---       ┆ _mass     ┆ _mz       ┆   ┆ ---       ┆ _array    ┆ t_name    ┆ _id      │\n",
       "│ ---       ┆ str       ┆ ---       ┆ ---       ┆   ┆ list[f64] ┆ ---       ┆ ---       ┆ ---      │\n",
       "│ i64       ┆           ┆ f64       ┆ f64       ┆   ┆           ┆ list[f64] ┆ str       ┆ str      │\n",
       "╞═══════════╪═══════════╪═══════════╪═══════════╪═══╪═══════════╪═══════════╪═══════════╪══════════╡\n",
       "│ 0         ┆ C+57.021G ┆ 1195.5859 ┆ 598.80023 ┆ … ┆ [83.77788 ┆ [613.5099 ┆ Mus-muscu ┆ Mus-musc │\n",
       "│           ┆ HTNNLRPK  ┆ 12        ┆ 2         ┆   ┆ 5, 84.044 ┆ 49, 1373. ┆ lus       ┆ ulus:0   │\n",
       "│           ┆           ┆           ┆           ┆   ┆ 724, …    ┆ 269043, … ┆           ┆          │\n",
       "│           ┆           ┆           ┆           ┆   ┆ 979.5…    ┆ 11…       ┆           ┆          │\n",
       "│ 1         ┆ VVQEQGTHP ┆ 1121.5831 ┆ 561.79882 ┆ … ┆ [84.04499 ┆ [5980.734 ┆ Mus-muscu ┆ Mus-musc │\n",
       "│           ┆ K         ┆ 04        ┆ 8         ┆   ┆ , 84.0814 ┆ 863, 6190 ┆ lus       ┆ ulus:1   │\n",
       "│           ┆           ┆           ┆           ┆   ┆ 67, …     ┆ .214355,  ┆           ┆          │\n",
       "│           ┆           ┆           ┆           ┆   ┆ 925.45…   ┆ … 5…      ┆           ┆          │\n",
       "│ 2         ┆ SLSHSPGK  ┆ 811.41885 ┆ 406.71670 ┆ … ┆ [60.04529 ┆ [5493.098 ┆ Mus-muscu ┆ Mus-musc │\n",
       "│           ┆           ┆ 9         ┆ 5         ┆   ┆ 6, 63.988 ┆ 633, 2281 ┆ lus       ┆ ulus:2   │\n",
       "│           ┆           ┆           ┆           ┆   ┆ 693, …    ┆ .824951,  ┆           ┆          │\n",
       "│           ┆           ┆           ┆           ┆   ┆ 846.0…    ┆ … 6…      ┆           ┆          │\n",
       "│ 3         ┆ HNSYTC+57 ┆ 1346.5665 ┆ 674.29052 ┆ … ┆ [93.04532 ┆ [41435.90 ┆ Mus-muscu ┆ Mus-musc │\n",
       "│           ┆ .021EATHK ┆ 03        ┆ 7         ┆   ┆ 6, 101.10 ┆ 2344, 982 ┆ lus       ┆ ulus:3   │\n",
       "│           ┆           ┆           ┆           ┆   ┆ 8047, …   ┆ 2.321289, ┆           ┆          │\n",
       "│           ┆           ┆           ┆           ┆   ┆ 1222…     ┆ … …       ┆           ┆          │\n",
       "│ 4         ┆ RPDGDAASQ ┆ 1168.5562 ┆ 585.2854  ┆ … ┆ [83.06073 ┆ [1603.393 ┆ Mus-muscu ┆ Mus-musc │\n",
       "│           ┆ PR        ┆ 49        ┆           ┆   ┆ ,         ┆ 677, 3934 ┆ lus       ┆ ulus:4   │\n",
       "│           ┆           ┆           ┆           ┆   ┆ 84.04509, ┆ .435059,  ┆           ┆          │\n",
       "│           ┆           ┆           ┆           ┆   ┆ …         ┆ … 5…      ┆           ┆          │\n",
       "│           ┆           ┆           ┆           ┆   ┆ 1014.46…  ┆           ┆           ┆          │\n",
       "└───────────┴───────────┴───────────┴───────────┴───┴───────────┴───────────┴───────────┴──────────┘"
      ]
     },
     "execution_count": 7,
     "metadata": {},
     "output_type": "execute_result"
    }
   ],
   "source": [
    "sdf.df.head()"
   ]
  },
  {
   "cell_type": "code",
   "execution_count": 31,
   "metadata": {},
   "outputs": [
    {
     "name": "stderr",
     "output_type": "stream",
     "text": [
      "Loading dataset.\n"
     ]
    },
    {
     "data": {
      "text/plain": [
       "17800"
      ]
     },
     "execution_count": 31,
     "metadata": {},
     "output_type": "execute_result"
    }
   ],
   "source": [
    "# JVG: load Casanovo MZTab\n",
    "from winnow.datasets.data_loaders import MZTabDatasetLoader\n",
    "logger.info(\"Loading dataset.\")\n",
    "mztab_loader = MZTabDatasetLoader()\n",
    "mztab_dataset = mztab_loader.load(\n",
    "    \"/home/j-vangoey/code/casanovo/output/dataset-ms-train-0000-0001.parquet\",\n",
    "    \"/home/j-vangoey/code/casanovo/output/casanovo_20250920232832.mztab\",\n",
    ")\n",
    "len(mztab_dataset)"
   ]
  },
  {
   "cell_type": "code",
   "execution_count": 9,
   "metadata": {},
   "outputs": [],
   "source": [
    "#logger.info(\"Loading dataset.\")\n",
    "#dataset = CalibrationDataset.from_predictions_csv(\n",
    "#    spectrum_path=\"winnow-ms-datasets/helaqc_labelled.parquet\",\n",
    "#    beam_predictions_path=\"winnow-ms-datasets/helaqc_labelled_beams.csv\",\n",
    "#)\n",
    "#len(dataset)"
   ]
  },
  {
   "cell_type": "code",
   "execution_count": null,
   "metadata": {},
   "outputs": [
    {
     "name": "stderr",
     "output_type": "stream",
     "text": [
      "Filtering dataset.\n"
     ]
    },
    {
     "data": {
      "text/plain": [
       "17754"
      ]
     },
     "execution_count": 10,
     "metadata": {},
     "output_type": "execute_result"
    }
   ],
   "source": [
    "# -- Load data\n",
    "\n",
    "logger.info(\"Filtering dataset.\")\n",
    "filtered_dataset = (\n",
    "    mztab_dataset.filter_entries(\n",
    "        metadata_predicate=lambda row: not isinstance(row[\"prediction\"], list),\n",
    "    )\n",
    "    .filter_entries(metadata_predicate=lambda row: not row[\"prediction\"])\n",
    "    .filter_entries(\n",
    "        metadata_predicate=lambda row: row[\"precursor_charge\"] > 6\n",
    "    )  # Prosit-specific filtering, see https://github.com/Nesvilab/FragPipe/issues/1775\n",
    "    .filter_entries(\n",
    "        metadata_predicate=lambda row: len(row[\"prediction\"]) > 30\n",
    "    )  # Prosit-specific filtering\n",
    "    .filter_entries(\n",
    "        predictions_predicate=lambda beam: len(beam[0].sequence) > 30 # JVG: I changed row[1] to beam[0] here\n",
    "    )  # Prosit-specific filtering\n",
    ")\n",
    "len(filtered_dataset)"
   ]
  },
  {
   "cell_type": "code",
   "execution_count": null,
   "metadata": {},
   "outputs": [
    {
     "name": "stdout",
     "output_type": "stream",
     "text": [
      "Number of spectra in train set: 14203\n",
      "Number of spectra in test set: 3551\n"
     ]
    }
   ],
   "source": [
    "# JVG: Split MZTab data into train and test sets\n",
    "# Might be an idea to add a train_test_split function to the dataloader?\n",
    "import random\n",
    "n = len(filtered_dataset)\n",
    "psm_ids = [int(filtered_dataset[i][0].PSM_ID) for i in range(n)]\n",
    "random.seed(42)\n",
    "random.shuffle(psm_ids)\n",
    "\n",
    "train_fraction = 0.8\n",
    "train_size = int(train_fraction * n)\n",
    "train_psm_ids = psm_ids[:train_size]\n",
    "test_psm_ids = psm_ids[train_size:]\n",
    "\n",
    "# We want to filter out all the rows with PSM_IDs not in train_psm_ids to get the train_dataset\n",
    "train_dataset = filtered_dataset.filter_entries(\n",
    "    metadata_predicate=lambda row: row[\"PSM_ID\"] not in train_psm_ids \n",
    ")\n",
    "test_dataset = filtered_dataset.filter_entries(\n",
    "    metadata_predicate=lambda row: row[\"PSM_ID\"] not in test_psm_ids\n",
    ")\n",
    "\n",
    "print(\"Number of spectra in train set:\", len(train_dataset))\n",
    "print(\"Number of spectra in test set:\", len(test_dataset))"
   ]
  },
  {
   "cell_type": "code",
   "execution_count": 12,
   "metadata": {},
   "outputs": [],
   "source": [
    "# -- Split data into train and test sets\n",
    "#train_dataset = filtered_dataset.filter_entries(\n",
    "#    metadata_predicate=lambda row: row[\"split\"] == \"test\"\n",
    "#)\n",
    "#test_dataset = filtered_dataset.filter_entries(\n",
    "#    metadata_predicate=lambda row: row[\"split\"] == \"train\"\n",
    "#)\n",
    "\n",
    "# print(\"Number of spectra in train set:\", len(train_dataset))\n",
    "# print(\"Number of spectra in test set:\", len(test_dataset))"
   ]
  },
  {
   "cell_type": "code",
   "execution_count": 13,
   "metadata": {},
   "outputs": [
    {
     "data": {
      "application/vnd.microsoft.datawrangler.viewer.v0+json": {
       "columns": [
        {
         "name": "index",
         "rawType": "int64",
         "type": "integer"
        },
        {
         "name": "index",
         "rawType": "uint32",
         "type": "integer"
        },
        {
         "name": "scan_number",
         "rawType": "int64",
         "type": "integer"
        },
        {
         "name": "sequence",
         "rawType": "object",
         "type": "unknown"
        },
        {
         "name": "precursor_mass",
         "rawType": "float64",
         "type": "float"
        },
        {
         "name": "precursor_mz",
         "rawType": "float64",
         "type": "float"
        },
        {
         "name": "precursor_charge",
         "rawType": "int64",
         "type": "integer"
        },
        {
         "name": "retention_time",
         "rawType": "float64",
         "type": "float"
        },
        {
         "name": "mz_array",
         "rawType": "object",
         "type": "unknown"
        },
        {
         "name": "intensity_array",
         "rawType": "object",
         "type": "unknown"
        },
        {
         "name": "experiment_name",
         "rawType": "object",
         "type": "string"
        },
        {
         "name": "spectrum_id",
         "rawType": "object",
         "type": "string"
        },
        {
         "name": "sequence_untokenised",
         "rawType": "object",
         "type": "string"
        },
        {
         "name": "spectra_ref",
         "rawType": "object",
         "type": "string"
        },
        {
         "name": "PSM_ID",
         "rawType": "int64",
         "type": "integer"
        },
        {
         "name": "accession",
         "rawType": "object",
         "type": "unknown"
        },
        {
         "name": "unique",
         "rawType": "object",
         "type": "unknown"
        },
        {
         "name": "database",
         "rawType": "object",
         "type": "unknown"
        },
        {
         "name": "database_version",
         "rawType": "object",
         "type": "unknown"
        },
        {
         "name": "search_engine",
         "rawType": "object",
         "type": "unknown"
        },
        {
         "name": "modifications",
         "rawType": "object",
         "type": "unknown"
        },
        {
         "name": "retention_time_right",
         "rawType": "object",
         "type": "unknown"
        },
        {
         "name": "charge",
         "rawType": "int64",
         "type": "integer"
        },
        {
         "name": "exp_mass_to_charge",
         "rawType": "float64",
         "type": "float"
        },
        {
         "name": "calc_mass_to_charge",
         "rawType": "float64",
         "type": "float"
        },
        {
         "name": "pre",
         "rawType": "object",
         "type": "unknown"
        },
        {
         "name": "post",
         "rawType": "object",
         "type": "unknown"
        },
        {
         "name": "start",
         "rawType": "object",
         "type": "unknown"
        },
        {
         "name": "end",
         "rawType": "object",
         "type": "unknown"
        },
        {
         "name": "prediction_untokenised",
         "rawType": "object",
         "type": "string"
        },
        {
         "name": "confidence",
         "rawType": "float64",
         "type": "float"
        },
        {
         "name": "token_scores",
         "rawType": "object",
         "type": "unknown"
        },
        {
         "name": "prediction",
         "rawType": "object",
         "type": "unknown"
        },
        {
         "name": "valid_prediction",
         "rawType": "bool",
         "type": "boolean"
        },
        {
         "name": "valid_peptide",
         "rawType": "bool",
         "type": "boolean"
        },
        {
         "name": "num_matches",
         "rawType": "int64",
         "type": "integer"
        },
        {
         "name": "correct",
         "rawType": "bool",
         "type": "boolean"
        }
       ],
       "ref": "89a1c499-20bc-4f5d-a19a-818867f5e81a",
       "rows": [
        [
         "0",
         "1",
         "1",
         "['V' 'V' 'Q' 'E' 'Q' 'G' 'T' 'H' 'P' 'K']",
         "1121.58310425",
         "561.798828125",
         "2",
         "826.27068",
         "[ 84.0449905  84.0814667  92.2192078  96.3304977 101.0653839 101.0714645\n 101.1081238 103.7046738 110.0715408 112.0875854 117.1026306 123.2798386\n 129.1021271 147.1125641 154.4661102 158.0918274 171.1492004 172.1522217\n 175.1186676 199.1442413 212.7593842 226.1548615 228.1343689 230.1133423\n 235.1190338 240.0983276 241.0825653 244.1655121 245.1669159 258.108429\n 296.1357117 315.9072876 325.6723938 326.1669922 327.2027588 328.2059631\n 381.2239075 405.3287659 444.7210388 445.2106628 445.7075195 453.7256775\n 454.2206116 454.7181702 456.2469788 462.7325745 463.2322693 486.2323608\n 494.7435608 512.2670898 512.7614746 525.2433472 525.7879028 529.7671509\n 535.2214966 539.2947388 540.3016357 543.2572021 553.2391968 561.2796631\n 561.7901611 562.3076782 645.2736816 649.3391113 650.3275757 663.2802124\n 664.2722778 667.3501587 778.3814087 779.3816528 796.3944702 797.3889771\n 905.4677124 906.4361572 907.4268188 908.4307861 924.4525146 925.4536743]",
         "[ 5980.73486328  6190.21435547   757.89508057   777.95831299\n  1408.8605957  21702.48046875   860.6473999    687.97467041\n  7716.18505859   726.89440918  2897.77954102   773.69775391\n  6689.46484375  3300.93896484   813.02185059   798.12054443\n 48054.69140625  3547.74389648  3231.1550293  14650.38671875\n   909.53509521  3878.60229492  5914.83105469  1394.98974609\n   838.85058594  1188.54638672  1417.60668945 20677.68945312\n   809.79858398  4389.19335938  1562.87329102   845.25549316\n  1072.61132812  1071.18383789  3992.33203125  1156.44677734\n  3535.42358398   871.29382324  1288.71679688  2856.67236328\n  1509.99035645 15156.19921875 13859.83496094  3844.47485352\n   950.56689453  3878.81640625  1371.32275391   866.64996338\n  1307.63989258  3955.64624023   917.44787598   918.84063721\n   882.79302979  1337.94836426  1070.46948242 10200.65625\n   716.47766113   780.40637207  1512.40722656 14847.20996094\n  6108.42333984  9366.73046875   908.68182373  1868.03674316\n  4721.34667969  1332.38513184  1576.98974609  4924.83398438\n  4222.76611328  1271.3918457  16383.21972656  3979.65234375\n   852.59692383  1926.69018555 11780.58984375  3569.57592773\n 16855.203125    5385.46533203]",
         "Mus-musculus",
         "Mus-musculus:1",
         "VVQEQGTHPK",
         "ms_run[1]:index=1",
         "2",
         null,
         null,
         null,
         null,
         "['Casanovo' '5.0.1.dev3+gec67e9800.d20250909']",
         null,
         null,
         "2",
         "561.798828125",
         "561.7987670898438",
         null,
         null,
         null,
         null,
         "VVQEQGTHPK",
         "0.8934182",
         "[0.99179 0.98928 0.99105 0.98631 0.99004 0.99065 0.9871  0.99055 0.9906\n 0.99038]",
         "['V', 'V', 'Q', 'E', 'Q', 'G', 'T', 'H', 'P', 'K']",
         "False",
         "False",
         "10",
         "True"
        ],
        [
         "1",
         "2",
         "2",
         "['S' 'I' 'S' 'H' 'S' 'P' 'G' 'K']",
         "811.4188586445321",
         "406.716705322266",
         "2",
         "827.11986",
         "[ 60.0452957  63.9886932  63.9921455  70.0659332  71.0694046  72.0815887\n  74.0608673  79.9997406  83.0608978  84.0452881  84.0814896  85.084938\n  86.097084   87.0560455  87.1003036  93.5553055 101.0363007 101.0714417\n 102.0556793 110.0717316 111.0751801 112.0873718 113.0717697 113.0800858\n 115.0867844 126.4012451 129.1025238 130.0866547 135.7389984 138.0661163\n 141.102066  143.1186676 147.1128693 154.9868011 155.0817566 155.1174164\n 158.0927734 169.0974731 173.1286774 174.1321411 175.1190033 178.1340027\n 184.322403  185.0925598 186.122818  187.1439972 197.1040802 201.1236877\n 202.125824  204.1343384 206.1287994 223.1554718 224.1585541 225.0981293\n 233.1301117 246.1568298 251.1504517 252.1312714 252.1548309 254.1868896\n 256.138092  263.1431885 266.1242065 272.1362305 283.177063  289.160553\n 290.1635437 294.1190491 297.6531067 301.1875    302.1898804 303.1789551\n 304.1757813 306.6587219 307.1602173 307.6578369 311.657959  312.1309814\n 354.1986389 358.7688293 363.2020264 370.2089844 370.6895142 375.7229309\n 379.5390625 388.2193298 397.2187195 397.7128906 398.2103882 400.2302551\n 401.2301941 405.7103882 406.2122192 406.7125244 407.2061768 407.7205811\n 418.2039185 425.2150269 446.0133667 466.2082825 489.2441406 494.2348328\n 512.2485962 525.2800293 529.166748  532.2426147 560.2772217 561.2819824\n 594.2952271 612.3098755 613.3132324 644.411377  673.3619995 674.3627319\n 740.3687744 741.3620605 846.0349121]",
         "[ 5493.09863281  2281.82495117  1321.10144043 25546.11914062\n   769.43701172  8629.04980469 20942.62304688   661.79400635\n   996.71166992  1324.14025879 23471.88867188   669.23291016\n 17714.58984375  4332.38525391   760.81176758   590.26947021\n   542.45501709  2737.91235352  1369.16784668 44230.66796875\n  3078.66455078  2349.05371094   643.81951904   624.487854\n  1177.56848145   657.30523682 18878.44335938  8073.20605469\n   666.03375244  2881.51123047  4944.87792969   800.25091553\n  9722.47851562   489.60025024   630.01104736   712.6217041\n  1325.41296387  3440.74389648 64264.8984375   5096.29003906\n  7605.12695312  3824.59741211   597.15234375   665.75152588\n  1066.46911621  1174.19250488  2186.32763672 13120.64257812\n   695.09002686  2823.94335938  1049.29528809 14380.29199219\n  3073.22167969  8312.99804688   729.40087891   621.81951904\n  9520.10546875   699.39978027  2400.40917969  2329.59326172\n   818.63739014  3529.86621094   723.43511963   746.93615723\n   950.68548584  4765.89892578   916.14672852   943.37591553\n  1395.70678711 14804.63378906   912.82354736   892.47814941\n  1076.85449219 11354.50878906  3298.93725586   682.9609375\n   878.80383301  5092.11816406   809.39587402   588.66357422\n  4032.30200195  2706.26904297   763.65643311  2378.82983398\n   903.57806396  7428.81933594  1077.7935791   5086.44335938\n  1136.31188965  1335.22253418   770.29608154  1239.8203125\n  4121.24658203  8519.68457031  6770.95849609  3639.70922852\n   756.17156982   804.10601807   560.69372559   944.88018799\n  1114.09155273  1106.08032227  1351.86633301  1240.25598145\n   724.04730225  1086.6796875   7827.77734375  3419.73364258\n  1450.10241699 11259.75683594  2338.90258789   839.58868408\n  3968.59912109  3883.45288086  3525.25317383   752.82104492\n   668.24658203]",
         "Mus-musculus",
         "Mus-musculus:2",
         "SISHSPGK",
         "ms_run[1]:index=2",
         "3",
         null,
         null,
         null,
         null,
         "['Casanovo' '5.0.1.dev3+gec67e9800.d20250909']",
         null,
         null,
         "2",
         "406.7167053222656",
         "406.7166748046875",
         null,
         null,
         null,
         null,
         "SISHSPGK",
         "0.9173402",
         "[0.99006 0.98786 0.989   0.99064 0.99155 0.99068 0.99071 0.99341]",
         "['S', 'I', 'S', 'H', 'S', 'P', 'G', 'K']",
         "False",
         "False",
         "8",
         "True"
        ],
        [
         "2",
         "4",
         "4",
         "['R' 'P' 'D' 'G' 'D' 'A' 'A' 'S' 'Q' 'P' 'R']",
         "1168.55624878125",
         "585.285400390625",
         "2",
         "829.37946",
         "[  83.06073     84.0450897   84.0814362   86.0971909   87.055542\n  100.7977753  101.071228   101.1078644  102.0552139  108.0876312\n  109.4674149  110.0716095  111.0750504  112.0871658  113.0709991\n  115.0865784  126.0910263  129.102356   129.1118164  129.1385345\n  130.0864868  136.0758667  138.0662842  140.0817871  143.1174469\n  146.2573395  147.1123352  155.0922241  155.999939   156.0765839\n  157.1084747  158.0920868  159.0745544  167.0916748  169.0970306\n  174.0868225  175.1189728  183.0759125  185.1634827  193.1080017\n  194.1291504  195.1131134  199.1087189  199.1438904  201.0865479\n  202.0818024  204.075531   207.0870361  209.1391907  211.1192627\n  212.1391754  221.1025238  224.1137238  226.1546631  234.0992584\n  235.0822601  239.1143188  240.1348724  244.1653442  247.1086121\n  248.1026611  249.0991669  251.1492462  252.1092529  252.1345825\n  253.0915375  253.1771088  254.1602631  254.1833496  255.1448822\n  256.1477966  257.124176   266.1615601  270.1433716  271.2134705\n  272.1717224  284.1719971  287.2079773  291.1178589  304.1604309\n  315.2020264  321.1304321  323.1737061  327.1655884  334.1361389\n  335.1437683  339.1392822  351.1759033  352.1603088  367.2084961\n  369.143158   369.1877747  370.1905518  377.1590271  385.2201233\n  393.1883545  395.1676025  403.1702576  411.1966858  412.2585754\n  421.1831055  422.178009   431.1565857  431.2210388  439.1938782\n  442.2357178  448.1809387  455.2951355  456.2583313  456.7463074\n  457.1994629  474.2120972  475.7399902  483.2932129  484.2946777\n  487.2596741  490.2403259  507.2362366  512.7527466  513.3091431\n  520.7794189  524.2105713  527.331604   531.2738037  531.7542725\n  532.2559814  540.2281494  540.3154297  541.2358398  541.3203125\n  542.2384644  548.3150635  549.2724609  550.2021484  555.2593384\n  555.7625732  556.2627563  556.3435059  557.2527466  557.34729\n  558.2266235  558.3014526  562.3057251  566.2581177  566.3302612\n  567.2160034  567.2837524  567.7700806  568.2061157  568.2946167\n  568.7647705  575.7945557  576.2826538  576.7739868  577.2732544\n  577.7736816  584.3439331  584.8047485  585.2874146  585.7861938\n  586.289917   612.2712402  629.3370361  630.336853   662.343689\n  683.3095093  770.3403931  771.3497314  801.3829346  802.3916626\n  870.4037476  881.3777466  884.432251   898.4026489  899.3873291\n  909.454895   916.4140625  917.397644   970.0448608 1013.4616699\n 1014.4614868]",
         "[  1603.39367676   3934.43505859  23824.48828125   1312.07250977\n    917.22644043    792.27154541   5629.82421875   1268.24462891\n   1660.74169922    790.66064453    732.73040771  73999.3046875\n   1245.92468262   8833.82910156   1157.78662109   4506.76806641\n   3459.11450195  24664.01757812   1697.56872559   4245.78417969\n   1273.47290039   1594.83166504   2046.29833984   5784.66552734\n   5406.45458984    936.8739624    4421.10351562   1990.52856445\n    806.38110352   7043.40185547  15829.33691406   3616.11572266\n    907.31524658   1335.01977539   1934.83691406   1779.42907715\n  15036.64550781    756.46759033   1032.91918945   3311.30786133\n    789.39379883   1267.58764648    779.22229004   1077.00598145\n   1013.44641113   7115.80566406   1287.04968262   7464.19970703\n    998.19573975   1573.56274414   3583.61816406   4339.87646484\n   2004.01403809   1345.97680664    832.16937256   7503.25097656\n   7190.87695312   1075.86315918   5882.2421875     894.01403809\n    878.74908447    969.66656494   1224.44567871  33745.25390625\n   1731.6505127    2036.11230469  14394.22558594  15453.42773438\n   1101.47949219  21497.20117188   1189.05505371   1344.98254395\n  10907.86523438   1069.17028809    895.26519775   7644.41552734\n  23508.296875     1704.63061523   4073.20336914   1495.64416504\n   7862.82275391   1092.59899902   1267.84069824   1042.21875\n   1262.10192871   1420.73925781   2974.34057617    814.26245117\n   1010.39556885   1274.6550293    1522.61791992  28012.79492188\n   3559.58374023   2035.73352051   7534.49951172   7855.65039062\n   1212.26025391   1237.1784668    7150.45019531   1149.05529785\n   9460.72753906   1350.02416992   1100.26196289    954.41192627\n  17882.375         960.16046143   1413.8770752    1829.28466797\n   3813.70214844   1649.62585449   9078.79785156   1146.74987793\n   1229.20068359  10106.89746094   1854.00048828   1122.99755859\n   1495.01989746   3531.94726562   1488.73266602   1232.0222168\n    964.0078125    3821.24536133   1367.63439941   1251.79614258\n   5440.44775391   3897.46777344   2495.49291992  10728.27539062\n  12738.54394531   5183.24755859   1351.95629883   1207.28515625\n   6811.70214844   1654.23046875    889.1741333   12348.27148438\n   5477.20068359  15387.1015625    1452.88989258   7216.13525391\n   1313.41088867   1054.03674316   2034.20874023   1235.16577148\n  21615.46875      1354.2232666   28264.68945312   3678.74121094\n   7642.27246094   1633.42028809   1415.20568848   1537.76818848\n  16334.28320312  54925.65625     22852.64453125   4653.55810547\n  38257.1015625   17254.29296875 412751.1875     163712.03125\n  37896.265625     1141.55395508  25115.88867188   4487.20898438\n   1429.14990234   4766.49707031   3457.73291016   1090.79919434\n  23086.30078125   7703.64501953   3299.71923828   3758.9609375\n    988.94750977  10343.91113281   5880.80126953    980.6651001\n   7421.60888672   1308.01037598    982.60888672  11354.57226562\n   5571.4296875 ]",
         "Mus-musculus",
         "Mus-musculus:4",
         "RPDGDAASQPR",
         "ms_run[1]:index=4",
         "5",
         null,
         null,
         null,
         null,
         "['Casanovo' '5.0.1.dev3+gec67e9800.d20250909']",
         null,
         null,
         "2",
         "585.285400390625",
         "585.2865600585938",
         null,
         null,
         null,
         null,
         "RPDGDAASQPR",
         "0.5160494",
         "[0.98958 0.98994 0.58038 0.99311 0.98462 0.98992 0.99189 0.99461 0.99153\n 0.99084 0.97757]",
         "['R', 'P', 'D', 'G', 'D', 'A', 'A', 'S', 'Q', 'P', 'R']",
         "False",
         "False",
         "11",
         "True"
        ],
        [
         "3",
         "5",
         "5",
         "['K' 'P' 'A' 'A' 'A' 'A' 'V' 'T' 'K']",
         "855.517857667968",
         "428.766204833984",
         "2",
         "830.27022",
         "[ 63.9970665  64.000946   70.0659332  72.0817337  73.0477066  74.0608978\n  84.0815048  89.1168442  91.0582504  98.9847336 101.107666  104.8453522\n 122.3495026 128.0375671 129.102478  130.0867157 141.1027527 147.1128082\n 149.0451508 167.0558319 167.5385284 169.0978851 175.1202087 194.1676941\n 208.9533234 226.1551819 240.134613  248.1611938 341.0185852 359.0286255\n 364.7170105 365.219574  382.2071533 420.2545166 428.7670593 429.0868835\n 429.2650757 481.2764893 510.305481  560.3384399 631.3742676 661.1931152\n 728.4308472 729.4389038]",
         "[  7854.02099609  43447.18359375  63801.69140625  18508.08789062\n  18742.546875    46616.08984375 395855.3125       6820.70214844\n  12335.56152344  41771.34375     57297.90625      7325.03662109\n   7420.62744141   7198.08740234 123731.5546875   14668.93457031\n  14085.20605469  57044.4375      12828.8515625   14414.70117188\n   7503.78759766  12835.32617188   8865.46679688   6995.59375\n  11626.2265625   12375.88574219  13541.16308594  39420.8203125\n  11080.32910156  95475.0390625   67335.5         13111.83886719\n  18653.43554688  44825.890625    62763.6171875   10439.73632812\n  44144.64453125  17219.87890625  13104.94335938  13657.08691406\n  31742.03320312   8139.51318359  53379.4921875   13171.32617188]",
         "Mus-musculus",
         "Mus-musculus:5",
         "KPAAAAVTK",
         "ms_run[1]:index=5",
         "6",
         null,
         null,
         null,
         null,
         "['Casanovo' '5.0.1.dev3+gec67e9800.d20250909']",
         null,
         null,
         "2",
         "428.7662048339844",
         "428.7661437988281",
         null,
         null,
         null,
         null,
         "KPANVVTK",
         "0.84007144",
         "[0.99422 0.98956 0.98817 0.96228 0.9416  0.98269 0.99138 0.98918]",
         "['K', 'P', 'A', 'N', 'V', 'V', 'T', 'K']",
         "False",
         "False",
         "6",
         "False"
        ],
        [
         "4",
         "6",
         "6",
         "['A' 'H' 'G' 'N' 'S' 'G' 'M' 'V' 'R']",
         "927.434544679688",
         "464.724548339844",
         "2",
         "834.39072",
         "[ 70.0660706  72.0816498  73.1327896  73.9862137  74.0610123  76.5552292\n  83.0610962  84.0451508  84.0815048  85.0848999  86.0970764  91.0580444\n  98.0969849 100.1624908 101.1078644 102.055542  102.0919647 104.0532455\n 110.0717697 112.0876236 115.0876083 115.1233978 126.0921555 129.1025391\n 130.0865479 136.0770416 136.0870667 138.0665741 141.1026917 143.1179352\n 144.1194153 147.1130676 149.0455933 155.4529724 158.0930023 161.1288147\n 164.0823059 165.1139374 166.0614929 167.0550385 167.0928497 169.0970764\n 171.1129456 175.1192017 176.1234283 181.1088562 187.1447754 187.4337769\n 192.0770721 195.0880585 199.1076965 201.1038513 209.1035919 210.1069946\n 216.5096436 246.1831818 248.1156311 252.1344757 257.161377  266.1260986\n 270.1479187 276.1016846 301.1886597 303.2029114 305.1725464 359.0296326\n 360.0311279 360.2250061 361.0267334 362.028595  392.0291748 420.203186\n 420.6940613 429.2067566 429.7075195 430.210907  431.0883484 432.0916748\n 434.1998596 434.6968384 438.6960449 439.1955566 441.7556152 447.2068787\n 447.7083435 448.209198  449.7543335 456.2140503 456.2713623 456.7697449\n 461.2752686 463.7813416 464.2313232 464.2844543 464.7224121 464.7849426\n 465.2771606 465.7771606 549.2826538 627.3602295 629.3637085 646.3014526\n 663.3250732 664.3287354 684.3721313 700.4035034 703.3215332 720.3464355\n 721.3468018 721.4452515 722.3516235 755.4490356 783.4377441 787.4300537\n 788.4379272 815.43927   817.4484863]",
         "[ 4468.56933594 14712.04199219   512.96069336   569.7600708\n  2513.07495117   579.98052979   709.32507324  1212.44555664\n 46019.51953125  3244.48706055  3182.05761719  3282.14331055\n 10720.875        697.76751709   746.777771     682.14465332\n   884.26220703   776.29864502 27740.02539062  1454.9329834\n   739.11676025  1307.78808594   895.30352783 16217.81445312\n  9370.46289062   991.40338135  6100.26464844  1498.41833496\n  1380.18017578  4764.88085938   560.84802246 12903.06347656\n   702.4052124    590.39904785  1414.95654297   926.81072998\n  4032.3894043    850.17645264 13258.1328125    888.76245117\n   677.28851318   825.71881104  1303.06921387 13046.67285156\n   594.10473633 18813.06445312   993.20373535   590.78485107\n 17782.015625    3504.0480957   1361.71643066   573.86486816\n 50776.09375     4460.45556641   609.9251709    702.14849854\n  1130.74816895   747.16442871   993.02148438  3602.20385742\n   687.27905273   684.02410889   756.17541504   693.54193115\n  2452.69091797  3857.88452148  3658.44555664   893.67553711\n 17988.19921875  3067.28515625   698.81396484  2883.74658203\n  1249.36767578 31886.765625   12156.55957031  3237.13769531\n  7135.61376953  2452.09057617  1509.71337891  1191.54150391\n   888.13189697   873.47821045   763.51477051 26480.55273438\n 11318.88769531  2717.42822266  2138.86816406  1019.73760986\n  2750.74755859   813.71820068   959.19177246  1227.19970703\n  1458.1965332   5438.71728516  6386.40869141  2761.33618164\n 39898.49609375 13045.51367188  2959.39086914  1031.47851562\n  4407.92578125   982.28533936  5188.26269531  1230.43395996\n  4222.67822266  2996.88549805  1521.59313965 41860.296875\n 12990.07324219   674.33337402  2475.3527832   2907.28857422\n  2757.921875    5407.66015625   818.39855957  1092.26257324\n  1030.18444824]",
         "Mus-musculus",
         "Mus-musculus:6",
         "AHGNSGMVR",
         "ms_run[1]:index=6",
         "7",
         null,
         null,
         null,
         null,
         "['Casanovo' '5.0.1.dev3+gec67e9800.d20250909']",
         null,
         null,
         "2",
         "464.72454833984375",
         "464.7245178222656",
         null,
         null,
         null,
         null,
         "AHGNGSMVR",
         "0.41730267",
         "[0.99219 0.98816 0.99028 0.98922 0.98881 0.70929 0.87628 0.72366 0.9864 ]",
         "['A', 'H', 'G', 'N', 'G', 'S', 'M', 'V', 'R']",
         "False",
         "False",
         "7",
         "False"
        ]
       ],
       "shape": {
        "columns": 36,
        "rows": 5
       }
      },
      "text/html": [
       "<div>\n",
       "<style scoped>\n",
       "    .dataframe tbody tr th:only-of-type {\n",
       "        vertical-align: middle;\n",
       "    }\n",
       "\n",
       "    .dataframe tbody tr th {\n",
       "        vertical-align: top;\n",
       "    }\n",
       "\n",
       "    .dataframe thead th {\n",
       "        text-align: right;\n",
       "    }\n",
       "</style>\n",
       "<table border=\"1\" class=\"dataframe\">\n",
       "  <thead>\n",
       "    <tr style=\"text-align: right;\">\n",
       "      <th></th>\n",
       "      <th>index</th>\n",
       "      <th>scan_number</th>\n",
       "      <th>sequence</th>\n",
       "      <th>precursor_mass</th>\n",
       "      <th>precursor_mz</th>\n",
       "      <th>precursor_charge</th>\n",
       "      <th>retention_time</th>\n",
       "      <th>mz_array</th>\n",
       "      <th>intensity_array</th>\n",
       "      <th>experiment_name</th>\n",
       "      <th>...</th>\n",
       "      <th>start</th>\n",
       "      <th>end</th>\n",
       "      <th>prediction_untokenised</th>\n",
       "      <th>confidence</th>\n",
       "      <th>token_scores</th>\n",
       "      <th>prediction</th>\n",
       "      <th>valid_prediction</th>\n",
       "      <th>valid_peptide</th>\n",
       "      <th>num_matches</th>\n",
       "      <th>correct</th>\n",
       "    </tr>\n",
       "  </thead>\n",
       "  <tbody>\n",
       "    <tr>\n",
       "      <th>0</th>\n",
       "      <td>1</td>\n",
       "      <td>1</td>\n",
       "      <td>[V, V, Q, E, Q, G, T, H, P, K]</td>\n",
       "      <td>1121.583104</td>\n",
       "      <td>561.798828</td>\n",
       "      <td>2</td>\n",
       "      <td>826.27068</td>\n",
       "      <td>[84.0449905, 84.0814667, 92.2192078, 96.330497...</td>\n",
       "      <td>[5980.7348632813, 6190.2143554688, 757.8950805...</td>\n",
       "      <td>Mus-musculus</td>\n",
       "      <td>...</td>\n",
       "      <td>None</td>\n",
       "      <td>None</td>\n",
       "      <td>VVQEQGTHPK</td>\n",
       "      <td>0.893418</td>\n",
       "      <td>[0.99179, 0.98928, 0.99105, 0.98631, 0.99004, ...</td>\n",
       "      <td>[V, V, Q, E, Q, G, T, H, P, K]</td>\n",
       "      <td>False</td>\n",
       "      <td>False</td>\n",
       "      <td>10</td>\n",
       "      <td>True</td>\n",
       "    </tr>\n",
       "    <tr>\n",
       "      <th>1</th>\n",
       "      <td>2</td>\n",
       "      <td>2</td>\n",
       "      <td>[S, I, S, H, S, P, G, K]</td>\n",
       "      <td>811.418859</td>\n",
       "      <td>406.716705</td>\n",
       "      <td>2</td>\n",
       "      <td>827.11986</td>\n",
       "      <td>[60.0452957, 63.9886932, 63.9921455, 70.065933...</td>\n",
       "      <td>[5493.0986328125, 2281.8249511719, 1321.101440...</td>\n",
       "      <td>Mus-musculus</td>\n",
       "      <td>...</td>\n",
       "      <td>None</td>\n",
       "      <td>None</td>\n",
       "      <td>SISHSPGK</td>\n",
       "      <td>0.917340</td>\n",
       "      <td>[0.99006, 0.98786, 0.989, 0.99064, 0.99155, 0....</td>\n",
       "      <td>[S, I, S, H, S, P, G, K]</td>\n",
       "      <td>False</td>\n",
       "      <td>False</td>\n",
       "      <td>8</td>\n",
       "      <td>True</td>\n",
       "    </tr>\n",
       "    <tr>\n",
       "      <th>2</th>\n",
       "      <td>4</td>\n",
       "      <td>4</td>\n",
       "      <td>[R, P, D, G, D, A, A, S, Q, P, R]</td>\n",
       "      <td>1168.556249</td>\n",
       "      <td>585.285400</td>\n",
       "      <td>2</td>\n",
       "      <td>829.37946</td>\n",
       "      <td>[83.06073, 84.0450897, 84.0814362, 86.0971909,...</td>\n",
       "      <td>[1603.3936767578, 3934.4350585938, 23824.48828...</td>\n",
       "      <td>Mus-musculus</td>\n",
       "      <td>...</td>\n",
       "      <td>None</td>\n",
       "      <td>None</td>\n",
       "      <td>RPDGDAASQPR</td>\n",
       "      <td>0.516049</td>\n",
       "      <td>[0.98958, 0.98994, 0.58038, 0.99311, 0.98462, ...</td>\n",
       "      <td>[R, P, D, G, D, A, A, S, Q, P, R]</td>\n",
       "      <td>False</td>\n",
       "      <td>False</td>\n",
       "      <td>11</td>\n",
       "      <td>True</td>\n",
       "    </tr>\n",
       "    <tr>\n",
       "      <th>3</th>\n",
       "      <td>5</td>\n",
       "      <td>5</td>\n",
       "      <td>[K, P, A, A, A, A, V, T, K]</td>\n",
       "      <td>855.517858</td>\n",
       "      <td>428.766205</td>\n",
       "      <td>2</td>\n",
       "      <td>830.27022</td>\n",
       "      <td>[63.9970665, 64.000946, 70.0659332, 72.0817337...</td>\n",
       "      <td>[7854.0209960938, 43447.18359375, 63801.691406...</td>\n",
       "      <td>Mus-musculus</td>\n",
       "      <td>...</td>\n",
       "      <td>None</td>\n",
       "      <td>None</td>\n",
       "      <td>KPANVVTK</td>\n",
       "      <td>0.840071</td>\n",
       "      <td>[0.99422, 0.98956, 0.98817, 0.96228, 0.9416, 0...</td>\n",
       "      <td>[K, P, A, N, V, V, T, K]</td>\n",
       "      <td>False</td>\n",
       "      <td>False</td>\n",
       "      <td>6</td>\n",
       "      <td>False</td>\n",
       "    </tr>\n",
       "    <tr>\n",
       "      <th>4</th>\n",
       "      <td>6</td>\n",
       "      <td>6</td>\n",
       "      <td>[A, H, G, N, S, G, M, V, R]</td>\n",
       "      <td>927.434545</td>\n",
       "      <td>464.724548</td>\n",
       "      <td>2</td>\n",
       "      <td>834.39072</td>\n",
       "      <td>[70.0660706, 72.0816498, 73.1327896, 73.986213...</td>\n",
       "      <td>[4468.5693359375, 14712.0419921875, 512.960693...</td>\n",
       "      <td>Mus-musculus</td>\n",
       "      <td>...</td>\n",
       "      <td>None</td>\n",
       "      <td>None</td>\n",
       "      <td>AHGNGSMVR</td>\n",
       "      <td>0.417303</td>\n",
       "      <td>[0.99219, 0.98816, 0.99028, 0.98922, 0.98881, ...</td>\n",
       "      <td>[A, H, G, N, G, S, M, V, R]</td>\n",
       "      <td>False</td>\n",
       "      <td>False</td>\n",
       "      <td>7</td>\n",
       "      <td>False</td>\n",
       "    </tr>\n",
       "  </tbody>\n",
       "</table>\n",
       "<p>5 rows × 36 columns</p>\n",
       "</div>"
      ],
      "text/plain": [
       "   index  scan_number                           sequence  precursor_mass  \\\n",
       "0      1            1     [V, V, Q, E, Q, G, T, H, P, K]     1121.583104   \n",
       "1      2            2           [S, I, S, H, S, P, G, K]      811.418859   \n",
       "2      4            4  [R, P, D, G, D, A, A, S, Q, P, R]     1168.556249   \n",
       "3      5            5        [K, P, A, A, A, A, V, T, K]      855.517858   \n",
       "4      6            6        [A, H, G, N, S, G, M, V, R]      927.434545   \n",
       "\n",
       "   precursor_mz  precursor_charge  retention_time  \\\n",
       "0    561.798828                 2       826.27068   \n",
       "1    406.716705                 2       827.11986   \n",
       "2    585.285400                 2       829.37946   \n",
       "3    428.766205                 2       830.27022   \n",
       "4    464.724548                 2       834.39072   \n",
       "\n",
       "                                            mz_array  \\\n",
       "0  [84.0449905, 84.0814667, 92.2192078, 96.330497...   \n",
       "1  [60.0452957, 63.9886932, 63.9921455, 70.065933...   \n",
       "2  [83.06073, 84.0450897, 84.0814362, 86.0971909,...   \n",
       "3  [63.9970665, 64.000946, 70.0659332, 72.0817337...   \n",
       "4  [70.0660706, 72.0816498, 73.1327896, 73.986213...   \n",
       "\n",
       "                                     intensity_array experiment_name  ...  \\\n",
       "0  [5980.7348632813, 6190.2143554688, 757.8950805...    Mus-musculus  ...   \n",
       "1  [5493.0986328125, 2281.8249511719, 1321.101440...    Mus-musculus  ...   \n",
       "2  [1603.3936767578, 3934.4350585938, 23824.48828...    Mus-musculus  ...   \n",
       "3  [7854.0209960938, 43447.18359375, 63801.691406...    Mus-musculus  ...   \n",
       "4  [4468.5693359375, 14712.0419921875, 512.960693...    Mus-musculus  ...   \n",
       "\n",
       "  start   end prediction_untokenised  confidence  \\\n",
       "0  None  None             VVQEQGTHPK    0.893418   \n",
       "1  None  None               SISHSPGK    0.917340   \n",
       "2  None  None            RPDGDAASQPR    0.516049   \n",
       "3  None  None               KPANVVTK    0.840071   \n",
       "4  None  None              AHGNGSMVR    0.417303   \n",
       "\n",
       "                                        token_scores  \\\n",
       "0  [0.99179, 0.98928, 0.99105, 0.98631, 0.99004, ...   \n",
       "1  [0.99006, 0.98786, 0.989, 0.99064, 0.99155, 0....   \n",
       "2  [0.98958, 0.98994, 0.58038, 0.99311, 0.98462, ...   \n",
       "3  [0.99422, 0.98956, 0.98817, 0.96228, 0.9416, 0...   \n",
       "4  [0.99219, 0.98816, 0.99028, 0.98922, 0.98881, ...   \n",
       "\n",
       "                          prediction valid_prediction valid_peptide  \\\n",
       "0     [V, V, Q, E, Q, G, T, H, P, K]            False         False   \n",
       "1           [S, I, S, H, S, P, G, K]            False         False   \n",
       "2  [R, P, D, G, D, A, A, S, Q, P, R]            False         False   \n",
       "3           [K, P, A, N, V, V, T, K]            False         False   \n",
       "4        [A, H, G, N, G, S, M, V, R]            False         False   \n",
       "\n",
       "  num_matches correct  \n",
       "0          10    True  \n",
       "1           8    True  \n",
       "2          11    True  \n",
       "3           6   False  \n",
       "4           7   False  \n",
       "\n",
       "[5 rows x 36 columns]"
      ]
     },
     "execution_count": 13,
     "metadata": {},
     "output_type": "execute_result"
    }
   ],
   "source": [
    "train_dataset.metadata.head()"
   ]
  },
  {
   "cell_type": "markdown",
   "metadata": {},
   "source": [
    "### Metadata columns\n",
    "\n",
    "Each row corresponds to an MS2 spectrum with metadata and arrays:\n",
    "- `spectrum_id` (string): unique spectrum identifier, constructed by concatenating experiment name with scan number\n",
    "- `sequence_untokenised` (string): ground truth peptide sequence from database search, for labelled data only, as a string\n",
    "- `prediction_untokenised` (string): model-predicted peptide sequence as a string\n",
    "- `prediction` (list(string)): model-predicted peptide sequence as a list of amino acids \n",
    "- `confidence` (float): model confidence for the top prediction, ranges between 0 and 1\n",
    "- `token_log_probs` (list(float)): amino acid-level log-probabilities\n",
    "- `sequence` (string): ground truth peptide sequence from database search, for labelled data only\n",
    "- `precursor_charge` (int): charge of the precursor (from MS1)\n",
    "- `precursor_mass` (float): mass of the precursor ion (from MS1)\n",
    "- `retention_time` (float): retention time (seconds)\n",
    "- `mz_array` (list[float]): mass-to-charge values of the MS2 spectrum\n",
    "- `intensity_array` (list[float]): intensity values of the MS2 spectrum\n",
    "- `split` (string): train, test or validation split identity for the MS2 spectrum (not required by Winnow)\n",
    "- `valid_peptide` (boolean): whether the entry in `sequence` is of type list\n",
    "- `valid_prediction` (boolean): whether the entry in `prediction` is of type list\n",
    "- `num_matches` (integer): number of token-level matches between the sequence and prediction, if labelled\n",
    "- `correct` (boolean): whether the predicted peptide sequence is correct (i.e., do all tokens match)\n"
   ]
  },
  {
   "cell_type": "code",
   "execution_count": 32,
   "metadata": {},
   "outputs": [
    {
     "data": {
      "text/plain": [
       "[ScoredSequence(sequence=['V', 'V', 'Q', 'E', 'Q', 'G', 'T', 'H', 'P', 'K'], mass_error=None, sequence_log_probability=0.8934182, token_log_probabilities=[0.99179, 0.98928, 0.99105, 0.98631, 0.99004, 0.99065, 0.9871, 0.99055, 0.9906, 0.99038])]"
      ]
     },
     "execution_count": 32,
     "metadata": {},
     "output_type": "execute_result"
    }
   ],
   "source": [
    "# Print the first 3 beam results for the first spectrum\n",
    "# JVG: I ran the Casanovo predictions with 2 beams, but that doesn't show up here?\n",
    "train_dataset.predictions[0]"
   ]
  },
  {
   "cell_type": "markdown",
   "metadata": {},
   "source": [
    "## 4. Feature engineering deep dive\n",
    "\n",
    "Below we describe the built‑in features that Winnow can use as complementary signals during the calibration step. Which features are informative depends on the dataset, instrument, acquisition settings and the upstream DNS model. Use the descriptions below to decide what to enable, and validate with ablations on your data.\n",
    "\n",
    "### Mass error\n",
    "What it captures: Consistency between the observed precursor mass and the theoretical mass of the predicted peptide (accounting for H2O and a proton).\n",
    "- Inputs used: `prediction`, `precursor_mass`, plus `RESIDUE_MASSES` for theoretical mass.\n",
    "- Metadata columns created: `Mass Error`.\n",
    "\n",
    "### Prosit features\n",
    "What it captures: How well Prosit‑predicted fragment ions explain the experimental spectrum.\n",
    "- Implemented as: fraction of matched ions and average matched intensity within an m/z tolerance.\n",
    "- Inputs used: `prediction`, `mz_array`, `intensity_array`, `precursor_charge`.\n",
    "- Metadata columns created: `prosit_mz`, `prosit_intensity`, `ion_matches`, `ion_match_intensity`.\n",
    "\n",
    "### Prosit iRT features\n",
    "What it captures: Agreement between Prosit iRT (sequence‑based) and observed retention time, via a small RT calibration model trained on high‑confidence PSMs.\n",
    "- Inputs used: `prediction`, `retention_time`.\n",
    "- Metadata columns created: `iRT`, `predicted iRT`, `iRT error`.\n",
    "\n",
    "### Chimeric features\n",
    "What it captures: Whether runner‑up sequences also explain the spectrum (a proxy for chimericity).\n",
    "- Implemented as: ion match rate/intensity for the second‑best sequence.\n",
    "- Inputs used: `prediction` beams, `mz_array`, `intensity_array`, `precursor_charge`.\n",
    "- Metadata columns created: `runner_up_prosit_mz`, `runner_up_prosit_intensity`, `chimeric_ion_matches`, `chimeric_match_intensity`.\n",
    "\n",
    "### Beam features\n",
    "What it captures: Properties of the decoding distribution (margin to runner‑ups, median margin, entropy, and a z‑score of the top beam relative to its peers).\n",
    "- Inputs used: beam log‑probabilities from the upstream model.\n",
    "- Metadata columns created: `margin`, `median_margin`, `entropy`, `z-score`."
   ]
  },
  {
   "cell_type": "markdown",
   "metadata": {},
   "source": [
    "### Supported modifications and sequence notation\n",
    "\n",
    "Winnow expects tokenised peptide sequences where modifications are encoded inline using UNIMOD bracket notation. Examples:\n",
    "- Tokenised format: `A, C[UNIMOD:4], M[UNIMOD:35], Y[UNIMOD:21]`\n",
    "- Untokenised example (for display): `AC[UNIMOD:4]M[UNIMOD:35]Y[UNIMOD:21]`\n",
    "\n",
    "Supported modification tokens (parsed via `RESIDUE_MASSES`):\n",
    "- `C[UNIMOD:4]`: Carbamidomethylation (fixed, C)\n",
    "- `M[UNIMOD:35]`: Oxidation (M)\n",
    "- `N[UNIMOD:7]`, `Q[UNIMOD:7]`: Deamidation (N/Q)\n",
    "- `S[UNIMOD:21]`, `T[UNIMOD:21]`, `Y[UNIMOD:21]`: Phosphorylation (S/T/Y)\n",
    "- `[UNIMOD:1]`: Acetylation (e.g., N-term)\n",
    "- `[UNIMOD:5]`: Carbamylation\n",
    "- `[UNIMOD:385]`: Ammonia loss\n",
    "\n",
    "Accepted legacy/alternate notations are auto‑remapped to UNIMOD tokens during loading (via `RESIDUE_REMAPPING`):\n",
    "- `M(ox)`, `M(+15.99)` → `M[UNIMOD:35]`\n",
    "- `S(p)`, `T(p)`, `Y(p)`, `S(+79.97)`, `T(+79.97)`, `Y(+79.97)` → `*[UNIMOD:21]`\n",
    "- `Q(+0.98)`, `N(+0.98)`, `Q(+.98)`, `N(+.98)` → `*[UNIMOD:7]`\n",
    "- `C(+57.02)` → `C[UNIMOD:4]`\n",
    "- `(+42.01)` → `[UNIMOD:1]`; `(+43.01)` → `[UNIMOD:5]`; `(-17.03)` → `[UNIMOD:385]`\n",
    "\n",
    "Notation and preprocessing details:\n",
    "- Sequences are tokenised as comma‑separated tokens in the dataset (e.g., `preds_tokenised`), and Winnow normalises `L` to `I` on load.\n",
    "- For Prosit‑based features (spectral and iRT): only peptides with supported modifications are queried. Rows with unsupported modifications are filtered. Carbamidomethylation on C (`C[UNIMOD:4]`) is treated as fixed; when querying Prosit, this is internally mapped to `C`.\n",
    "- If many rows are filtered during Prosit feature computation, review your modification tokens and acquisition settings."
   ]
  },
  {
   "cell_type": "markdown",
   "metadata": {},
   "source": [
    "## 5. Calibration workflow"
   ]
  },
  {
   "cell_type": "code",
   "execution_count": null,
   "metadata": {},
   "outputs": [
    {
     "name": "stderr",
     "output_type": "stream",
     "text": [
      "Initialising calibrator.\n",
      "Adding features to calibrator.\n"
     ]
    }
   ],
   "source": [
    "# -- Set up calibrator\n",
    "logger.info(\"Initialising calibrator.\")\n",
    "SEED = 42\n",
    "calibrator = ProbabilityCalibrator(SEED)\n",
    "\n",
    "logger.info(\"Adding features to calibrator.\")\n",
    "MZ_TOLERANCE = 0.02\n",
    "HIDDEN_DIM = 10\n",
    "TRAIN_FRACTION = 0.1\n",
    "calibrator.add_feature(MassErrorFeature(residue_masses=RESIDUE_MASSES))\n",
    "calibrator.add_feature(PrositFeatures(mz_tolerance=MZ_TOLERANCE))\n",
    "calibrator.add_feature(\n",
    "    RetentionTimeFeature(hidden_dim=HIDDEN_DIM, train_fraction=TRAIN_FRACTION)\n",
    ")\n",
    "# calibrator.add_feature(ChimericFeatures(mz_tolerance=MZ_TOLERANCE)) # JVG: commented out because gives ValueError: Columns must be same length as key\"\n",
    "calibrator.add_feature(BeamFeatures())"
   ]
  },
  {
   "cell_type": "code",
   "execution_count": 36,
   "metadata": {},
   "outputs": [
    {
     "name": "stderr",
     "output_type": "stream",
     "text": [
      "Calibrating scores.\n"
     ]
    },
    {
     "data": {
      "application/vnd.jupyter.widget-view+json": {
       "model_id": "3fd00b8b5fb24f9f9ce3fafeeaa6fcc7",
       "version_major": 2,
       "version_minor": 0
      },
      "text/plain": [
       "Prosit_2020_intensity_HCD::   0%|          | 0/15 [00:00<?, ?it/s]"
      ]
     },
     "metadata": {},
     "output_type": "display_data"
    },
    {
     "data": {
      "application/vnd.jupyter.widget-view+json": {
       "model_id": "49d7393ff6b0472f846f79e385383dbf",
       "version_major": 2,
       "version_minor": 0
      },
      "text/plain": [
       "Prosit_2019_irt::   0%|          | 0/2 [00:00<?, ?it/s]"
      ]
     },
     "metadata": {},
     "output_type": "display_data"
    },
    {
     "data": {
      "application/vnd.jupyter.widget-view+json": {
       "model_id": "4ee2c19ce17d4bd3a8b1c81b39a83fe8",
       "version_major": 2,
       "version_minor": 0
      },
      "text/plain": [
       "Prosit_2019_irt::   0%|          | 0/15 [00:00<?, ?it/s]"
      ]
     },
     "metadata": {},
     "output_type": "display_data"
    },
    {
     "name": "stderr",
     "output_type": "stream",
     "text": [
      "/home/j-vangoey/code/worktree_winnow/winnow/calibration/calibration_features.py:547: UserWarning: 14203 beam search results have fewer than three sequences. This may affect the efficacy of computed beam features.\n",
      "  warnings.warn(\n"
     ]
    },
    {
     "data": {
      "application/vnd.jupyter.widget-view+json": {
       "model_id": "73a72df32f6d4393b85db5c7f416daab",
       "version_major": 2,
       "version_minor": 0
      },
      "text/plain": [
       "Prosit_2020_intensity_HCD::   0%|          | 0/4 [00:00<?, ?it/s]"
      ]
     },
     "metadata": {},
     "output_type": "display_data"
    },
    {
     "data": {
      "application/vnd.jupyter.widget-view+json": {
       "model_id": "614385c1821e413c9f363a44bf995e38",
       "version_major": 2,
       "version_minor": 0
      },
      "text/plain": [
       "Prosit_2019_irt::   0%|          | 0/4 [00:00<?, ?it/s]"
      ]
     },
     "metadata": {},
     "output_type": "display_data"
    },
    {
     "name": "stderr",
     "output_type": "stream",
     "text": [
      "/home/j-vangoey/code/worktree_winnow/winnow/calibration/calibration_features.py:547: UserWarning: 3551 beam search results have fewer than three sequences. This may affect the efficacy of computed beam features.\n",
      "  warnings.warn(\n"
     ]
    }
   ],
   "source": [
    "# -- Calibrate\n",
    "logger.info(\"Calibrating scores.\")\n",
    "calibrator.fit(train_dataset)\n",
    "calibrator.predict(test_dataset)"
   ]
  },
  {
   "cell_type": "code",
   "execution_count": 37,
   "metadata": {},
   "outputs": [
    {
     "data": {
      "application/vnd.microsoft.datawrangler.viewer.v0+json": {
       "columns": [
        {
         "name": "index",
         "rawType": "int64",
         "type": "integer"
        },
        {
         "name": "index",
         "rawType": "uint32",
         "type": "integer"
        },
        {
         "name": "scan_number",
         "rawType": "int64",
         "type": "integer"
        },
        {
         "name": "sequence",
         "rawType": "object",
         "type": "unknown"
        },
        {
         "name": "precursor_mass",
         "rawType": "float64",
         "type": "float"
        },
        {
         "name": "precursor_mz",
         "rawType": "float64",
         "type": "float"
        },
        {
         "name": "precursor_charge",
         "rawType": "int64",
         "type": "integer"
        },
        {
         "name": "retention_time",
         "rawType": "float64",
         "type": "float"
        },
        {
         "name": "mz_array",
         "rawType": "object",
         "type": "unknown"
        },
        {
         "name": "intensity_array",
         "rawType": "object",
         "type": "unknown"
        },
        {
         "name": "experiment_name",
         "rawType": "object",
         "type": "string"
        },
        {
         "name": "spectrum_id",
         "rawType": "object",
         "type": "string"
        },
        {
         "name": "sequence_untokenised",
         "rawType": "object",
         "type": "string"
        },
        {
         "name": "spectra_ref",
         "rawType": "object",
         "type": "string"
        },
        {
         "name": "PSM_ID",
         "rawType": "int64",
         "type": "integer"
        },
        {
         "name": "accession",
         "rawType": "object",
         "type": "unknown"
        },
        {
         "name": "unique",
         "rawType": "object",
         "type": "unknown"
        },
        {
         "name": "database",
         "rawType": "object",
         "type": "unknown"
        },
        {
         "name": "database_version",
         "rawType": "object",
         "type": "unknown"
        },
        {
         "name": "search_engine",
         "rawType": "object",
         "type": "unknown"
        },
        {
         "name": "modifications",
         "rawType": "object",
         "type": "unknown"
        },
        {
         "name": "retention_time_right",
         "rawType": "object",
         "type": "unknown"
        },
        {
         "name": "charge",
         "rawType": "int64",
         "type": "integer"
        },
        {
         "name": "exp_mass_to_charge",
         "rawType": "float64",
         "type": "float"
        },
        {
         "name": "calc_mass_to_charge",
         "rawType": "float64",
         "type": "float"
        },
        {
         "name": "pre",
         "rawType": "object",
         "type": "unknown"
        },
        {
         "name": "post",
         "rawType": "object",
         "type": "unknown"
        },
        {
         "name": "start",
         "rawType": "object",
         "type": "unknown"
        },
        {
         "name": "end",
         "rawType": "object",
         "type": "unknown"
        },
        {
         "name": "prediction_untokenised",
         "rawType": "object",
         "type": "string"
        },
        {
         "name": "confidence",
         "rawType": "float64",
         "type": "float"
        },
        {
         "name": "token_scores",
         "rawType": "object",
         "type": "unknown"
        },
        {
         "name": "prediction",
         "rawType": "object",
         "type": "unknown"
        },
        {
         "name": "valid_prediction",
         "rawType": "bool",
         "type": "boolean"
        },
        {
         "name": "valid_peptide",
         "rawType": "bool",
         "type": "boolean"
        },
        {
         "name": "num_matches",
         "rawType": "int64",
         "type": "integer"
        },
        {
         "name": "correct",
         "rawType": "bool",
         "type": "boolean"
        },
        {
         "name": "Mass Error",
         "rawType": "float64",
         "type": "float"
        },
        {
         "name": "prosit_mz",
         "rawType": "object",
         "type": "unknown"
        },
        {
         "name": "prosit_intensity",
         "rawType": "object",
         "type": "unknown"
        },
        {
         "name": "ion_matches",
         "rawType": "float64",
         "type": "float"
        },
        {
         "name": "ion_match_intensity",
         "rawType": "float64",
         "type": "float"
        },
        {
         "name": "iRT",
         "rawType": "float32",
         "type": "float"
        },
        {
         "name": "predicted iRT",
         "rawType": "float64",
         "type": "float"
        },
        {
         "name": "iRT error",
         "rawType": "float64",
         "type": "float"
        },
        {
         "name": "margin",
         "rawType": "float64",
         "type": "float"
        },
        {
         "name": "median_margin",
         "rawType": "float64",
         "type": "float"
        },
        {
         "name": "entropy",
         "rawType": "float64",
         "type": "float"
        },
        {
         "name": "z-score",
         "rawType": "int64",
         "type": "integer"
        }
       ],
       "ref": "019e3f0b-ab09-4164-badb-7fd5a3fd0800",
       "rows": [
        [
         "0",
         "1",
         "1",
         "['V' 'V' 'Q' 'E' 'Q' 'G' 'T' 'H' 'P' 'K']",
         "1121.58310425",
         "561.798828125",
         "2",
         "826.27068",
         "[ 84.0449905  84.0814667  92.2192078  96.3304977 101.0653839 101.0714645\n 101.1081238 103.7046738 110.0715408 112.0875854 117.1026306 123.2798386\n 129.1021271 147.1125641 154.4661102 158.0918274 171.1492004 172.1522217\n 175.1186676 199.1442413 212.7593842 226.1548615 228.1343689 230.1133423\n 235.1190338 240.0983276 241.0825653 244.1655121 245.1669159 258.108429\n 296.1357117 315.9072876 325.6723938 326.1669922 327.2027588 328.2059631\n 381.2239075 405.3287659 444.7210388 445.2106628 445.7075195 453.7256775\n 454.2206116 454.7181702 456.2469788 462.7325745 463.2322693 486.2323608\n 494.7435608 512.2670898 512.7614746 525.2433472 525.7879028 529.7671509\n 535.2214966 539.2947388 540.3016357 543.2572021 553.2391968 561.2796631\n 561.7901611 562.3076782 645.2736816 649.3391113 650.3275757 663.2802124\n 664.2722778 667.3501587 778.3814087 779.3816528 796.3944702 797.3889771\n 905.4677124 906.4361572 907.4268188 908.4307861 924.4525146 925.4536743]",
         "[ 5980.73486328  6190.21435547   757.89508057   777.95831299\n  1408.8605957  21702.48046875   860.6473999    687.97467041\n  7716.18505859   726.89440918  2897.77954102   773.69775391\n  6689.46484375  3300.93896484   813.02185059   798.12054443\n 48054.69140625  3547.74389648  3231.1550293  14650.38671875\n   909.53509521  3878.60229492  5914.83105469  1394.98974609\n   838.85058594  1188.54638672  1417.60668945 20677.68945312\n   809.79858398  4389.19335938  1562.87329102   845.25549316\n  1072.61132812  1071.18383789  3992.33203125  1156.44677734\n  3535.42358398   871.29382324  1288.71679688  2856.67236328\n  1509.99035645 15156.19921875 13859.83496094  3844.47485352\n   950.56689453  3878.81640625  1371.32275391   866.64996338\n  1307.63989258  3955.64624023   917.44787598   918.84063721\n   882.79302979  1337.94836426  1070.46948242 10200.65625\n   716.47766113   780.40637207  1512.40722656 14847.20996094\n  6108.42333984  9366.73046875   908.68182373  1868.03674316\n  4721.34667969  1332.38513184  1576.98974609  4924.83398438\n  4222.76611328  1271.3918457  16383.21972656  3979.65234375\n   852.59692383  1926.69018555 11780.58984375  3569.57592773\n 16855.203125    5385.46533203]",
         "Mus-musculus",
         "Mus-musculus:1",
         "VVQEQGTHPK",
         "ms_run[1]:index=1",
         "2",
         null,
         null,
         null,
         null,
         "['Casanovo' '5.0.1.dev3+gec67e9800.d20250909']",
         null,
         null,
         "2",
         "561.798828125",
         "561.7987670898438",
         null,
         null,
         null,
         null,
         "VVQEQGTHPK",
         "0.8934182",
         "[0.99179 0.98928 0.99105 0.98631 0.99004 0.99065 0.9871  0.99055 0.9906\n 0.99038]",
         "['V', 'V', 'Q', 'E', 'Q', 'G', 'T', 'H', 'P', 'K']",
         "False",
         "False",
         "10",
         "True",
         "-1.0071217500003513",
         "[ 147.11280823  164.10498047  199.144104    228.62628174  244.16557312\n  327.20266724  381.2244873   440.21960449  456.24526978  462.73031616\n  482.27215576  512.26452637  539.29364014  584.30383301  641.32531738\n  667.35217285  742.37298584  796.39477539  879.43188477  924.45336914\n  976.48468018 1023.52178955]",
         "[0.033297181129455566, 0.0011160786962136626, 0.4844439625740051, 0.003095549065619707, 0.5807597041130066, 0.25471359491348267, 0.0839807391166687, 0.0031601847149431705, 0.1026659905910492, 1.0, 0.01896589621901512, 0.4289229214191437, 0.3593091070652008, 0.05453590676188469, 0.010701318271458149, 0.2531006932258606, 0.023736299946904182, 0.5943803191184998, 0.2835981845855713, 0.9249335527420044, 0.0033082065638154745, 0.024983206763863564]",
         "0.5454545454545454",
         "0.2806002941283051",
         "-27.090435",
         "12.989075365016786",
         "40.07951039309296",
         "2.4434676538255506",
         "2.4434676538255506",
         "0.0",
         "0"
        ],
        [
         "1",
         "2",
         "2",
         "['S' 'I' 'S' 'H' 'S' 'P' 'G' 'K']",
         "811.4188586445321",
         "406.716705322266",
         "2",
         "827.11986",
         "[ 60.0452957  63.9886932  63.9921455  70.0659332  71.0694046  72.0815887\n  74.0608673  79.9997406  83.0608978  84.0452881  84.0814896  85.084938\n  86.097084   87.0560455  87.1003036  93.5553055 101.0363007 101.0714417\n 102.0556793 110.0717316 111.0751801 112.0873718 113.0717697 113.0800858\n 115.0867844 126.4012451 129.1025238 130.0866547 135.7389984 138.0661163\n 141.102066  143.1186676 147.1128693 154.9868011 155.0817566 155.1174164\n 158.0927734 169.0974731 173.1286774 174.1321411 175.1190033 178.1340027\n 184.322403  185.0925598 186.122818  187.1439972 197.1040802 201.1236877\n 202.125824  204.1343384 206.1287994 223.1554718 224.1585541 225.0981293\n 233.1301117 246.1568298 251.1504517 252.1312714 252.1548309 254.1868896\n 256.138092  263.1431885 266.1242065 272.1362305 283.177063  289.160553\n 290.1635437 294.1190491 297.6531067 301.1875    302.1898804 303.1789551\n 304.1757813 306.6587219 307.1602173 307.6578369 311.657959  312.1309814\n 354.1986389 358.7688293 363.2020264 370.2089844 370.6895142 375.7229309\n 379.5390625 388.2193298 397.2187195 397.7128906 398.2103882 400.2302551\n 401.2301941 405.7103882 406.2122192 406.7125244 407.2061768 407.7205811\n 418.2039185 425.2150269 446.0133667 466.2082825 489.2441406 494.2348328\n 512.2485962 525.2800293 529.166748  532.2426147 560.2772217 561.2819824\n 594.2952271 612.3098755 613.3132324 644.411377  673.3619995 674.3627319\n 740.3687744 741.3620605 846.0349121]",
         "[ 5493.09863281  2281.82495117  1321.10144043 25546.11914062\n   769.43701172  8629.04980469 20942.62304688   661.79400635\n   996.71166992  1324.14025879 23471.88867188   669.23291016\n 17714.58984375  4332.38525391   760.81176758   590.26947021\n   542.45501709  2737.91235352  1369.16784668 44230.66796875\n  3078.66455078  2349.05371094   643.81951904   624.487854\n  1177.56848145   657.30523682 18878.44335938  8073.20605469\n   666.03375244  2881.51123047  4944.87792969   800.25091553\n  9722.47851562   489.60025024   630.01104736   712.6217041\n  1325.41296387  3440.74389648 64264.8984375   5096.29003906\n  7605.12695312  3824.59741211   597.15234375   665.75152588\n  1066.46911621  1174.19250488  2186.32763672 13120.64257812\n   695.09002686  2823.94335938  1049.29528809 14380.29199219\n  3073.22167969  8312.99804688   729.40087891   621.81951904\n  9520.10546875   699.39978027  2400.40917969  2329.59326172\n   818.63739014  3529.86621094   723.43511963   746.93615723\n   950.68548584  4765.89892578   916.14672852   943.37591553\n  1395.70678711 14804.63378906   912.82354736   892.47814941\n  1076.85449219 11354.50878906  3298.93725586   682.9609375\n   878.80383301  5092.11816406   809.39587402   588.66357422\n  4032.30200195  2706.26904297   763.65643311  2378.82983398\n   903.57806396  7428.81933594  1077.7935791   5086.44335938\n  1136.31188965  1335.22253418   770.29608154  1239.8203125\n  4121.24658203  8519.68457031  6770.95849609  3639.70922852\n   756.17156982   804.10601807   560.69372559   944.88018799\n  1114.09155273  1106.08032227  1351.86633301  1240.25598145\n   724.04730225  1086.6796875   7827.77734375  3419.73364258\n  1450.10241699 11259.75683594  2338.90258789   839.58868408\n  3968.59912109  3883.45288086  3525.25317383   752.82104492\n   668.24658203]",
         "Mus-musculus",
         "Mus-musculus:2",
         "SISHSPGK",
         "ms_run[1]:index=2",
         "3",
         null,
         null,
         null,
         null,
         "['Casanovo' '5.0.1.dev3+gec67e9800.d20250909']",
         null,
         null,
         "2",
         "406.7167053222656",
         "406.7166748046875",
         null,
         null,
         null,
         null,
         "SISHSPGK",
         "0.9173402",
         "[0.99006 0.98786 0.989   0.99064 0.99155 0.99068 0.99071 0.99341]",
         "['S', 'I', 'S', 'H', 'S', 'P', 'G', 'K']",
         "False",
         "False",
         "8",
         "True",
         "-1.007268355467886",
         "[147.11280823 201.12336731 204.13426208 263.14263916 288.15539551\n 301.18704224 306.65863037 363.20068359 388.21905518 425.21429443\n 512.24633789 525.2779541  609.29907227 612.30999756 666.32055664\n 725.39404297]",
         "[0.12278353422880173, 0.29561299085617065, 0.022112654522061348, 0.04308686777949333, 0.019461290910840034, 0.19955027103424072, 0.37418267130851746, 0.10626443475484848, 0.20615051686763763, 0.037710435688495636, 0.07793353497982025, 0.10985669493675232, 0.006772732362151146, 1.0, 0.05825261026620865, 0.00135516794398427]",
         "0.75",
         "0.1541781539752371",
         "-0.29567337",
         "13.003668251962422",
         "13.29934162232375",
         "2.502625047525534",
         "2.502625047525534",
         "0.0",
         "0"
        ],
        [
         "2",
         "4",
         "4",
         "['R' 'P' 'D' 'G' 'D' 'A' 'A' 'S' 'Q' 'P' 'R']",
         "1168.55624878125",
         "585.285400390625",
         "2",
         "829.37946",
         "[  83.06073     84.0450897   84.0814362   86.0971909   87.055542\n  100.7977753  101.071228   101.1078644  102.0552139  108.0876312\n  109.4674149  110.0716095  111.0750504  112.0871658  113.0709991\n  115.0865784  126.0910263  129.102356   129.1118164  129.1385345\n  130.0864868  136.0758667  138.0662842  140.0817871  143.1174469\n  146.2573395  147.1123352  155.0922241  155.999939   156.0765839\n  157.1084747  158.0920868  159.0745544  167.0916748  169.0970306\n  174.0868225  175.1189728  183.0759125  185.1634827  193.1080017\n  194.1291504  195.1131134  199.1087189  199.1438904  201.0865479\n  202.0818024  204.075531   207.0870361  209.1391907  211.1192627\n  212.1391754  221.1025238  224.1137238  226.1546631  234.0992584\n  235.0822601  239.1143188  240.1348724  244.1653442  247.1086121\n  248.1026611  249.0991669  251.1492462  252.1092529  252.1345825\n  253.0915375  253.1771088  254.1602631  254.1833496  255.1448822\n  256.1477966  257.124176   266.1615601  270.1433716  271.2134705\n  272.1717224  284.1719971  287.2079773  291.1178589  304.1604309\n  315.2020264  321.1304321  323.1737061  327.1655884  334.1361389\n  335.1437683  339.1392822  351.1759033  352.1603088  367.2084961\n  369.143158   369.1877747  370.1905518  377.1590271  385.2201233\n  393.1883545  395.1676025  403.1702576  411.1966858  412.2585754\n  421.1831055  422.178009   431.1565857  431.2210388  439.1938782\n  442.2357178  448.1809387  455.2951355  456.2583313  456.7463074\n  457.1994629  474.2120972  475.7399902  483.2932129  484.2946777\n  487.2596741  490.2403259  507.2362366  512.7527466  513.3091431\n  520.7794189  524.2105713  527.331604   531.2738037  531.7542725\n  532.2559814  540.2281494  540.3154297  541.2358398  541.3203125\n  542.2384644  548.3150635  549.2724609  550.2021484  555.2593384\n  555.7625732  556.2627563  556.3435059  557.2527466  557.34729\n  558.2266235  558.3014526  562.3057251  566.2581177  566.3302612\n  567.2160034  567.2837524  567.7700806  568.2061157  568.2946167\n  568.7647705  575.7945557  576.2826538  576.7739868  577.2732544\n  577.7736816  584.3439331  584.8047485  585.2874146  585.7861938\n  586.289917   612.2712402  629.3370361  630.336853   662.343689\n  683.3095093  770.3403931  771.3497314  801.3829346  802.3916626\n  870.4037476  881.3777466  884.432251   898.4026489  899.3873291\n  909.454895   916.4140625  917.397644   970.0448608 1013.4616699\n 1014.4614868]",
         "[  1603.39367676   3934.43505859  23824.48828125   1312.07250977\n    917.22644043    792.27154541   5629.82421875   1268.24462891\n   1660.74169922    790.66064453    732.73040771  73999.3046875\n   1245.92468262   8833.82910156   1157.78662109   4506.76806641\n   3459.11450195  24664.01757812   1697.56872559   4245.78417969\n   1273.47290039   1594.83166504   2046.29833984   5784.66552734\n   5406.45458984    936.8739624    4421.10351562   1990.52856445\n    806.38110352   7043.40185547  15829.33691406   3616.11572266\n    907.31524658   1335.01977539   1934.83691406   1779.42907715\n  15036.64550781    756.46759033   1032.91918945   3311.30786133\n    789.39379883   1267.58764648    779.22229004   1077.00598145\n   1013.44641113   7115.80566406   1287.04968262   7464.19970703\n    998.19573975   1573.56274414   3583.61816406   4339.87646484\n   2004.01403809   1345.97680664    832.16937256   7503.25097656\n   7190.87695312   1075.86315918   5882.2421875     894.01403809\n    878.74908447    969.66656494   1224.44567871  33745.25390625\n   1731.6505127    2036.11230469  14394.22558594  15453.42773438\n   1101.47949219  21497.20117188   1189.05505371   1344.98254395\n  10907.86523438   1069.17028809    895.26519775   7644.41552734\n  23508.296875     1704.63061523   4073.20336914   1495.64416504\n   7862.82275391   1092.59899902   1267.84069824   1042.21875\n   1262.10192871   1420.73925781   2974.34057617    814.26245117\n   1010.39556885   1274.6550293    1522.61791992  28012.79492188\n   3559.58374023   2035.73352051   7534.49951172   7855.65039062\n   1212.26025391   1237.1784668    7150.45019531   1149.05529785\n   9460.72753906   1350.02416992   1100.26196289    954.41192627\n  17882.375         960.16046143   1413.8770752    1829.28466797\n   3813.70214844   1649.62585449   9078.79785156   1146.74987793\n   1229.20068359  10106.89746094   1854.00048828   1122.99755859\n   1495.01989746   3531.94726562   1488.73266602   1232.0222168\n    964.0078125    3821.24536133   1367.63439941   1251.79614258\n   5440.44775391   3897.46777344   2495.49291992  10728.27539062\n  12738.54394531   5183.24755859   1351.95629883   1207.28515625\n   6811.70214844   1654.23046875    889.1741333   12348.27148438\n   5477.20068359  15387.1015625    1452.88989258   7216.13525391\n   1313.41088867   1054.03674316   2034.20874023   1235.16577148\n  21615.46875      1354.2232666   28264.68945312   3678.74121094\n   7642.27246094   1633.42028809   1415.20568848   1537.76818848\n  16334.28320312  54925.65625     22852.64453125   4653.55810547\n  38257.1015625   17254.29296875 412751.1875     163712.03125\n  37896.265625     1141.55395508  25115.88867188   4487.20898438\n   1429.14990234   4766.49707031   3457.73291016   1090.79919434\n  23086.30078125   7703.64501953   3299.71923828   3758.9609375\n    988.94750977  10343.91113281   5880.80126953    980.6651001\n   7421.60888672   1308.01037598    982.60888672  11354.57226562\n   5571.4296875 ]",
         "Mus-musculus",
         "Mus-musculus:4",
         "RPDGDAASQPR",
         "ms_run[1]:index=4",
         "5",
         null,
         null,
         null,
         null,
         "['Casanovo' '5.0.1.dev3+gec67e9800.d20250909']",
         null,
         null,
         "2",
         "585.285400390625",
         "585.2865600585938",
         null,
         null,
         null,
         null,
         "RPDGDAASQPR",
         "0.5160494",
         "[0.98958 0.98994 0.58038 0.99311 0.98462 0.98992 0.99189 0.99461 0.99153\n 0.99084 0.97757]",
         "['R', 'P', 'D', 'G', 'D', 'A', 'A', 'S', 'Q', 'P', 'R']",
         "False",
         "False",
         "11",
         "True",
         "-1.0095612187501501",
         "[ 157.10838318  175.11895752  254.16114807  272.17172241  369.18807983\n  487.2623291   507.23596191  541.23651123  612.27362061  629.33654785\n  683.31072998  770.34277344  801.38494873  898.40130615  916.41192627\n  995.45410156 1013.46466064]",
         "[0.1592959761619568, 0.04856092110276222, 0.3398972153663635, 0.10122951865196228, 1.0, 0.00722272926941514, 0.01728815771639347, 0.6917616724967957, 0.005030691158026457, 0.7717961072921753, 0.027837740257382393, 0.016968250274658203, 0.8867802619934082, 0.22693485021591187, 0.228706493973732, 0.04968606308102608, 0.2904505431652069]",
         "0.9411764705882353",
         "0.11146119900265582",
         "-30.257565",
         "13.0424987559101",
         "43.30006330058784",
         "1.6753957399028878",
         "1.6753957399028878",
         "0.0",
         "0"
        ],
        [
         "3",
         "5",
         "5",
         "['K' 'P' 'A' 'A' 'A' 'A' 'V' 'T' 'K']",
         "855.517857667968",
         "428.766204833984",
         "2",
         "830.27022",
         "[ 63.9970665  64.000946   70.0659332  72.0817337  73.0477066  74.0608978\n  84.0815048  89.1168442  91.0582504  98.9847336 101.107666  104.8453522\n 122.3495026 128.0375671 129.102478  130.0867157 141.1027527 147.1128082\n 149.0451508 167.0558319 167.5385284 169.0978851 175.1202087 194.1676941\n 208.9533234 226.1551819 240.134613  248.1611938 341.0185852 359.0286255\n 364.7170105 365.219574  382.2071533 420.2545166 428.7670593 429.0868835\n 429.2650757 481.2764893 510.305481  560.3384399 631.3742676 661.1931152\n 728.4308472 729.4389038]",
         "[  7854.02099609  43447.18359375  63801.69140625  18508.08789062\n  18742.546875    46616.08984375 395855.3125       6820.70214844\n  12335.56152344  41771.34375     57297.90625      7325.03662109\n   7420.62744141   7198.08740234 123731.5546875   14668.93457031\n  14085.20605469  57044.4375      12828.8515625   14414.70117188\n   7503.78759766  12835.32617188   8865.46679688   6995.59375\n  11626.2265625   12375.88574219  13541.16308594  39420.8203125\n  11080.32910156  95475.0390625   67335.5         13111.83886719\n  18653.43554688  44825.890625    62763.6171875   10439.73632812\n  44144.64453125  17219.87890625  13104.94335938  13657.08691406\n  31742.03320312   8139.51318359  53379.4921875   13171.32617188]",
         "Mus-musculus",
         "Mus-musculus:5",
         "KPAAAAVTK",
         "ms_run[1]:index=5",
         "6",
         null,
         null,
         null,
         null,
         "['Casanovo' '5.0.1.dev3+gec67e9800.d20250909']",
         null,
         null,
         "2",
         "428.7662048339844",
         "428.7661437988281",
         null,
         null,
         null,
         null,
         "KPANVVTK",
         "0.84007144",
         "[0.99422 0.98956 0.98817 0.96228 0.9416  0.98269 0.99138 0.98918]",
         "['K', 'P', 'A', 'N', 'V', 'V', 'T', 'K']",
         "False",
         "False",
         "6",
         "False",
         "-1.0072473320320796",
         "[113.58113861 129.10223389 147.11280823 226.15499878 248.16047668\n 297.19210815 305.1895752  347.22888184 364.71868896 411.23504639\n 446.29730225 510.3034668  560.34020996 609.37188721 631.37738037\n 710.41955566 728.43011475]",
         "[0.0007569943554699421, 0.4367423951625824, 0.14382211863994598, 0.06219841539859772, 0.16600142419338226, 0.005869089160114527, 0.000987725448794663, 0.04844052344560623, 0.2882327139377594, 0.0007103763055056334, 0.007625754456967115, 0.07033592462539673, 0.036717887967824936, 0.13615773618221283, 0.1646059900522232, 0.1435040533542633, 1.0]",
         "0.5294117647058824",
         "0.2568599055946239",
         "-18.566204",
         "13.057806181868882",
         "31.624010252913806",
         "2.316532463949044",
         "2.316532463949044",
         "0.0",
         "0"
        ],
        [
         "4",
         "6",
         "6",
         "['A' 'H' 'G' 'N' 'S' 'G' 'M' 'V' 'R']",
         "927.434544679688",
         "464.724548339844",
         "2",
         "834.39072",
         "[ 70.0660706  72.0816498  73.1327896  73.9862137  74.0610123  76.5552292\n  83.0610962  84.0451508  84.0815048  85.0848999  86.0970764  91.0580444\n  98.0969849 100.1624908 101.1078644 102.055542  102.0919647 104.0532455\n 110.0717697 112.0876236 115.0876083 115.1233978 126.0921555 129.1025391\n 130.0865479 136.0770416 136.0870667 138.0665741 141.1026917 143.1179352\n 144.1194153 147.1130676 149.0455933 155.4529724 158.0930023 161.1288147\n 164.0823059 165.1139374 166.0614929 167.0550385 167.0928497 169.0970764\n 171.1129456 175.1192017 176.1234283 181.1088562 187.1447754 187.4337769\n 192.0770721 195.0880585 199.1076965 201.1038513 209.1035919 210.1069946\n 216.5096436 246.1831818 248.1156311 252.1344757 257.161377  266.1260986\n 270.1479187 276.1016846 301.1886597 303.2029114 305.1725464 359.0296326\n 360.0311279 360.2250061 361.0267334 362.028595  392.0291748 420.203186\n 420.6940613 429.2067566 429.7075195 430.210907  431.0883484 432.0916748\n 434.1998596 434.6968384 438.6960449 439.1955566 441.7556152 447.2068787\n 447.7083435 448.209198  449.7543335 456.2140503 456.2713623 456.7697449\n 461.2752686 463.7813416 464.2313232 464.2844543 464.7224121 464.7849426\n 465.2771606 465.7771606 549.2826538 627.3602295 629.3637085 646.3014526\n 663.3250732 664.3287354 684.3721313 700.4035034 703.3215332 720.3464355\n 721.3468018 721.4452515 722.3516235 755.4490356 783.4377441 787.4300537\n 788.4379272 815.43927   817.4484863]",
         "[ 4468.56933594 14712.04199219   512.96069336   569.7600708\n  2513.07495117   579.98052979   709.32507324  1212.44555664\n 46019.51953125  3244.48706055  3182.05761719  3282.14331055\n 10720.875        697.76751709   746.777771     682.14465332\n   884.26220703   776.29864502 27740.02539062  1454.9329834\n   739.11676025  1307.78808594   895.30352783 16217.81445312\n  9370.46289062   991.40338135  6100.26464844  1498.41833496\n  1380.18017578  4764.88085938   560.84802246 12903.06347656\n   702.4052124    590.39904785  1414.95654297   926.81072998\n  4032.3894043    850.17645264 13258.1328125    888.76245117\n   677.28851318   825.71881104  1303.06921387 13046.67285156\n   594.10473633 18813.06445312   993.20373535   590.78485107\n 17782.015625    3504.0480957   1361.71643066   573.86486816\n 50776.09375     4460.45556641   609.9251709    702.14849854\n  1130.74816895   747.16442871   993.02148438  3602.20385742\n   687.27905273   684.02410889   756.17541504   693.54193115\n  2452.69091797  3857.88452148  3658.44555664   893.67553711\n 17988.19921875  3067.28515625   698.81396484  2883.74658203\n  1249.36767578 31886.765625   12156.55957031  3237.13769531\n  7135.61376953  2452.09057617  1509.71337891  1191.54150391\n   888.13189697   873.47821045   763.51477051 26480.55273438\n 11318.88769531  2717.42822266  2138.86816406  1019.73760986\n  2750.74755859   813.71820068   959.19177246  1227.19970703\n  1458.1965332   5438.71728516  6386.40869141  2761.33618164\n 39898.49609375 13045.51367188  2959.39086914  1031.47851562\n  4407.92578125   982.28533936  5188.26269531  1230.43395996\n  4222.67822266  2996.88549805  1521.59313965 41860.296875\n 12990.07324219   674.33337402  2475.3527832   2907.28857422\n  2757.921875    5407.66015625   818.39855957  1092.26257324\n  1030.18444824]",
         "Mus-musculus",
         "Mus-musculus:6",
         "AHGNSGMVR",
         "ms_run[1]:index=6",
         "7",
         null,
         null,
         null,
         null,
         "['Casanovo' '5.0.1.dev3+gec67e9800.d20250909']",
         null,
         null,
         "2",
         "464.72454833984375",
         "464.7245178222656",
         null,
         null,
         null,
         null,
         "AHGNGSMVR",
         "0.41730267",
         "[0.99219 0.98816 0.99028 0.98922 0.98881 0.70929 0.87628 0.72366 0.9864 ]",
         "['A', 'H', 'G', 'N', 'G', 'S', 'M', 'V', 'R']",
         "False",
         "False",
         "7",
         "False",
         "-1.0072503203119823",
         "[175.11895752 209.103302   266.12475586 274.18737793 380.16769409\n 429.20596313 492.2598877  549.28137207 655.26165771 663.32427979\n 720.34576416 754.33007812]",
         "[0.06681964546442032, 0.7034314870834351, 0.06720014661550522, 0.00020303024211898446, 0.01108733844012022, 0.5444308519363403, 0.006731873378157616, 0.057110678404569626, 0.01248227246105671, 0.10251262784004211, 1.0, 0.018404293805360794]",
         "0.5833333333333334",
         "0.2319256299813654",
         "-9.679371",
         "13.128615657668432",
         "22.807986537795387",
         "1.5178618546646487",
         "1.5178618546646487",
         "0.0",
         "0"
        ]
       ],
       "shape": {
        "columns": 48,
        "rows": 5
       }
      },
      "text/html": [
       "<div>\n",
       "<style scoped>\n",
       "    .dataframe tbody tr th:only-of-type {\n",
       "        vertical-align: middle;\n",
       "    }\n",
       "\n",
       "    .dataframe tbody tr th {\n",
       "        vertical-align: top;\n",
       "    }\n",
       "\n",
       "    .dataframe thead th {\n",
       "        text-align: right;\n",
       "    }\n",
       "</style>\n",
       "<table border=\"1\" class=\"dataframe\">\n",
       "  <thead>\n",
       "    <tr style=\"text-align: right;\">\n",
       "      <th></th>\n",
       "      <th>index</th>\n",
       "      <th>scan_number</th>\n",
       "      <th>sequence</th>\n",
       "      <th>precursor_mass</th>\n",
       "      <th>precursor_mz</th>\n",
       "      <th>precursor_charge</th>\n",
       "      <th>retention_time</th>\n",
       "      <th>mz_array</th>\n",
       "      <th>intensity_array</th>\n",
       "      <th>experiment_name</th>\n",
       "      <th>...</th>\n",
       "      <th>prosit_intensity</th>\n",
       "      <th>ion_matches</th>\n",
       "      <th>ion_match_intensity</th>\n",
       "      <th>iRT</th>\n",
       "      <th>predicted iRT</th>\n",
       "      <th>iRT error</th>\n",
       "      <th>margin</th>\n",
       "      <th>median_margin</th>\n",
       "      <th>entropy</th>\n",
       "      <th>z-score</th>\n",
       "    </tr>\n",
       "  </thead>\n",
       "  <tbody>\n",
       "    <tr>\n",
       "      <th>0</th>\n",
       "      <td>1</td>\n",
       "      <td>1</td>\n",
       "      <td>[V, V, Q, E, Q, G, T, H, P, K]</td>\n",
       "      <td>1121.583104</td>\n",
       "      <td>561.798828</td>\n",
       "      <td>2</td>\n",
       "      <td>826.27068</td>\n",
       "      <td>[84.0449905, 84.0814667, 92.2192078, 96.330497...</td>\n",
       "      <td>[5980.7348632813, 6190.2143554688, 757.8950805...</td>\n",
       "      <td>Mus-musculus</td>\n",
       "      <td>...</td>\n",
       "      <td>[0.033297181129455566, 0.0011160786962136626, ...</td>\n",
       "      <td>0.545455</td>\n",
       "      <td>0.280600</td>\n",
       "      <td>-27.090435</td>\n",
       "      <td>12.989075</td>\n",
       "      <td>40.079510</td>\n",
       "      <td>2.443468</td>\n",
       "      <td>2.443468</td>\n",
       "      <td>0.0</td>\n",
       "      <td>0</td>\n",
       "    </tr>\n",
       "    <tr>\n",
       "      <th>1</th>\n",
       "      <td>2</td>\n",
       "      <td>2</td>\n",
       "      <td>[S, I, S, H, S, P, G, K]</td>\n",
       "      <td>811.418859</td>\n",
       "      <td>406.716705</td>\n",
       "      <td>2</td>\n",
       "      <td>827.11986</td>\n",
       "      <td>[60.0452957, 63.9886932, 63.9921455, 70.065933...</td>\n",
       "      <td>[5493.0986328125, 2281.8249511719, 1321.101440...</td>\n",
       "      <td>Mus-musculus</td>\n",
       "      <td>...</td>\n",
       "      <td>[0.12278353422880173, 0.29561299085617065, 0.0...</td>\n",
       "      <td>0.750000</td>\n",
       "      <td>0.154178</td>\n",
       "      <td>-0.295673</td>\n",
       "      <td>13.003668</td>\n",
       "      <td>13.299342</td>\n",
       "      <td>2.502625</td>\n",
       "      <td>2.502625</td>\n",
       "      <td>0.0</td>\n",
       "      <td>0</td>\n",
       "    </tr>\n",
       "    <tr>\n",
       "      <th>2</th>\n",
       "      <td>4</td>\n",
       "      <td>4</td>\n",
       "      <td>[R, P, D, G, D, A, A, S, Q, P, R]</td>\n",
       "      <td>1168.556249</td>\n",
       "      <td>585.285400</td>\n",
       "      <td>2</td>\n",
       "      <td>829.37946</td>\n",
       "      <td>[83.06073, 84.0450897, 84.0814362, 86.0971909,...</td>\n",
       "      <td>[1603.3936767578, 3934.4350585938, 23824.48828...</td>\n",
       "      <td>Mus-musculus</td>\n",
       "      <td>...</td>\n",
       "      <td>[0.1592959761619568, 0.04856092110276222, 0.33...</td>\n",
       "      <td>0.941176</td>\n",
       "      <td>0.111461</td>\n",
       "      <td>-30.257565</td>\n",
       "      <td>13.042499</td>\n",
       "      <td>43.300063</td>\n",
       "      <td>1.675396</td>\n",
       "      <td>1.675396</td>\n",
       "      <td>0.0</td>\n",
       "      <td>0</td>\n",
       "    </tr>\n",
       "    <tr>\n",
       "      <th>3</th>\n",
       "      <td>5</td>\n",
       "      <td>5</td>\n",
       "      <td>[K, P, A, A, A, A, V, T, K]</td>\n",
       "      <td>855.517858</td>\n",
       "      <td>428.766205</td>\n",
       "      <td>2</td>\n",
       "      <td>830.27022</td>\n",
       "      <td>[63.9970665, 64.000946, 70.0659332, 72.0817337...</td>\n",
       "      <td>[7854.0209960938, 43447.18359375, 63801.691406...</td>\n",
       "      <td>Mus-musculus</td>\n",
       "      <td>...</td>\n",
       "      <td>[0.0007569943554699421, 0.4367423951625824, 0....</td>\n",
       "      <td>0.529412</td>\n",
       "      <td>0.256860</td>\n",
       "      <td>-18.566204</td>\n",
       "      <td>13.057806</td>\n",
       "      <td>31.624010</td>\n",
       "      <td>2.316532</td>\n",
       "      <td>2.316532</td>\n",
       "      <td>0.0</td>\n",
       "      <td>0</td>\n",
       "    </tr>\n",
       "    <tr>\n",
       "      <th>4</th>\n",
       "      <td>6</td>\n",
       "      <td>6</td>\n",
       "      <td>[A, H, G, N, S, G, M, V, R]</td>\n",
       "      <td>927.434545</td>\n",
       "      <td>464.724548</td>\n",
       "      <td>2</td>\n",
       "      <td>834.39072</td>\n",
       "      <td>[70.0660706, 72.0816498, 73.1327896, 73.986213...</td>\n",
       "      <td>[4468.5693359375, 14712.0419921875, 512.960693...</td>\n",
       "      <td>Mus-musculus</td>\n",
       "      <td>...</td>\n",
       "      <td>[0.06681964546442032, 0.7034314870834351, 0.06...</td>\n",
       "      <td>0.583333</td>\n",
       "      <td>0.231926</td>\n",
       "      <td>-9.679371</td>\n",
       "      <td>13.128616</td>\n",
       "      <td>22.807987</td>\n",
       "      <td>1.517862</td>\n",
       "      <td>1.517862</td>\n",
       "      <td>0.0</td>\n",
       "      <td>0</td>\n",
       "    </tr>\n",
       "  </tbody>\n",
       "</table>\n",
       "<p>5 rows × 48 columns</p>\n",
       "</div>"
      ],
      "text/plain": [
       "   index  scan_number                           sequence  precursor_mass  \\\n",
       "0      1            1     [V, V, Q, E, Q, G, T, H, P, K]     1121.583104   \n",
       "1      2            2           [S, I, S, H, S, P, G, K]      811.418859   \n",
       "2      4            4  [R, P, D, G, D, A, A, S, Q, P, R]     1168.556249   \n",
       "3      5            5        [K, P, A, A, A, A, V, T, K]      855.517858   \n",
       "4      6            6        [A, H, G, N, S, G, M, V, R]      927.434545   \n",
       "\n",
       "   precursor_mz  precursor_charge  retention_time  \\\n",
       "0    561.798828                 2       826.27068   \n",
       "1    406.716705                 2       827.11986   \n",
       "2    585.285400                 2       829.37946   \n",
       "3    428.766205                 2       830.27022   \n",
       "4    464.724548                 2       834.39072   \n",
       "\n",
       "                                            mz_array  \\\n",
       "0  [84.0449905, 84.0814667, 92.2192078, 96.330497...   \n",
       "1  [60.0452957, 63.9886932, 63.9921455, 70.065933...   \n",
       "2  [83.06073, 84.0450897, 84.0814362, 86.0971909,...   \n",
       "3  [63.9970665, 64.000946, 70.0659332, 72.0817337...   \n",
       "4  [70.0660706, 72.0816498, 73.1327896, 73.986213...   \n",
       "\n",
       "                                     intensity_array experiment_name  ...  \\\n",
       "0  [5980.7348632813, 6190.2143554688, 757.8950805...    Mus-musculus  ...   \n",
       "1  [5493.0986328125, 2281.8249511719, 1321.101440...    Mus-musculus  ...   \n",
       "2  [1603.3936767578, 3934.4350585938, 23824.48828...    Mus-musculus  ...   \n",
       "3  [7854.0209960938, 43447.18359375, 63801.691406...    Mus-musculus  ...   \n",
       "4  [4468.5693359375, 14712.0419921875, 512.960693...    Mus-musculus  ...   \n",
       "\n",
       "                                    prosit_intensity ion_matches  \\\n",
       "0  [0.033297181129455566, 0.0011160786962136626, ...    0.545455   \n",
       "1  [0.12278353422880173, 0.29561299085617065, 0.0...    0.750000   \n",
       "2  [0.1592959761619568, 0.04856092110276222, 0.33...    0.941176   \n",
       "3  [0.0007569943554699421, 0.4367423951625824, 0....    0.529412   \n",
       "4  [0.06681964546442032, 0.7034314870834351, 0.06...    0.583333   \n",
       "\n",
       "  ion_match_intensity        iRT predicted iRT  iRT error    margin  \\\n",
       "0            0.280600 -27.090435     12.989075  40.079510  2.443468   \n",
       "1            0.154178  -0.295673     13.003668  13.299342  2.502625   \n",
       "2            0.111461 -30.257565     13.042499  43.300063  1.675396   \n",
       "3            0.256860 -18.566204     13.057806  31.624010  2.316532   \n",
       "4            0.231926  -9.679371     13.128616  22.807987  1.517862   \n",
       "\n",
       "  median_margin entropy z-score  \n",
       "0      2.443468     0.0       0  \n",
       "1      2.502625     0.0       0  \n",
       "2      1.675396     0.0       0  \n",
       "3      2.316532     0.0       0  \n",
       "4      1.517862     0.0       0  \n",
       "\n",
       "[5 rows x 48 columns]"
      ]
     },
     "execution_count": 37,
     "metadata": {},
     "output_type": "execute_result"
    }
   ],
   "source": [
    "train_dataset.metadata.head()"
   ]
  },
  {
   "cell_type": "markdown",
   "metadata": {},
   "source": [
    "### Added feature columns\n",
    "\n",
    "- `Mass Error` (float): difference between observed precursor mass and theoretical peptide mass, accounting for the mass of water and a proton.\n",
    "- `prosit_mz` (list(float)): Prosit-predicted m/z values\n",
    "- `prosit_intensity` (list(float)): Prosit-predicted intensity values\n",
    "- `ion_matches` (float): ion match rate between theoretical (Prosit-predicted) ions and experimental ions\n",
    "- `ion_match_intensity` (float): ion match intensity between theoretical (Prosit-predicted) ions and experimental ions\n",
    "- `iRT` (float):  Prosit-predicted iRT, based on the sequence value\n",
    "- `predicted iRT` (float): Winnow-predicted iRT, based on experimental retention time values\n",
    "- `iRT error` (float): absolute difference between `iRT` and `predicted iRT`\n",
    "- `runner_up_prosit_mz` (list(float)): Prosit-predicted m/z values for the runner up beam result\n",
    "- `runner_up_prosit_intensity` (list(float)): Prosit-predicted intensity values for the runner up beam result\n",
    "- `chimeric_ion_matches` (float): ion match rate between theoretical (Prosit-predicted) ions and experimental ions for the secondmost beam result\n",
    "- `chimeric_ion_match_intensity` (float): ion match intensity between theoretical (Prosit-predicted) ions and experimental ions for the secondmost beam result\n",
    "- `margin` (float): difference between probabilities of top and secondmost beam result\n",
    "- `median_margin` (float): difference between top beam result's probability and the median log-probability of the remaining runner-up beam results\n",
    "- `entropy` (float): Shannon entropy of normalised runner-up beam results\n",
    "- `z-score` (float): z-score of the sequence probabilities across the entire beam result for an MS2 spectrum"
   ]
  },
  {
   "cell_type": "markdown",
   "metadata": {},
   "source": [
    "## 6. Calibrator evaluation"
   ]
  },
  {
   "cell_type": "markdown",
   "metadata": {},
   "source": [
    "### A. Precision-recall curves"
   ]
  },
  {
   "cell_type": "code",
   "execution_count": 38,
   "metadata": {},
   "outputs": [
    {
     "data": {
      "image/png": "[encoded data removed]",
      "text/plain": [
       "<Figure size 640x480 with 1 Axes>"
      ]
     },
     "metadata": {},
     "output_type": "display_data"
    }
   ],
   "source": [
    "# -- Plot precision-recall curve\n",
    "def compute_precision_recall_curve(\n",
    "    dataset: pd.DataFrame,\n",
    "    confidence_column: str,\n",
    "    label_column: str,\n",
    "    name: str,\n",
    ") -> pd.DataFrame:\n",
    "    original = dataset[[confidence_column, label_column]]\n",
    "    original = original.sort_values(by=confidence_column, ascending=False)\n",
    "    cum_correct = np.cumsum(original[label_column])\n",
    "    precision = cum_correct / np.arange(1, len(original) + 1)\n",
    "    recall = cum_correct / len(original)\n",
    "    metrics = pd.DataFrame({\"precision\": precision, \"recall\": recall}).reset_index(\n",
    "        drop=True\n",
    "    )\n",
    "    metrics[\"name\"] = name\n",
    "    return metrics\n",
    "\n",
    "\n",
    "original = compute_precision_recall_curve(\n",
    "    dataset=test_dataset.metadata,\n",
    "    confidence_column=\"confidence\",\n",
    "    label_column=\"correct\",\n",
    "    name=\"Original\",\n",
    ")\n",
    "calibrated = compute_precision_recall_curve(\n",
    "    dataset=test_dataset.metadata,\n",
    "    confidence_column=\"calibrated_confidence\",\n",
    "    label_column=\"correct\",\n",
    "    name=\"Calibrated\",\n",
    ")\n",
    "metrics = pd.concat([original, calibrated], axis=0).reset_index(drop=True)\n",
    "metrics[\"fdr\"] = 1 - metrics[\"precision\"]\n",
    "\n",
    "ax = sns.lineplot(data=metrics, x=\"recall\", y=\"precision\", hue=\"name\")\n",
    "ax.set(xlabel=\"Recall\", ylabel=\"Precision\", title=\"Precision-recall curve\")\n",
    "ax.legend(title=\"Confidence\")\n",
    "plt.show()"
   ]
  },
  {
   "cell_type": "code",
   "execution_count": null,
   "metadata": {},
   "outputs": [],
   "source": [
    "# JVG: Maybe add some interpretation of the plot here? Example below"
   ]
  },
  {
   "cell_type": "markdown",
   "metadata": {},
   "source": [
    "1. At **low recall values (<0.1)**, the calibrated curve is consistently above the original, meaning calibration improves precision when only the most confident predictions are considered.\n",
    "\n",
    "2. For **medium recall (0.1 – 0.3)**, the calibrated model generally maintains slightly higher or similar precision than the original.\n",
    "\n",
    "3. At **higher recall (>0.3)**, both curves overlap closely, with minimal differences.\n",
    "\n",
    "4. At the very end (close to recall 0.5), both models collapse in precision (as expected, since more false positives are included).\n",
    "\n",
    "\n",
    "Calibration makes the confidence scores more reliable, particularly in the high-precision, low-recall regime (top predictions). This suggests that after calibration, when the model assigns a high confidence score, it’s more trustworthy."
   ]
  },
  {
   "cell_type": "markdown",
   "metadata": {},
   "source": [
    "### B. Confidence score transformation"
   ]
  },
  {
   "cell_type": "code",
   "execution_count": 19,
   "metadata": {},
   "outputs": [
    {
     "data": {
      "image/png": "[encoded data removed]",
      "text/plain": [
       "<Figure size 640x480 with 1 Axes>"
      ]
     },
     "metadata": {},
     "output_type": "display_data"
    }
   ],
   "source": [
    "# -- Plot confidence score transformation\n",
    "data = test_dataset.metadata[[\"confidence\", \"calibrated_confidence\", \"correct\"]].copy(\n",
    "    deep=True\n",
    ")\n",
    "data = data.dropna(subset=[\"confidence\", \"calibrated_confidence\", \"correct\"])\n",
    "data[\"correct\"] = (\n",
    "    data[\"correct\"]\n",
    "    .map({True: \"True\", False: \"False\"})\n",
    "    .astype(pd.CategoricalDtype(categories=[\"True\", \"False\"], ordered=True))\n",
    ")\n",
    "\n",
    "ax = sns.scatterplot(\n",
    "    data=data,\n",
    "    x=\"confidence\",\n",
    "    y=\"calibrated_confidence\",\n",
    "    hue=\"correct\",\n",
    "    alpha=0.2,\n",
    "    legend=True,\n",
    ")\n",
    "ax.plot([0.0, 1.0], [0.0, 1.0], color=\"grey\", linestyle=\"--\")\n",
    "ax.set(\n",
    "    xlabel=\"Confidence\",\n",
    "    ylabel=\"Calibrated confidence\",\n",
    "    title=\"Confidence score transformation\",\n",
    ")\n",
    "\n",
    "legend = ax.get_legend()\n",
    "if legend is not None:\n",
    "    legend.set_title(\"Correct PSM\")\n",
    "\n",
    "plt.show()"
   ]
  },
  {
   "cell_type": "code",
   "execution_count": 39,
   "metadata": {},
   "outputs": [],
   "source": [
    "# JVG: Whay are some of the Casanovo confidences in the range [-1, 0]?"
   ]
  },
  {
   "cell_type": "markdown",
   "metadata": {},
   "source": [
    "### C. Confidence distributions"
   ]
  },
  {
   "cell_type": "code",
   "execution_count": 20,
   "metadata": {},
   "outputs": [
    {
     "data": {
      "image/png": "[encoded data removed]",
      "text/plain": [
       "<Figure size 1200x500 with 2 Axes>"
      ]
     },
     "metadata": {},
     "output_type": "display_data"
    }
   ],
   "source": [
    "# -- Plot confidence distribution\n",
    "data = test_dataset.metadata[[\"confidence\", \"calibrated_confidence\", \"correct\"]].copy(\n",
    "    deep=True\n",
    ")\n",
    "data = data.dropna(subset=[\"confidence\", \"calibrated_confidence\", \"correct\"])\n",
    "data[\"correct\"] = (\n",
    "    data[\"correct\"]\n",
    "    .map({True: \"True\", False: \"False\"})\n",
    "    .astype(pd.CategoricalDtype(categories=[\"True\", \"False\"], ordered=True))\n",
    ")\n",
    "\n",
    "fig, axes = plt.subplots(1, 2, figsize=(12, 5), sharey=True)\n",
    "\n",
    "# Raw confidence distribution\n",
    "ax0 = sns.histplot(\n",
    "    data=data,\n",
    "    x=\"confidence\",\n",
    "    hue=\"correct\",\n",
    "    hue_order=[\"True\", \"False\"],\n",
    "    bins=100,\n",
    "    multiple=\"layer\",\n",
    "    alpha=0.5,\n",
    "    legend=True,\n",
    "    ax=axes[0],\n",
    ")\n",
    "axes[0].set(xlabel=\"Confidence\", ylabel=\"Count\")\n",
    "sns.move_legend(axes[0], \"best\", title=\"Correct PSM\")\n",
    "\n",
    "# Calibrated confidence distribution\n",
    "ax1 = sns.histplot(\n",
    "    data=data,\n",
    "    x=\"calibrated_confidence\",\n",
    "    hue=\"correct\",\n",
    "    hue_order=[\"True\", \"False\"],\n",
    "    bins=100,\n",
    "    multiple=\"layer\",\n",
    "    alpha=0.5,\n",
    "    legend=True,\n",
    "    ax=axes[1],\n",
    ")\n",
    "axes[1].set(xlabel=\"Calibrated confidence\", ylabel=\"Count\")\n",
    "sns.move_legend(axes[1], \"best\", title=\"Correct PSM\")\n",
    "\n",
    "fig.suptitle(\"Confidence distribution\")\n",
    "plt.tight_layout()\n",
    "\n",
    "plt.show()"
   ]
  },
  {
   "cell_type": "markdown",
   "metadata": {},
   "source": [
    "### D. Calibration curves"
   ]
  },
  {
   "cell_type": "code",
   "execution_count": 21,
   "metadata": {},
   "outputs": [
    {
     "name": "stderr",
     "output_type": "stream",
     "text": [
      "/home/j-vangoey/code/worktree_winnow/.venv/lib/python3.12/site-packages/pandas/core/util/hashing.py:330: RuntimeWarning: invalid value encountered in cast\n",
      "  vals.astype(str).astype(object), hash_key, encoding\n",
      "/home/j-vangoey/code/worktree_winnow/.venv/lib/python3.12/site-packages/pandas/core/util/hashing.py:330: RuntimeWarning: invalid value encountered in cast\n",
      "  vals.astype(str).astype(object), hash_key, encoding\n",
      "/home/j-vangoey/code/worktree_winnow/.venv/lib/python3.12/site-packages/pandas/core/util/hashing.py:330: RuntimeWarning: invalid value encountered in cast\n",
      "  vals.astype(str).astype(object), hash_key, encoding\n",
      "/home/j-vangoey/code/worktree_winnow/.venv/lib/python3.12/site-packages/pandas/core/util/hashing.py:330: RuntimeWarning: invalid value encountered in cast\n",
      "  vals.astype(str).astype(object), hash_key, encoding\n"
     ]
    },
    {
     "data": {
      "image/png": "[encoded data removed]",
      "text/plain": [
       "<Figure size 640x480 with 1 Axes>"
      ]
     },
     "metadata": {},
     "output_type": "display_data"
    }
   ],
   "source": [
    "# Plot calibration curve\n",
    "def compute_calibration_curve(\n",
    "    df: pd.DataFrame, pred_col: str, label_col: str, name: str, n_bins: int = 20\n",
    ") -> pd.DataFrame:\n",
    "    data = df[[pred_col, label_col]].dropna().copy(deep=True)\n",
    "    data[pred_col] = data[pred_col].clip(0.0, 1.0)\n",
    "    bins = np.linspace(0.0, 1.0, n_bins + 1)\n",
    "    bin_cats = pd.cut(data[pred_col], bins=bins, include_lowest=True)\n",
    "    bin_cats.name = \"bin\"\n",
    "    grouped = (\n",
    "        data.groupby(bin_cats, observed=True)\n",
    "        .agg(\n",
    "            pred_mean=(pred_col, \"mean\"),\n",
    "            empirical=(label_col, \"mean\"),\n",
    "            count=(label_col, \"size\"),\n",
    "        )\n",
    "        .reset_index()\n",
    "    )\n",
    "    grouped = grouped[grouped[\"count\"] > 0]\n",
    "    grouped[\"bin_center\"] = grouped[\"bin\"].apply(lambda iv: (iv.left + iv.right) / 2)\n",
    "    grouped[\"name\"] = name\n",
    "    return grouped[[\"pred_mean\", \"empirical\", \"count\", \"bin_center\", \"name\"]]\n",
    "\n",
    "\n",
    "metrics_orig = compute_calibration_curve(\n",
    "    test_dataset.metadata, \"confidence\", \"correct\", name=\"Original\", n_bins=10\n",
    ")\n",
    "metrics_cal = compute_calibration_curve(\n",
    "    test_dataset.metadata,\n",
    "    \"calibrated_confidence\",\n",
    "    \"correct\",\n",
    "    name=\"Calibrated\",\n",
    "    n_bins=10,\n",
    ")\n",
    "metrics = pd.concat([metrics_orig, metrics_cal], ignore_index=True)\n",
    "\n",
    "ax = sns.lineplot(data=metrics, x=\"pred_mean\", y=\"empirical\", hue=\"name\", marker=\"o\")\n",
    "ax.plot([0.0, 1.0], [0.0, 1.0], linestyle=\"--\", color=\"gray\", label=\"Ideal\")\n",
    "ax.set(\n",
    "    xlabel=\"Predicted probability\",\n",
    "    ylabel=\"Empirical probability\",\n",
    "    title=\"Calibration curve\",\n",
    ")\n",
    "ax.legend(title=\"Confidence\")\n",
    "plt.show()"
   ]
  },
  {
   "cell_type": "markdown",
   "metadata": {},
   "source": [
    "\n",
    "## 7. FDR control: two approaches\n",
    "\n",
    "1. **Database-grounded FDR**\n",
    "  - Use when you have ground-truth peptide labels for this dataset (good for evaluation/benchmarking).\n",
    "  - Outputs: a confidence cutoff at a target FDR; optional per-PSM FDR via `add_psm_fdr`.\n",
    "  - Extrapolates poorly to real *de novo* workflows\n",
    "\n",
    "2. **Empirical Bayes (label-free) FDR**\n",
    "  - Use on unlabelled datasets; fits a beta-mixture model to (calibrated) confidences.\n",
    "  - No ground truth labels required\n",
    "  - Outputs: a confidence cutoff at a target FDR; per-PSM metrics: FDR (`psm_fdr`), posterior error probability (`psm_pep`), and p-value (`psm_p_value`).\n",
    "\n",
    "Fit on the column you intend to use downstream (e.g., `calibrated_confidence`)."
   ]
  },
  {
   "cell_type": "code",
   "execution_count": 22,
   "metadata": {},
   "outputs": [
    {
     "name": "stdout",
     "output_type": "stream",
     "text": [
      "Database-grounded FDR control confidence cutoff at 5% FDR using calibrated confidence: 0.963945040925126\n"
     ]
    }
   ],
   "source": [
    "# -- Database-grounded FDR control\n",
    "database_grounded_fdr_control = DatabaseGroundedFDRControl(\n",
    "    confidence_feature=\"calibrated_confidence\"\n",
    ")\n",
    "database_grounded_fdr_control.fit(\n",
    "    dataset=test_dataset.metadata, residue_masses=RESIDUE_MASSES\n",
    ")\n",
    "print(\n",
    "    \"Database-grounded FDR control confidence cutoff at 5% FDR using calibrated confidence:\",\n",
    "    database_grounded_fdr_control.get_confidence_cutoff(threshold=0.05),\n",
    ")"
   ]
  },
  {
   "cell_type": "code",
   "execution_count": 23,
   "metadata": {},
   "outputs": [
    {
     "name": "stderr",
     "output_type": "stream",
     "text": [
      "INFO:2025-09-20 23:41:30,571:jax._src.xla_bridge:924: Unable to initialize backend 'cuda': \n",
      "INFO:2025-09-20 23:41:30,571:jax._src.xla_bridge:924: Unable to initialize backend 'rocm': module 'jaxlib.xla_extension' has no attribute 'GpuAllocatorConfig'\n",
      "INFO:2025-09-20 23:41:30,572:jax._src.xla_bridge:924: Unable to initialize backend 'tpu': INTERNAL: Failed to open libtpu.so: libtpu.so: cannot open shared object file: No such file or directory\n",
      "WARNING:2025-09-20 23:41:30,572:jax._src.xla_bridge:966: An NVIDIA GPU may be present on this machine, but a CUDA-enabled jaxlib is not installed. Falling back to cpu.\n",
      "100%|██████████| 5000/5000 [00:02<00:00, 2094.49it/s, init loss: 679.8922, avg. loss [4751-5000]: -2382.8315]\n"
     ]
    },
    {
     "name": "stdout",
     "output_type": "stream",
     "text": [
      "Mixture FDR control confidence cutoff at 5% FDR using calibrated confidence: 0.9999993285528035\n"
     ]
    }
   ],
   "source": [
    "# -- Mixture FDR control (Winnow-specific)\n",
    "mixture_fdr_control = EmpiricalBayesFDRControl()\n",
    "mixture_fdr_control.fit(dataset=test_dataset.metadata[\"calibrated_confidence\"])\n",
    "print(\n",
    "    \"Mixture FDR control confidence cutoff at 5% FDR using calibrated confidence:\",\n",
    "    mixture_fdr_control.get_confidence_cutoff(threshold=0.05),\n",
    ")"
   ]
  },
  {
   "cell_type": "code",
   "execution_count": 24,
   "metadata": {},
   "outputs": [],
   "source": [
    "# -- Add PSM-specific FDR metrics to the dataset\n",
    "test_dataset_winnow_metrics = mixture_fdr_control.add_psm_fdr(\n",
    "    test_dataset.metadata, confidence_col=\"calibrated_confidence\"\n",
    ")\n",
    "test_dataset_winnow_metrics = mixture_fdr_control.add_psm_pep(\n",
    "    test_dataset_winnow_metrics, confidence_col=\"calibrated_confidence\"\n",
    ")\n",
    "test_dataset_winnow_metrics = mixture_fdr_control.add_psm_p_value(\n",
    "    test_dataset_winnow_metrics, confidence_col=\"calibrated_confidence\"\n",
    ")\n",
    "\n",
    "test_dataset_dbg_metrics = database_grounded_fdr_control.add_psm_fdr(\n",
    "    test_dataset.metadata, confidence_col=\"calibrated_confidence\"\n",
    ")"
   ]
  },
  {
   "cell_type": "code",
   "execution_count": 25,
   "metadata": {},
   "outputs": [
    {
     "data": {
      "image/png": "[encoded data removed]",
      "text/plain": [
       "<Figure size 640x480 with 1 Axes>"
      ]
     },
     "metadata": {},
     "output_type": "display_data"
    }
   ],
   "source": [
    "metrics = test_dataset_winnow_metrics[[\"calibrated_confidence\", \"psm_fdr\"]].copy(\n",
    "    deep=True\n",
    ")\n",
    "ax = sns.lineplot(\n",
    "    x=np.asarray(test_dataset_winnow_metrics[\"calibrated_confidence\"], dtype=float),\n",
    "    y=np.asarray(test_dataset_winnow_metrics[\"psm_fdr\"], dtype=float),\n",
    "    errorbar=None,\n",
    "    label=\"Winnow\",\n",
    ")\n",
    "ax = sns.lineplot(\n",
    "    x=np.asarray(test_dataset_dbg_metrics[\"calibrated_confidence\"], dtype=float),\n",
    "    y=np.asarray(test_dataset_dbg_metrics[\"psm_fdr\"], dtype=float),\n",
    "    errorbar=None,\n",
    "    label=\"Database-grounded\",\n",
    ")\n",
    "ax.set_xlabel(\"Calibrated confidence\")\n",
    "ax.set_ylabel(\"PSM FDR\")\n",
    "ax.set_title(\"PSM FDR vs. calibrated confidence\")\n",
    "ax.grid(True)\n",
    "plt.show()"
   ]
  },
  {
   "cell_type": "markdown",
   "metadata": {},
   "source": [
    "## 8. Applying to new data\n",
    "\n",
    "This section simulates how you'd use winnow in a real *de novo* sequencing pipeline, when PSMs from other engines are not available."
   ]
  },
  {
   "cell_type": "code",
   "execution_count": 26,
   "metadata": {},
   "outputs": [
    {
     "name": "stderr",
     "output_type": "stream",
     "text": [
      "Loading raw dataset.\n"
     ]
    },
    {
     "ename": "AttributeError",
     "evalue": "type object 'CalibrationDataset' has no attribute 'from_predictions_csv'",
     "output_type": "error",
     "traceback": [
      "\u001b[31m---------------------------------------------------------------------------\u001b[39m",
      "\u001b[31mAttributeError\u001b[39m                            Traceback (most recent call last)",
      "\u001b[36mCell\u001b[39m\u001b[36m \u001b[39m\u001b[32mIn[26]\u001b[39m\u001b[32m, line 3\u001b[39m\n\u001b[32m      1\u001b[39m \u001b[38;5;66;03m# -- Load the raw, unlabelled data\u001b[39;00m\n\u001b[32m      2\u001b[39m logger.info(\u001b[33m\"\u001b[39m\u001b[33mLoading raw dataset.\u001b[39m\u001b[33m\"\u001b[39m)\n\u001b[32m----> \u001b[39m\u001b[32m3\u001b[39m dataset = \u001b[43mCalibrationDataset\u001b[49m\u001b[43m.\u001b[49m\u001b[43mfrom_predictions_csv\u001b[49m(\n\u001b[32m      4\u001b[39m     spectrum_path=\u001b[33m\"\u001b[39m\u001b[33mwinnow-ms-datasets/helaqc_raw_less_train.parquet\u001b[39m\u001b[33m\"\u001b[39m,\n\u001b[32m      5\u001b[39m     beam_predictions_path=\u001b[33m\"\u001b[39m\u001b[33mwinnow-ms-datasets/helaqc_raw_less_train_beams.csv\u001b[39m\u001b[33m\"\u001b[39m,\n\u001b[32m      6\u001b[39m )\n\u001b[32m      8\u001b[39m logger.info(\u001b[33m\"\u001b[39m\u001b[33mFiltering dataset.\u001b[39m\u001b[33m\"\u001b[39m)\n\u001b[32m      9\u001b[39m raw_filtered_dataset = (\n\u001b[32m     10\u001b[39m     dataset.filter_entries(\n\u001b[32m     11\u001b[39m         metadata_predicate=\u001b[38;5;28;01mlambda\u001b[39;00m row: \u001b[38;5;129;01mnot\u001b[39;00m \u001b[38;5;28misinstance\u001b[39m(row[\u001b[33m\"\u001b[39m\u001b[33mprediction\u001b[39m\u001b[33m\"\u001b[39m], \u001b[38;5;28mlist\u001b[39m),\n\u001b[32m   (...)\u001b[39m\u001b[32m     22\u001b[39m     )  \u001b[38;5;66;03m# Prosit-specific filtering\u001b[39;00m\n\u001b[32m     23\u001b[39m )\n",
      "\u001b[31mAttributeError\u001b[39m: type object 'CalibrationDataset' has no attribute 'from_predictions_csv'"
     ]
    }
   ],
   "source": [
    "# -- Load the raw, unlabelled data\n",
    "logger.info(\"Loading raw dataset.\")\n",
    "dataset = CalibrationDataset.from_predictions_csv(\n",
    "    spectrum_path=\"winnow-ms-datasets/helaqc_raw_less_train.parquet\",\n",
    "    beam_predictions_path=\"winnow-ms-datasets/helaqc_raw_less_train_beams.csv\",\n",
    ")\n",
    "\n",
    "logger.info(\"Filtering dataset.\")\n",
    "raw_filtered_dataset = (\n",
    "    dataset.filter_entries(\n",
    "        metadata_predicate=lambda row: not isinstance(row[\"prediction\"], list),\n",
    "    )\n",
    "    .filter_entries(metadata_predicate=lambda row: not row[\"prediction\"])\n",
    "    .filter_entries(\n",
    "        metadata_predicate=lambda row: row[\"precursor_charge\"] > 6\n",
    "    )  # Prosit-specific filtering\n",
    "    .filter_entries(\n",
    "        metadata_predicate=lambda row: len(row[\"prediction\"]) > 30\n",
    "    )  # Prosit-specific filtering\n",
    "    .filter_entries(\n",
    "        predictions_predicate=lambda row: len(row[1].sequence) > 30\n",
    "    )  # Prosit-specific filtering\n",
    ")"
   ]
  },
  {
   "cell_type": "code",
   "execution_count": null,
   "metadata": {},
   "outputs": [],
   "source": [
    "# -- Predict on the raw, unlabelled data\n",
    "calibrator.predict(raw_filtered_dataset)"
   ]
  },
  {
   "cell_type": "code",
   "execution_count": null,
   "metadata": {},
   "outputs": [],
   "source": [
    "# -- Mixture FDR control (Winnow-specific)\n",
    "mixture_fdr_control = EmpiricalBayesFDRControl()\n",
    "mixture_fdr_control.fit(dataset=raw_filtered_dataset.metadata[\"calibrated_confidence\"])\n",
    "confidence_cutoff = mixture_fdr_control.get_confidence_cutoff(threshold=0.05)\n",
    "print(\n",
    "    f\"Mixture FDR control confidence cutoff at 5% FDR using calibrated confidence: {confidence_cutoff}\"\n",
    ")"
   ]
  },
  {
   "cell_type": "code",
   "execution_count": null,
   "metadata": {},
   "outputs": [],
   "source": [
    "# -- Plot confidence distribution and confidence cutoff at 5% FDR\n",
    "data = raw_filtered_dataset.metadata[\"calibrated_confidence\"].copy(deep=True)\n",
    "\n",
    "ax = sns.histplot(data, bins=100)\n",
    "ax.axvline(confidence_cutoff, color=\"grey\", linestyle=\"--\")\n",
    "ax.set(xlabel=\"Calibrated confidence\", ylabel=\"Count\", title=\"Confidence distribution\")\n",
    "plt.show()"
   ]
  },
  {
   "cell_type": "code",
   "execution_count": null,
   "metadata": {},
   "outputs": [],
   "source": [
    "# -- Add PSM-specific FDR metrics to the dataset\n",
    "raw_filtered_dataset_metadata = mixture_fdr_control.add_psm_fdr(\n",
    "    raw_filtered_dataset.metadata, confidence_col=\"calibrated_confidence\"\n",
    ")\n",
    "raw_filtered_dataset_metadata = mixture_fdr_control.add_psm_pep(\n",
    "    raw_filtered_dataset_metadata, confidence_col=\"calibrated_confidence\"\n",
    ")\n",
    "raw_filtered_dataset_metadata = mixture_fdr_control.add_psm_p_value(\n",
    "    raw_filtered_dataset_metadata, confidence_col=\"calibrated_confidence\"\n",
    ")"
   ]
  },
  {
   "cell_type": "code",
   "execution_count": null,
   "metadata": {},
   "outputs": [],
   "source": [
    "# -- Filter dataset to only include PSMs with calibrated confidence above the cutoff\n",
    "filtered_dataset = raw_filtered_dataset.filter_entries(\n",
    "    metadata_predicate=lambda row: row[\"calibrated_confidence\"] >= confidence_cutoff\n",
    ")\n",
    "\n",
    "print(f\"Number of PSMs in filtered dataset: {len(filtered_dataset)}\")"
   ]
  },
  {
   "cell_type": "markdown",
   "metadata": {},
   "source": [
    "## 9. Adding custom features\n",
    "\n",
    "How to implement your own calibration features:"
   ]
  },
  {
   "cell_type": "code",
   "execution_count": null,
   "metadata": {},
   "outputs": [],
   "source": [
    "class CustomFeature(CalibrationFeatures):\n",
    "    @property\n",
    "    def name(self) -> str:\n",
    "        return \"My Custom Feature\"\n",
    "\n",
    "    def compute(self, dataset: CalibrationDataset) -> None:\n",
    "        # Your feature computation logic\n",
    "        pass"
   ]
  },
  {
   "cell_type": "markdown",
   "metadata": {},
   "source": [
    "## 10. Saving and reusing a calibrator\n",
    "\n",
    "If you plan to apply the same feature configuration to external data, you can save and reload the calibrator."
   ]
  },
  {
   "cell_type": "code",
   "execution_count": null,
   "metadata": {},
   "outputs": [],
   "source": [
    "# -- Save\n",
    "out_dir = Path(\"outputs/helaqc_calibrator\")\n",
    "ProbabilityCalibrator.save(calibrator, out_dir)\n",
    "\n",
    "# -- Load\n",
    "loaded = ProbabilityCalibrator.load(out_dir)\n",
    "print(\"Loaded features:\", loaded.features)"
   ]
  },
  {
   "cell_type": "markdown",
   "metadata": {},
   "source": [
    "## 11. CLI usage\n",
    "\n",
    "You can run the same workflow headlessly via the CLI."
   ]
  },
  {
   "cell_type": "markdown",
   "metadata": {},
   "source": [
    "```bash\n",
    "# Train a calibrator\n",
    "winnow train \\\n",
    "  --data-source instanovo \\\n",
    "  --dataset-config-path configs/helaqc_labelled.yaml \\\n",
    "  --model-output-folder outputs/helaqc_calibrator \\\n",
    "  --dataset-output-path outputs/helaqc_train_outputs.csv\n",
    "\n",
    "# Predict + FDR on new data\n",
    "winnow predict \\\n",
    "  --data-source instanovo \\\n",
    "  --dataset-config-path configs/helaqc_raw.yaml \\\n",
    "  --model-folder outputs/helaqc_calibrator \\\n",
    "  --method winnow \\\n",
    "  --fdr-threshold 0.05 \\\n",
    "  --confidence-column calibrated_confidence \\\n",
    "  --output-path outputs/helaqc_filtered.csv\n",
    "```"
   ]
  },
  {
   "cell_type": "markdown",
   "metadata": {},
   "source": [
    "## 12. Using Winnow without Prosit (offline/minimal)\n",
    "\n",
    "If you don't have Prosit access, have data with many diverse modifications, or want a minimal setup, you can disable Prosit-dependent features and still benefit from calibration using features available locally."
   ]
  },
  {
   "cell_type": "code",
   "execution_count": null,
   "metadata": {},
   "outputs": [],
   "source": [
    "# Minimal feature set: no Prosit dependency\n",
    "cal_min = ProbabilityCalibrator(SEED)\n",
    "cal_min.add_feature(MassErrorFeature(residue_masses=RESIDUE_MASSES))\n",
    "cal_min.add_feature(BeamFeatures())\n",
    "\n",
    "cal_min.fit(train_dataset)\n",
    "cal_min.predict(test_dataset)\n",
    "print(\"Finished training minimal calibrator. Columns:\", cal_min.columns)"
   ]
  },
  {
   "cell_type": "markdown",
   "metadata": {},
   "source": [
    "## 13. Pretrained general calibrator (InstaNovo)\n",
    "\n",
    "We have published a pretrained calibrator for InstaNovo that uses the default feature set (Mass Error, Prosit spectral, Prosit iRT, Chimeric, Beam) on Hugging Face. You can load it and apply it to your own datasets without retraining!\n",
    "\n",
    "**Notes**:\n",
    "- Prosit-dependent features are still computed at inference, so Prosit access is required.\n",
    "- Ensure your modification tokens and input columns match this tutorial's format."
   ]
  },
  {
   "cell_type": "code",
   "execution_count": null,
   "metadata": {},
   "outputs": [],
   "source": [
    "# -- Download the general model\n",
    "calib_repo = \"InstaDeepAI/winnow-general-model\"\n",
    "calib_dir = Path(\"./winnow-general-model\")"
   ]
  },
  {
   "cell_type": "code",
   "execution_count": null,
   "metadata": {},
   "outputs": [],
   "source": [
    "snapshot_download(repo_id=calib_repo, repo_type=\"model\", local_dir=calib_dir)"
   ]
  },
  {
   "cell_type": "code",
   "execution_count": null,
   "metadata": {},
   "outputs": [],
   "source": [
    "# -- Load the general model\n",
    "general_model = ProbabilityCalibrator.load(calib_dir)\n",
    "print(\"Loaded pretrained features:\", general_model.features)"
   ]
  },
  {
   "cell_type": "markdown",
   "metadata": {},
   "source": [
    "Let's replicate results in our paper on the Immunopeptidomics-2 dataset"
   ]
  },
  {
   "cell_type": "code",
   "execution_count": null,
   "metadata": {},
   "outputs": [],
   "source": [
    "# -- Download the Immunopeptidomics-2 dataset\n",
    "snapshot_download(\n",
    "    repo_id=repo_id,\n",
    "    repo_type=\"dataset\",\n",
    "    allow_patterns=[\"immuno2_labelled*.parquet\", \"immuno2_labelled*.csv\"],\n",
    "    local_dir=save_dir,\n",
    ")"
   ]
  },
  {
   "cell_type": "code",
   "execution_count": null,
   "metadata": {},
   "outputs": [],
   "source": [
    "# -- Load data\n",
    "logger.info(\"Loading dataset.\")\n",
    "immuno2_dataset = CalibrationDataset.from_predictions_csv(\n",
    "    spectrum_path=\"winnow-ms-datasets/immuno2_labelled.parquet\",\n",
    "    beam_predictions_path=\"winnow-ms-datasets/immuno2_labelled_beams.csv\",\n",
    ")\n",
    "\n",
    "logger.info(\"Filtering dataset.\")\n",
    "immuno2_filtered_dataset = (\n",
    "    immuno2_dataset.filter_entries(\n",
    "        metadata_predicate=lambda row: not isinstance(row[\"prediction\"], list),\n",
    "    )\n",
    "    .filter_entries(metadata_predicate=lambda row: not row[\"prediction\"])\n",
    "    .filter_entries(\n",
    "        metadata_predicate=lambda row: row[\"precursor_charge\"] > 6\n",
    "    )  # Prosit-specific filtering, see https://github.com/Nesvilab/FragPipe/issues/1775\n",
    "    .filter_entries(\n",
    "        metadata_predicate=lambda row: len(row[\"prediction\"]) > 30\n",
    "    )  # Prosit-specific filtering\n",
    "    .filter_entries(\n",
    "        predictions_predicate=lambda row: len(row[1].sequence) > 30\n",
    "    )  # Prosit-specific filtering\n",
    ")"
   ]
  },
  {
   "cell_type": "code",
   "execution_count": null,
   "metadata": {},
   "outputs": [],
   "source": [
    "# -- Predict\n",
    "general_model.predict(immuno2_filtered_dataset)"
   ]
  },
  {
   "cell_type": "code",
   "execution_count": null,
   "metadata": {},
   "outputs": [],
   "source": [
    "original = compute_precision_recall_curve(\n",
    "    dataset=immuno2_filtered_dataset.metadata,\n",
    "    confidence_column=\"confidence\",\n",
    "    label_column=\"correct\",\n",
    "    name=\"Original\",\n",
    ")\n",
    "calibrated = compute_precision_recall_curve(\n",
    "    dataset=immuno2_filtered_dataset.metadata,\n",
    "    confidence_column=\"calibrated_confidence\",\n",
    "    label_column=\"correct\",\n",
    "    name=\"Calibrated\",\n",
    ")\n",
    "metrics = pd.concat([original, calibrated], axis=0).reset_index(drop=True)\n",
    "metrics[\"fdr\"] = 1 - metrics[\"precision\"]\n",
    "\n",
    "ax = sns.lineplot(data=metrics, x=\"recall\", y=\"precision\", hue=\"name\")\n",
    "ax.set(xlabel=\"Recall\", ylabel=\"Precision\", title=\"Precision-recall curve\")\n",
    "ax.legend(title=\"Confidence\")\n",
    "plt.show()"
   ]
  },
  {
   "cell_type": "code",
   "execution_count": null,
   "metadata": {},
   "outputs": [],
   "source": [
    "metrics_orig = compute_calibration_curve(\n",
    "    immuno2_filtered_dataset.metadata,\n",
    "    \"confidence\",\n",
    "    \"correct\",\n",
    "    name=\"Original\",\n",
    "    n_bins=10,\n",
    ")\n",
    "metrics_cal = compute_calibration_curve(\n",
    "    immuno2_filtered_dataset.metadata,\n",
    "    \"calibrated_confidence\",\n",
    "    \"correct\",\n",
    "    name=\"Calibrated\",\n",
    "    n_bins=10,\n",
    ")\n",
    "metrics = pd.concat([metrics_orig, metrics_cal], ignore_index=True)\n",
    "\n",
    "ax = sns.lineplot(data=metrics, x=\"pred_mean\", y=\"empirical\", hue=\"name\", marker=\"o\")\n",
    "ax.plot([0.0, 1.0], [0.0, 1.0], linestyle=\"--\", color=\"gray\", label=\"Ideal\")\n",
    "ax.set(\n",
    "    xlabel=\"Predicted probability\",\n",
    "    ylabel=\"Empirical probability\",\n",
    "    title=\"Calibration curve\",\n",
    ")\n",
    "ax.legend(title=\"Confidence\")\n",
    "plt.show()"
   ]
  },
  {
   "cell_type": "code",
   "execution_count": null,
   "metadata": {},
   "outputs": [],
   "source": [
    "# -- Compute FDR\n",
    "mixture_fdr_control = EmpiricalBayesFDRControl()\n",
    "mixture_fdr_control.fit(\n",
    "    dataset=immuno2_filtered_dataset.metadata[\"calibrated_confidence\"]\n",
    ")\n",
    "confidence_cutoff = mixture_fdr_control.get_confidence_cutoff(threshold=0.05)\n",
    "print(\n",
    "    f\"Mixture FDR control confidence cutoff at 5% FDR using calibrated confidence: {confidence_cutoff}\"\n",
    ")\n",
    "\n",
    "database_grounded_fdr_control = DatabaseGroundedFDRControl(\n",
    "    confidence_feature=\"calibrated_confidence\"\n",
    ")\n",
    "database_grounded_fdr_control.fit(\n",
    "    dataset=immuno2_filtered_dataset.metadata, residue_masses=RESIDUE_MASSES\n",
    ")\n",
    "confidence_cutoff_dbg = database_grounded_fdr_control.get_confidence_cutoff(\n",
    "    threshold=0.05\n",
    ")\n",
    "print(\n",
    "    f\"Database-grounded FDR control confidence cutoff at 5% FDR using calibrated confidence: {confidence_cutoff_dbg}\"\n",
    ")\n",
    "\n",
    "# -- Calculate PSM-specific FDR metrics\n",
    "immuno2_winnow_psm_fdr = mixture_fdr_control.add_psm_fdr(\n",
    "    immuno2_filtered_dataset.metadata, confidence_col=\"calibrated_confidence\"\n",
    ")[[\"spectrum_id\", \"calibrated_confidence\", \"psm_fdr\"]]\n",
    "\n",
    "immuno2_dbg_psm_fdr = database_grounded_fdr_control.add_psm_fdr(\n",
    "    immuno2_filtered_dataset.metadata, confidence_col=\"calibrated_confidence\"\n",
    ")[[\"spectrum_id\", \"calibrated_confidence\", \"psm_fdr\"]]"
   ]
  },
  {
   "cell_type": "code",
   "execution_count": null,
   "metadata": {},
   "outputs": [],
   "source": [
    "## TODO: Add database-grounded line\n",
    "\n",
    "metrics = immuno2_winnow_psm_fdr[[\"calibrated_confidence\", \"psm_fdr\"]].copy(deep=True)\n",
    "ax = sns.lineplot(\n",
    "    x=np.asarray(immuno2_winnow_psm_fdr[\"calibrated_confidence\"], dtype=float),\n",
    "    y=np.asarray(immuno2_winnow_psm_fdr[\"psm_fdr\"], dtype=float),\n",
    "    errorbar=None,\n",
    "    label=\"Winnow\",\n",
    ")\n",
    "ax = sns.lineplot(\n",
    "    x=np.asarray(immuno2_dbg_psm_fdr[\"calibrated_confidence\"], dtype=float),\n",
    "    y=np.asarray(immuno2_dbg_psm_fdr[\"psm_fdr\"], dtype=float),\n",
    "    errorbar=None,\n",
    "    label=\"Database-grounded\",\n",
    ")\n",
    "ax.set_xlabel(\"Calibrated confidence\")\n",
    "ax.set_ylabel(\"PSM FDR\")\n",
    "ax.set_title(\"PSM FDR vs. calibrated confidence\")\n",
    "ax.grid(True)\n",
    "plt.show()"
   ]
  },
  {
   "cell_type": "markdown",
   "metadata": {},
   "source": [
    "## Tips and troubleshooting\n",
    "- Ensure your spectrum data and beam predictions share a common, unique `spectrum_id` for merging.\n",
    "- Prosit-dependent features filter unsupported modifications; if you see many rows removed, review modification tokens.\n",
    "- If beam results often contain fewer than 2-3 candidates, chimeric/beam features may carry limited information (warnings will appear).\n",
    "- Always validate on a labelled subset or via consistency checks before deploying to new datasets."
   ]
  },
  {
   "cell_type": "markdown",
   "metadata": {},
   "source": [
    "## Resources\n",
    "- 📚 GitHub: https://github.com/instadeepai/winnow\n",
    "- 🔧 CLI: `winnow --help`"
   ]
  }
 ],
 "metadata": {
  "kernelspec": {
   "display_name": "worktree_winnow (3.12.11)",
   "language": "python",
   "name": "python3"
  },
  "language_info": {
   "codemirror_mode": {
    "name": "ipython",
    "version": 3
   },
   "file_extension": ".py",
   "mimetype": "text/x-python",
   "name": "python",
   "nbconvert_exporter": "python",
   "pygments_lexer": "ipython3",
   "version": "3.12.11"
  }
 },
 "nbformat": 4,
 "nbformat_minor": 2
}
